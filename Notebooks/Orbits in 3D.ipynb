{
 "cells": [
  {
   "cell_type": "code",
   "execution_count": 1,
   "metadata": {},
   "outputs": [
    {
     "name": "stdout",
     "output_type": "stream",
     "text": [
      "Using matplotlib backend: MacOSX\n"
     ]
    }
   ],
   "source": [
    "%matplotlib\n",
    "from miscpy.utils.sympyhelpers import *\n",
    "init_printing()\n",
    "import numpy as np\n",
    "import matplotlib\n",
    "import matplotlib.pyplot as plt"
   ]
  },
  {
   "cell_type": "code",
   "execution_count": 2,
   "metadata": {},
   "outputs": [],
   "source": [
    "r,I,O,w,nu,mu,a,e = symbols(\"r,I,Omega,omega,nu,mu,a,e\",real=True,positive=True)\n",
    "r2,I2,O2,w2,nu2 = symbols(\"r_2,I_2,Omega_2,omega_2,nu_2\",real=True)\n",
    "r3,I3,O3,w3,nu3 = symbols(\"r_3,I_3,Omega_3,omega_3,nu_3\",real=True)"
   ]
  },
  {
   "cell_type": "markdown",
   "metadata": {},
   "source": [
    "Define required rotation matrices ($\\Omega$ rotation about $\\mathbf{\\hat{e}}_3$, $I$ about $\\mathbf{\\hat{n}}$ and $\\theta$ rotation about $\\mathbf{\\hat{h}}$)"
   ]
  },
  {
   "cell_type": "code",
   "execution_count": 3,
   "metadata": {},
   "outputs": [],
   "source": [
    "rot1 = rotMat(3,O)\n",
    "rot2 = rotMat(1,I)\n",
    "rot3 = rotMat(3,w)"
   ]
  },
  {
   "cell_type": "code",
   "execution_count": 4,
   "metadata": {},
   "outputs": [
    {
     "data": {
      "image/png": "[encoded data removed]",
      "text/latex": [
       "$$\\left[\\begin{matrix}- \\sin{\\left (\\Omega \\right )} \\sin{\\left (\\omega \\right )} \\cos{\\left (I \\right )} + \\cos{\\left (\\Omega \\right )} \\cos{\\left (\\omega \\right )} & \\sin{\\left (\\Omega \\right )} \\cos{\\left (\\omega \\right )} + \\sin{\\left (\\omega \\right )} \\cos{\\left (I \\right )} \\cos{\\left (\\Omega \\right )} & \\sin{\\left (I \\right )} \\sin{\\left (\\omega \\right )}\\\\- \\sin{\\left (\\Omega \\right )} \\cos{\\left (I \\right )} \\cos{\\left (\\omega \\right )} - \\sin{\\left (\\omega \\right )} \\cos{\\left (\\Omega \\right )} & - \\sin{\\left (\\Omega \\right )} \\sin{\\left (\\omega \\right )} + \\cos{\\left (I \\right )} \\cos{\\left (\\Omega \\right )} \\cos{\\left (\\omega \\right )} & \\sin{\\left (I \\right )} \\cos{\\left (\\omega \\right )}\\\\\\sin{\\left (I \\right )} \\sin{\\left (\\Omega \\right )} & - \\sin{\\left (I \\right )} \\cos{\\left (\\Omega \\right )} & \\cos{\\left (I \\right )}\\end{matrix}\\right]$$"
      ],
      "text/plain": [
       "⎡-sin(Ω)⋅sin(ω)⋅cos(I) + cos(Ω)⋅cos(ω)  sin(Ω)⋅cos(ω) + sin(ω)⋅cos(I)⋅cos(Ω)  \n",
       "⎢                                                                             \n",
       "⎢-sin(Ω)⋅cos(I)⋅cos(ω) - sin(ω)⋅cos(Ω)  -sin(Ω)⋅sin(ω) + cos(I)⋅cos(Ω)⋅cos(ω) \n",
       "⎢                                                                             \n",
       "⎣            sin(I)⋅sin(Ω)                         -sin(I)⋅cos(Ω)             \n",
       "\n",
       " sin(I)⋅sin(ω)⎤\n",
       "              ⎥\n",
       " sin(I)⋅cos(ω)⎥\n",
       "              ⎥\n",
       "    cos(I)    ⎦"
      ]
     },
     "execution_count": 4,
     "metadata": {},
     "output_type": "execute_result"
    }
   ],
   "source": [
    "pCi = rot3*rot2*rot1\n",
    "pCi"
   ]
  },
  {
   "cell_type": "markdown",
   "metadata": {},
   "source": [
    "## Orbital Radius"
   ]
  },
  {
   "cell_type": "code",
   "execution_count": 5,
   "metadata": {},
   "outputs": [],
   "source": [
    "r_p = Matrix([r*cos(nu),r*sin(nu),0])"
   ]
  },
  {
   "cell_type": "code",
   "execution_count": 6,
   "metadata": {},
   "outputs": [],
   "source": [
    "r_i = pCi.transpose()*r_p"
   ]
  },
  {
   "cell_type": "code",
   "execution_count": 7,
   "metadata": {},
   "outputs": [
    {
     "data": {
      "image/png": "[encoded data removed]",
      "text/latex": [
       "$$\\left[\\begin{matrix}r \\left(- \\sin{\\left (\\Omega \\right )} \\sin{\\left (\\nu + \\omega \\right )} \\cos{\\left (I \\right )} + \\cos{\\left (\\Omega \\right )} \\cos{\\left (\\nu + \\omega \\right )}\\right)\\\\r \\left(\\sin{\\left (\\Omega \\right )} \\cos{\\left (\\nu + \\omega \\right )} + \\sin{\\left (\\nu + \\omega \\right )} \\cos{\\left (I \\right )} \\cos{\\left (\\Omega \\right )}\\right)\\\\r \\sin{\\left (I \\right )} \\sin{\\left (\\nu + \\omega \\right )}\\end{matrix}\\right]$$"
      ],
      "text/plain": [
       "⎡r⋅(-sin(Ω)⋅sin(ν + ω)⋅cos(I) + cos(Ω)⋅cos(ν + ω))⎤\n",
       "⎢                                                 ⎥\n",
       "⎢r⋅(sin(Ω)⋅cos(ν + ω) + sin(ν + ω)⋅cos(I)⋅cos(Ω)) ⎥\n",
       "⎢                                                 ⎥\n",
       "⎣               r⋅sin(I)⋅sin(ν + ω)               ⎦"
      ]
     },
     "execution_count": 7,
     "metadata": {},
     "output_type": "execute_result"
    }
   ],
   "source": [
    "r_i = simplify(r_i);\n",
    "r_i"
   ]
  },
  {
   "cell_type": "code",
   "execution_count": 8,
   "metadata": {},
   "outputs": [
    {
     "data": {
      "image/png": "[encoded data removed]",
      "text/latex": [
       "$$\\left[\\begin{matrix}- \\sin{\\left (\\Omega_{2} \\right )} \\sin{\\left (\\nu_{2} + \\omega_{2} \\right )} \\cos{\\left (I_{2} \\right )} + \\cos{\\left (\\Omega_{2} \\right )} \\cos{\\left (\\nu_{2} + \\omega_{2} \\right )}\\\\\\sin{\\left (\\Omega_{2} \\right )} \\cos{\\left (\\nu_{2} + \\omega_{2} \\right )} + \\sin{\\left (\\nu_{2} + \\omega_{2} \\right )} \\cos{\\left (I_{2} \\right )} \\cos{\\left (\\Omega_{2} \\right )}\\\\\\sin{\\left (I_{2} \\right )} \\sin{\\left (\\nu_{2} + \\omega_{2} \\right )}\\end{matrix}\\right]$$"
      ],
      "text/plain": [
       "⎡-sin(Ω₂)⋅sin(ν₂ + ω₂)⋅cos(I₂) + cos(Ω₂)⋅cos(ν₂ + ω₂)⎤\n",
       "⎢                                                    ⎥\n",
       "⎢sin(Ω₂)⋅cos(ν₂ + ω₂) + sin(ν₂ + ω₂)⋅cos(I₂)⋅cos(Ω₂) ⎥\n",
       "⎢                                                    ⎥\n",
       "⎣                sin(I₂)⋅sin(ν₂ + ω₂)                ⎦"
      ]
     },
     "execution_count": 8,
     "metadata": {},
     "output_type": "execute_result"
    }
   ],
   "source": [
    "r2 = (r_i/r).subs([(I,I2),(w,w2),(O,O2),(nu,nu2)])\n",
    "r2"
   ]
  },
  {
   "cell_type": "code",
   "execution_count": 9,
   "metadata": {},
   "outputs": [
    {
     "data": {
      "image/png": "[encoded data removed]",
      "text/latex": [
       "$$\\left[\\begin{matrix}- \\sin{\\left (\\Omega_{3} \\right )} \\sin{\\left (\\nu_{3} + \\omega_{3} \\right )} \\cos{\\left (I_{3} \\right )} + \\cos{\\left (\\Omega_{3} \\right )} \\cos{\\left (\\nu_{3} + \\omega_{3} \\right )}\\\\\\sin{\\left (\\Omega_{3} \\right )} \\cos{\\left (\\nu_{3} + \\omega_{3} \\right )} + \\sin{\\left (\\nu_{3} + \\omega_{3} \\right )} \\cos{\\left (I_{3} \\right )} \\cos{\\left (\\Omega_{3} \\right )}\\\\\\sin{\\left (I_{3} \\right )} \\sin{\\left (\\nu_{3} + \\omega_{3} \\right )}\\end{matrix}\\right]$$"
      ],
      "text/plain": [
       "⎡-sin(Ω₃)⋅sin(ν₃ + ω₃)⋅cos(I₃) + cos(Ω₃)⋅cos(ν₃ + ω₃)⎤\n",
       "⎢                                                    ⎥\n",
       "⎢sin(Ω₃)⋅cos(ν₃ + ω₃) + sin(ν₃ + ω₃)⋅cos(I₃)⋅cos(Ω₃) ⎥\n",
       "⎢                                                    ⎥\n",
       "⎣                sin(I₃)⋅sin(ν₃ + ω₃)                ⎦"
      ]
     },
     "execution_count": 9,
     "metadata": {},
     "output_type": "execute_result"
    }
   ],
   "source": [
    "r3 = (r_i/r).subs([(I,I3),(w,w3),(O,O3),(nu,nu3)])\n",
    "r3"
   ]
  },
  {
   "cell_type": "code",
   "execution_count": 10,
   "metadata": {},
   "outputs": [
    {
     "data": {
      "image/png": "[encoded data removed]",
      "text/latex": [
       "$$\\sin{\\left (I_{2} \\right )} \\sin{\\left (I_{3} \\right )} \\sin{\\left (\\nu_{2} + \\omega_{2} \\right )} \\sin{\\left (\\nu_{3} + \\omega_{3} \\right )} - \\sin{\\left (\\Omega_{2} - \\Omega_{3} \\right )} \\sin{\\left (\\nu_{2} + \\omega_{2} \\right )} \\cos{\\left (I_{2} \\right )} \\cos{\\left (\\nu_{3} + \\omega_{3} \\right )} + \\sin{\\left (\\Omega_{2} - \\Omega_{3} \\right )} \\sin{\\left (\\nu_{3} + \\omega_{3} \\right )} \\cos{\\left (I_{3} \\right )} \\cos{\\left (\\nu_{2} + \\omega_{2} \\right )} + \\sin{\\left (\\nu_{2} + \\omega_{2} \\right )} \\sin{\\left (\\nu_{3} + \\omega_{3} \\right )} \\cos{\\left (I_{2} \\right )} \\cos{\\left (I_{3} \\right )} \\cos{\\left (\\Omega_{2} - \\Omega_{3} \\right )} + \\cos{\\left (\\Omega_{2} - \\Omega_{3} \\right )} \\cos{\\left (\\nu_{2} + \\omega_{2} \\right )} \\cos{\\left (\\nu_{3} + \\omega_{3} \\right )}$$"
      ],
      "text/plain": [
       "sin(I₂)⋅sin(I₃)⋅sin(ν₂ + ω₂)⋅sin(ν₃ + ω₃) - sin(Ω₂ - Ω₃)⋅sin(ν₂ + ω₂)⋅cos(I₂)⋅\n",
       "cos(ν₃ + ω₃) + sin(Ω₂ - Ω₃)⋅sin(ν₃ + ω₃)⋅cos(I₃)⋅cos(ν₂ + ω₂) + sin(ν₂ + ω₂)⋅s\n",
       "in(ν₃ + ω₃)⋅cos(I₂)⋅cos(I₃)⋅cos(Ω₂ - Ω₃) + cos(Ω₂ - Ω₃)⋅cos(ν₂ + ω₂)⋅cos(ν₃ + \n",
       "ω₃)"
      ]
     },
     "execution_count": 10,
     "metadata": {},
     "output_type": "execute_result"
    }
   ],
   "source": [
    "simplify(r2.dot(r3))"
   ]
  },
  {
   "cell_type": "code",
   "execution_count": 11,
   "metadata": {},
   "outputs": [
    {
     "data": {
      "image/png": "[encoded data removed]",
      "text/latex": [
       "$$r$$"
      ],
      "text/plain": [
       "r"
      ]
     },
     "execution_count": 11,
     "metadata": {},
     "output_type": "execute_result"
    }
   ],
   "source": [
    "simplify(r_i.norm()) #sanity check"
   ]
  },
  {
   "cell_type": "markdown",
   "metadata": {},
   "source": [
    "## Projected Separation"
   ]
  },
  {
   "cell_type": "code",
   "execution_count": 12,
   "metadata": {},
   "outputs": [
    {
     "data": {
      "image/png": "[encoded data removed]",
      "text/latex": [
       "$$\\left[\\begin{matrix}r \\left(- \\sin{\\left (\\Omega \\right )} \\sin{\\left (\\nu + \\omega \\right )} \\cos{\\left (I \\right )} + \\cos{\\left (\\Omega \\right )} \\cos{\\left (\\nu + \\omega \\right )}\\right)\\\\r \\left(\\sin{\\left (\\Omega \\right )} \\cos{\\left (\\nu + \\omega \\right )} + \\sin{\\left (\\nu + \\omega \\right )} \\cos{\\left (I \\right )} \\cos{\\left (\\Omega \\right )}\\right)\\end{matrix}\\right]$$"
      ],
      "text/plain": [
       "⎡r⋅(-sin(Ω)⋅sin(ν + ω)⋅cos(I) + cos(Ω)⋅cos(ν + ω))⎤\n",
       "⎢                                                 ⎥\n",
       "⎣r⋅(sin(Ω)⋅cos(ν + ω) + sin(ν + ω)⋅cos(I)⋅cos(Ω)) ⎦"
      ]
     },
     "execution_count": 12,
     "metadata": {},
     "output_type": "execute_result"
    }
   ],
   "source": [
    "svec = Matrix([r_i[0], r_i[1]])\n",
    "svec"
   ]
  },
  {
   "cell_type": "code",
   "execution_count": 13,
   "metadata": {},
   "outputs": [
    {
     "data": {
      "image/png": "[encoded data removed]",
      "text/latex": [
       "$$\\frac{r \\sqrt{4 \\cos{\\left (2 I \\right )} + 4 \\cos{\\left (2 \\nu + 2 \\omega \\right )} - 2 \\cos{\\left (- 2 I + 2 \\nu + 2 \\omega \\right )} - 2 \\cos{\\left (2 I + 2 \\nu + 2 \\omega \\right )} + 12}}{4}$$"
      ],
      "text/plain": [
       "    __________________________________________________________________________\n",
       "r⋅╲╱ 4⋅cos(2⋅I) + 4⋅cos(2⋅ν + 2⋅ω) - 2⋅cos(-2⋅I + 2⋅ν + 2⋅ω) - 2⋅cos(2⋅I + 2⋅ν\n",
       "──────────────────────────────────────────────────────────────────────────────\n",
       "                                             4                                \n",
       "\n",
       "_____________\n",
       " + 2⋅ω) + 12 \n",
       "─────────────\n",
       "             "
      ]
     },
     "execution_count": 13,
     "metadata": {},
     "output_type": "execute_result"
    }
   ],
   "source": [
    "s = simplify(sqrt(svec.transpose().dot(svec)))\n",
    "s"
   ]
  },
  {
   "cell_type": "code",
   "execution_count": 14,
   "metadata": {},
   "outputs": [
    {
     "data": {
      "image/png": "[encoded data removed]",
      "text/latex": [
       "$$\\frac{r \\sqrt{4 \\cos{\\left (2 I \\right )} + 4 \\cos{\\left (2 \\nu + 2 \\omega \\right )} - 2 \\cos{\\left (- 2 I + 2 \\nu + 2 \\omega \\right )} - 2 \\cos{\\left (2 I + 2 \\nu + 2 \\omega \\right )} + 12}}{4}$$"
      ],
      "text/plain": [
       "    __________________________________________________________________________\n",
       "r⋅╲╱ 4⋅cos(2⋅I) + 4⋅cos(2⋅ν + 2⋅ω) - 2⋅cos(-2⋅I + 2⋅ν + 2⋅ω) - 2⋅cos(2⋅I + 2⋅ν\n",
       "──────────────────────────────────────────────────────────────────────────────\n",
       "                                             4                                \n",
       "\n",
       "_____________\n",
       " + 2⋅ω) + 12 \n",
       "─────────────\n",
       "             "
      ]
     },
     "execution_count": 14,
     "metadata": {},
     "output_type": "execute_result"
    }
   ],
   "source": [
    "s = simplify(svec.norm())\n",
    "s"
   ]
  },
  {
   "cell_type": "code",
   "execution_count": 15,
   "metadata": {},
   "outputs": [
    {
     "data": {
      "image/png": "[encoded data removed]",
      "text/latex": [
       "$$\\frac{r \\sqrt{4 \\cos{\\left (2 I \\right )} + 4 \\cos{\\left (2 \\theta \\right )} - 2 \\cos{\\left (2 I - 2 \\theta \\right )} - 2 \\cos{\\left (2 I + 2 \\theta \\right )} + 12}}{4}$$"
      ],
      "text/plain": [
       "    ____________________________________________________________________\n",
       "r⋅╲╱ 4⋅cos(2⋅I) + 4⋅cos(2⋅θ) - 2⋅cos(2⋅I - 2⋅θ) - 2⋅cos(2⋅I + 2⋅θ) + 12 \n",
       "────────────────────────────────────────────────────────────────────────\n",
       "                                   4                                    "
      ]
     },
     "execution_count": 15,
     "metadata": {},
     "output_type": "execute_result"
    }
   ],
   "source": [
    "s.subs(2*nu+2*w,2*th)"
   ]
  },
  {
   "cell_type": "markdown",
   "metadata": {},
   "source": [
    "## Phase Angle"
   ]
  },
  {
   "cell_type": "code",
   "execution_count": 16,
   "metadata": {},
   "outputs": [
    {
     "data": {
      "image/png": "[encoded data removed]",
      "text/latex": [
       "$$\\operatorname{acos}{\\left (\\sin{\\left (I \\right )} \\sin{\\left (\\theta \\right )} \\right )}$$"
      ],
      "text/plain": [
       "acos(sin(I)⋅sin(θ))"
      ]
     },
     "execution_count": 16,
     "metadata": {},
     "output_type": "execute_result"
    }
   ],
   "source": [
    "beta = simplify(acos(r_i[2]/r)).subs(nu+w,th)\n",
    "beta"
   ]
  },
  {
   "cell_type": "code",
   "execution_count": 17,
   "metadata": {},
   "outputs": [],
   "source": [
    "thval = np.linspace(0,2*np.pi, 100)"
   ]
  },
  {
   "cell_type": "code",
   "execution_count": 18,
   "metadata": {},
   "outputs": [
    {
     "data": {
      "text/plain": [
       "<function <lambda>>"
      ]
     },
     "execution_count": 18,
     "metadata": {},
     "output_type": "execute_result"
    }
   ],
   "source": [
    "betaf = lambdify((I,th),beta)\n",
    "betaf"
   ]
  },
  {
   "cell_type": "code",
   "execution_count": 21,
   "metadata": {},
   "outputs": [
    {
     "data": {
      "image/png": "[encoded data removed]",
      "text/latex": [
       "$$\\left ( 0, \\quad 360\\right )$$"
      ],
      "text/plain": [
       "(0, 360)"
      ]
     },
     "execution_count": 21,
     "metadata": {},
     "output_type": "execute_result"
    },
    {
     "data": {
      "image/png": "[encoded data removed]",
      "text/plain": [
       "<Figure size 432x288 with 1 Axes>"
      ]
     },
     "metadata": {
      "needs_background": "light"
     },
     "output_type": "display_data"
    }
   ],
   "source": [
    "plt.figure()\n",
    "plt.clf()\n",
    "for j in range(0,100,10):\n",
    "    plt.plot(thval*180/np.pi,betaf(j*np.pi/180.0,thval)*180/np.pi,label='I = %d$^\\circ$'%j)\n",
    "plt.plot([0,360],[63.3, 63.3],'k--')\n",
    "plt.legend()\n",
    "plt.xlabel('$\\\\theta$ (deg)')\n",
    "plt.ylabel('$\\\\beta$ (deg)')\n",
    "plt.xlim([0,360])\n",
    "#plt.savefig('beta_plot1.png')"
   ]
  },
  {
   "cell_type": "code",
   "execution_count": null,
   "metadata": {},
   "outputs": [],
   "source": []
  },
  {
   "cell_type": "markdown",
   "metadata": {},
   "source": [
    "## Orbital Velocity"
   ]
  },
  {
   "cell_type": "code",
   "execution_count": 22,
   "metadata": {},
   "outputs": [
    {
     "data": {
      "image/png": "[encoded data removed]",
      "text/latex": [
       "$$\\left[\\begin{matrix}- \\frac{\\sqrt{\\mu} \\sqrt{- \\frac{1}{e^{2} - 1}} \\sin{\\left (\\nu \\right )}}{\\sqrt{a}}\\\\\\frac{\\sqrt{\\mu} \\sqrt{- \\frac{1}{e^{2} - 1}} \\left(e + \\cos{\\left (\\nu \\right )}\\right)}{\\sqrt{a}}\\\\0\\end{matrix}\\right]$$"
      ],
      "text/plain": [
       "⎡           ________          ⎤\n",
       "⎢          ╱  -1              ⎥\n",
       "⎢  -√μ⋅   ╱  ────── ⋅sin(ν)   ⎥\n",
       "⎢        ╱    2               ⎥\n",
       "⎢      ╲╱    e  - 1           ⎥\n",
       "⎢  ─────────────────────────  ⎥\n",
       "⎢              √a             ⎥\n",
       "⎢                             ⎥\n",
       "⎢        ________             ⎥\n",
       "⎢       ╱  -1                 ⎥\n",
       "⎢√μ⋅   ╱  ────── ⋅(e + cos(ν))⎥\n",
       "⎢     ╱    2                  ⎥\n",
       "⎢   ╲╱    e  - 1              ⎥\n",
       "⎢─────────────────────────────⎥\n",
       "⎢              √a             ⎥\n",
       "⎢                             ⎥\n",
       "⎣              0              ⎦"
      ]
     },
     "execution_count": 22,
     "metadata": {},
     "output_type": "execute_result"
    }
   ],
   "source": [
    "v_p = sqrt(mu/(a*(1 - e**2)))*Matrix([-sin(nu),(e+cos(nu)),0])\n",
    "simplify(v_p)"
   ]
  },
  {
   "cell_type": "code",
   "execution_count": 23,
   "metadata": {},
   "outputs": [
    {
     "data": {
      "image/png": "[encoded data removed]",
      "text/latex": [
       "$$\\left[\\begin{matrix}\\frac{\\sqrt{\\mu} \\left(e + \\cos{\\left (\\nu \\right )}\\right) \\left(- \\sin{\\left (\\Omega \\right )} \\cos{\\left (I \\right )} \\cos{\\left (\\omega \\right )} - \\sin{\\left (\\omega \\right )} \\cos{\\left (\\Omega \\right )}\\right) \\sqrt{\\frac{1}{- e^{2} + 1}}}{\\sqrt{a}} - \\frac{\\sqrt{\\mu} \\left(- \\sin{\\left (\\Omega \\right )} \\sin{\\left (\\omega \\right )} \\cos{\\left (I \\right )} + \\cos{\\left (\\Omega \\right )} \\cos{\\left (\\omega \\right )}\\right) \\sqrt{\\frac{1}{- e^{2} + 1}} \\sin{\\left (\\nu \\right )}}{\\sqrt{a}}\\\\\\frac{\\sqrt{\\mu} \\left(e + \\cos{\\left (\\nu \\right )}\\right) \\left(- \\sin{\\left (\\Omega \\right )} \\sin{\\left (\\omega \\right )} + \\cos{\\left (I \\right )} \\cos{\\left (\\Omega \\right )} \\cos{\\left (\\omega \\right )}\\right) \\sqrt{\\frac{1}{- e^{2} + 1}}}{\\sqrt{a}} - \\frac{\\sqrt{\\mu} \\left(\\sin{\\left (\\Omega \\right )} \\cos{\\left (\\omega \\right )} + \\sin{\\left (\\omega \\right )} \\cos{\\left (I \\right )} \\cos{\\left (\\Omega \\right )}\\right) \\sqrt{\\frac{1}{- e^{2} + 1}} \\sin{\\left (\\nu \\right )}}{\\sqrt{a}}\\\\\\frac{\\sqrt{\\mu} \\left(e + \\cos{\\left (\\nu \\right )}\\right) \\sqrt{\\frac{1}{- e^{2} + 1}} \\sin{\\left (I \\right )} \\cos{\\left (\\omega \\right )}}{\\sqrt{a}} - \\frac{\\sqrt{\\mu} \\sqrt{\\frac{1}{- e^{2} + 1}} \\sin{\\left (I \\right )} \\sin{\\left (\\nu \\right )} \\sin{\\left (\\omega \\right )}}{\\sqrt{a}}\\end{matrix}\\right]$$"
      ],
      "text/plain": [
       "⎡                                                             __________      \n",
       "⎢                                                            ╱    1           \n",
       "⎢√μ⋅(e + cos(ν))⋅(-sin(Ω)⋅cos(I)⋅cos(ω) - sin(ω)⋅cos(Ω))⋅   ╱  ────────    √μ⋅\n",
       "⎢                                                          ╱      2           \n",
       "⎢                                                        ╲╱    - e  + 1       \n",
       "⎢─────────────────────────────────────────────────────────────────────── - ───\n",
       "⎢                                   √a                                        \n",
       "⎢                                                                             \n",
       "⎢                                                             __________      \n",
       "⎢                                                            ╱    1           \n",
       "⎢√μ⋅(e + cos(ν))⋅(-sin(Ω)⋅sin(ω) + cos(I)⋅cos(Ω)⋅cos(ω))⋅   ╱  ────────    √μ⋅\n",
       "⎢                                                          ╱      2           \n",
       "⎢                                                        ╲╱    - e  + 1       \n",
       "⎢─────────────────────────────────────────────────────────────────────── - ───\n",
       "⎢                                   √a                                        \n",
       "⎢                                                                             \n",
       "⎢                                               __________                    \n",
       "⎢                                              ╱    1                         \n",
       "⎢                          √μ⋅(e + cos(ν))⋅   ╱  ──────── ⋅sin(I)⋅cos(ω)   √μ⋅\n",
       "⎢                                            ╱      2                         \n",
       "⎢                                          ╲╱    - e  + 1                     \n",
       "⎢                          ───────────────────────────────────────────── - ───\n",
       "⎣                                                √a                           \n",
       "\n",
       "                                             __________       ⎤\n",
       "                                            ╱    1            ⎥\n",
       "(-sin(Ω)⋅sin(ω)⋅cos(I) + cos(Ω)⋅cos(ω))⋅   ╱  ──────── ⋅sin(ν)⎥\n",
       "                                          ╱      2            ⎥\n",
       "                                        ╲╱    - e  + 1        ⎥\n",
       "──────────────────────────────────────────────────────────────⎥\n",
       "                             √a                               ⎥\n",
       "                                                              ⎥\n",
       "                                            __________        ⎥\n",
       "                                           ╱    1             ⎥\n",
       "(sin(Ω)⋅cos(ω) + sin(ω)⋅cos(I)⋅cos(Ω))⋅   ╱  ──────── ⋅sin(ν) ⎥\n",
       "                                         ╱      2             ⎥\n",
       "                                       ╲╱    - e  + 1         ⎥\n",
       "───────────────────────────────────────────────────────────── ⎥\n",
       "                            √a                                ⎥\n",
       "                                                              ⎥\n",
       "     __________                                               ⎥\n",
       "    ╱    1                                                    ⎥\n",
       "   ╱  ──────── ⋅sin(I)⋅sin(ν)⋅sin(ω)                          ⎥\n",
       "  ╱      2                                                    ⎥\n",
       "╲╱    - e  + 1                                                ⎥\n",
       "────────────────────────────────────                          ⎥\n",
       "                √a                                            ⎦"
      ]
     },
     "execution_count": 23,
     "metadata": {},
     "output_type": "execute_result"
    }
   ],
   "source": [
    "v_i = pCi.transpose()*v_p\n",
    "v_i"
   ]
  },
  {
   "cell_type": "code",
   "execution_count": 24,
   "metadata": {},
   "outputs": [
    {
     "data": {
      "image/png": "[encoded data removed]",
      "text/latex": [
       "$$\\frac{\\sqrt{\\mu} \\sqrt{- \\frac{1}{e^{2} - 1}} \\left(e \\cos{\\left (\\omega \\right )} + \\cos{\\left (\\nu + \\omega \\right )}\\right) \\sin{\\left (I \\right )}}{\\sqrt{a}}$$"
      ],
      "text/plain": [
       "        ________                               \n",
       "       ╱  -1                                   \n",
       "√μ⋅   ╱  ────── ⋅(e⋅cos(ω) + cos(ν + ω))⋅sin(I)\n",
       "     ╱    2                                    \n",
       "   ╲╱    e  - 1                                \n",
       "───────────────────────────────────────────────\n",
       "                       √a                      "
      ]
     },
     "execution_count": 24,
     "metadata": {},
     "output_type": "execute_result"
    }
   ],
   "source": [
    "simplify(v_i[2]) #this is RV"
   ]
  },
  {
   "cell_type": "code",
   "execution_count": 25,
   "metadata": {},
   "outputs": [
    {
     "data": {
      "image/png": "[encoded data removed]",
      "text/latex": [
       "$$\\left[\\begin{matrix}- \\frac{\\sqrt{\\mu} \\sqrt{- \\frac{1}{e^{2} - 1}} \\left(e \\sin{\\left (\\Omega \\right )} \\cos{\\left (I \\right )} \\cos{\\left (\\omega \\right )} + e \\sin{\\left (\\omega \\right )} \\cos{\\left (\\Omega \\right )} + \\sin{\\left (\\Omega \\right )} \\cos{\\left (I \\right )} \\cos{\\left (\\nu + \\omega \\right )} + \\sin{\\left (\\nu + \\omega \\right )} \\cos{\\left (\\Omega \\right )}\\right)}{\\sqrt{a}}\\\\\\frac{\\sqrt{\\mu} \\sqrt{- \\frac{1}{e^{2} - 1}} \\left(- e \\sin{\\left (\\Omega \\right )} \\sin{\\left (\\omega \\right )} + e \\cos{\\left (I \\right )} \\cos{\\left (\\Omega \\right )} \\cos{\\left (\\omega \\right )} - \\sin{\\left (\\Omega \\right )} \\sin{\\left (\\nu + \\omega \\right )} + \\cos{\\left (I \\right )} \\cos{\\left (\\Omega \\right )} \\cos{\\left (\\nu + \\omega \\right )}\\right)}{\\sqrt{a}}\\\\\\frac{\\sqrt{\\mu} \\sqrt{- \\frac{1}{e^{2} - 1}} \\left(e \\cos{\\left (\\omega \\right )} + \\cos{\\left (\\nu + \\omega \\right )}\\right) \\sin{\\left (I \\right )}}{\\sqrt{a}}\\end{matrix}\\right]$$"
      ],
      "text/plain": [
       "⎡         ________                                                            \n",
       "⎢        ╱  -1                                                                \n",
       "⎢-√μ⋅   ╱  ────── ⋅(e⋅sin(Ω)⋅cos(I)⋅cos(ω) + e⋅sin(ω)⋅cos(Ω) + sin(Ω)⋅cos(I)⋅c\n",
       "⎢      ╱    2                                                                 \n",
       "⎢    ╲╱    e  - 1                                                             \n",
       "⎢─────────────────────────────────────────────────────────────────────────────\n",
       "⎢                                                     √a                      \n",
       "⎢                                                                             \n",
       "⎢        ________                                                             \n",
       "⎢       ╱  -1                                                                 \n",
       "⎢√μ⋅   ╱  ────── ⋅(-e⋅sin(Ω)⋅sin(ω) + e⋅cos(I)⋅cos(Ω)⋅cos(ω) - sin(Ω)⋅sin(ν + \n",
       "⎢     ╱    2                                                                  \n",
       "⎢   ╲╱    e  - 1                                                              \n",
       "⎢─────────────────────────────────────────────────────────────────────────────\n",
       "⎢                                                     √a                      \n",
       "⎢                                                                             \n",
       "⎢                                      ________                               \n",
       "⎢                                     ╱  -1                                   \n",
       "⎢                              √μ⋅   ╱  ────── ⋅(e⋅cos(ω) + cos(ν + ω))⋅sin(I)\n",
       "⎢                                   ╱    2                                    \n",
       "⎢                                 ╲╱    e  - 1                                \n",
       "⎢                              ───────────────────────────────────────────────\n",
       "⎣                                                     √a                      \n",
       "\n",
       "                               ⎤\n",
       "                               ⎥\n",
       "os(ν + ω) + sin(ν + ω)⋅cos(Ω)) ⎥\n",
       "                               ⎥\n",
       "                               ⎥\n",
       "───────────────────────────────⎥\n",
       "                               ⎥\n",
       "                               ⎥\n",
       "                               ⎥\n",
       "                               ⎥\n",
       "ω) + cos(I)⋅cos(Ω)⋅cos(ν + ω)) ⎥\n",
       "                               ⎥\n",
       "                               ⎥\n",
       "────────────────────────────── ⎥\n",
       "                               ⎥\n",
       "                               ⎥\n",
       "                               ⎥\n",
       "                               ⎥\n",
       "                               ⎥\n",
       "                               ⎥\n",
       "                               ⎥\n",
       "                               ⎥\n",
       "                               ⎦"
      ]
     },
     "execution_count": 25,
     "metadata": {},
     "output_type": "execute_result"
    }
   ],
   "source": [
    "simplify(v_i)"
   ]
  },
  {
   "cell_type": "code",
   "execution_count": null,
   "metadata": {},
   "outputs": [],
   "source": []
  }
 ],
 "metadata": {
  "kernelspec": {
   "display_name": "Python 2",
   "language": "python",
   "name": "python2"
  },
  "language_info": {
   "codemirror_mode": {
    "name": "ipython",
    "version": 2
   },
   "file_extension": ".py",
   "mimetype": "text/x-python",
   "name": "python",
   "nbconvert_exporter": "python",
   "pygments_lexer": "ipython2",
   "version": "2.7.15"
  }
 },
 "nbformat": 4,
 "nbformat_minor": 2
}
