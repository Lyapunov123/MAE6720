{
 "cells": [
  {
   "cell_type": "code",
   "execution_count": 1,
   "metadata": {},
   "outputs": [],
   "source": [
    "from miscpy.utils.sympyhelpers import *\n",
    "init_printing()"
   ]
  },
  {
   "cell_type": "code",
   "execution_count": 2,
   "metadata": {},
   "outputs": [],
   "source": [
    "r,I,O,w,nu = symbols(\"r,I,Omega,omega,nu\",real=True)\n",
    "r2,I2,O2,w2,nu2 = symbols(\"r_2,I_2,Omega_2,omega_2,nu_2\",real=True)\n",
    "r3,I3,O3,w3,nu3 = symbols(\"r_3,I_3,Omega_3,omega_3,nu_3\",real=True)"
   ]
  },
  {
   "cell_type": "markdown",
   "metadata": {},
   "source": [
    "Define required rotation matrices ($\\Omega$ rotation about $\\mathbf{\\hat{e}}_3$, $I$ about $\\mathbf{\\hat{n}}$ and $\\theta$ rotation about $\\mathbf{\\hat{h}}$)"
   ]
  },
  {
   "cell_type": "code",
   "execution_count": 3,
   "metadata": {},
   "outputs": [],
   "source": [
    "rot1 = rotMat(3,O)\n",
    "rot2 = rotMat(1,I)\n",
    "rot3 = rotMat(3,w)"
   ]
  },
  {
   "cell_type": "code",
   "execution_count": 4,
   "metadata": {},
   "outputs": [
    {
     "data": {
      "image/png": "[encoded data removed]",
      "text/latex": [
       "$$\\left[\\begin{matrix}- \\sin{\\left (\\Omega \\right )} \\sin{\\left (\\omega \\right )} \\cos{\\left (I \\right )} + \\cos{\\left (\\Omega \\right )} \\cos{\\left (\\omega \\right )} & \\sin{\\left (\\Omega \\right )} \\cos{\\left (\\omega \\right )} + \\sin{\\left (\\omega \\right )} \\cos{\\left (I \\right )} \\cos{\\left (\\Omega \\right )} & \\sin{\\left (I \\right )} \\sin{\\left (\\omega \\right )}\\\\- \\sin{\\left (\\Omega \\right )} \\cos{\\left (I \\right )} \\cos{\\left (\\omega \\right )} - \\sin{\\left (\\omega \\right )} \\cos{\\left (\\Omega \\right )} & - \\sin{\\left (\\Omega \\right )} \\sin{\\left (\\omega \\right )} + \\cos{\\left (I \\right )} \\cos{\\left (\\Omega \\right )} \\cos{\\left (\\omega \\right )} & \\sin{\\left (I \\right )} \\cos{\\left (\\omega \\right )}\\\\\\sin{\\left (I \\right )} \\sin{\\left (\\Omega \\right )} & - \\sin{\\left (I \\right )} \\cos{\\left (\\Omega \\right )} & \\cos{\\left (I \\right )}\\end{matrix}\\right]$$"
      ],
      "text/plain": [
       "⎡-sin(Ω)⋅sin(ω)⋅cos(I) + cos(Ω)⋅cos(ω)  sin(Ω)⋅cos(ω) + sin(ω)⋅cos(I)⋅cos(Ω)  \n",
       "⎢                                                                             \n",
       "⎢-sin(Ω)⋅cos(I)⋅cos(ω) - sin(ω)⋅cos(Ω)  -sin(Ω)⋅sin(ω) + cos(I)⋅cos(Ω)⋅cos(ω) \n",
       "⎢                                                                             \n",
       "⎣            sin(I)⋅sin(Ω)                         -sin(I)⋅cos(Ω)             \n",
       "\n",
       " sin(I)⋅sin(ω)⎤\n",
       "              ⎥\n",
       " sin(I)⋅cos(ω)⎥\n",
       "              ⎥\n",
       "    cos(I)    ⎦"
      ]
     },
     "execution_count": 4,
     "metadata": {},
     "output_type": "execute_result"
    }
   ],
   "source": [
    "pCi = rot3*rot2*rot1\n",
    "pCi"
   ]
  },
  {
   "cell_type": "code",
   "execution_count": 5,
   "metadata": {},
   "outputs": [],
   "source": [
    "r_p = Matrix([r*cos(nu),r*sin(nu),0])"
   ]
  },
  {
   "cell_type": "code",
   "execution_count": 6,
   "metadata": {},
   "outputs": [],
   "source": [
    "r_i = pCi.transpose()*r_p"
   ]
  },
  {
   "cell_type": "code",
   "execution_count": 7,
   "metadata": {},
   "outputs": [
    {
     "data": {
      "image/png": "[encoded data removed]",
      "text/latex": [
       "$$\\left[\\begin{matrix}r \\left(- \\sin{\\left (\\Omega \\right )} \\sin{\\left (\\nu + \\omega \\right )} \\cos{\\left (I \\right )} + \\cos{\\left (\\Omega \\right )} \\cos{\\left (\\nu + \\omega \\right )}\\right)\\\\r \\left(\\sin{\\left (\\Omega \\right )} \\cos{\\left (\\nu + \\omega \\right )} + \\sin{\\left (\\nu + \\omega \\right )} \\cos{\\left (I \\right )} \\cos{\\left (\\Omega \\right )}\\right)\\\\r \\sin{\\left (I \\right )} \\sin{\\left (\\nu + \\omega \\right )}\\end{matrix}\\right]$$"
      ],
      "text/plain": [
       "⎡r⋅(-sin(Ω)⋅sin(ν + ω)⋅cos(I) + cos(Ω)⋅cos(ν + ω))⎤\n",
       "⎢                                                 ⎥\n",
       "⎢r⋅(sin(Ω)⋅cos(ν + ω) + sin(ν + ω)⋅cos(I)⋅cos(Ω)) ⎥\n",
       "⎢                                                 ⎥\n",
       "⎣               r⋅sin(I)⋅sin(ν + ω)               ⎦"
      ]
     },
     "execution_count": 7,
     "metadata": {},
     "output_type": "execute_result"
    }
   ],
   "source": [
    "r_i = simplify(r_i);\n",
    "r_i"
   ]
  },
  {
   "cell_type": "code",
   "execution_count": 8,
   "metadata": {},
   "outputs": [
    {
     "data": {
      "image/png": "[encoded data removed]",
      "text/latex": [
       "$$\\left[\\begin{matrix}- \\sin{\\left (\\Omega_{2} \\right )} \\sin{\\left (\\nu_{2} + \\omega_{2} \\right )} \\cos{\\left (I_{2} \\right )} + \\cos{\\left (\\Omega_{2} \\right )} \\cos{\\left (\\nu_{2} + \\omega_{2} \\right )}\\\\\\sin{\\left (\\Omega_{2} \\right )} \\cos{\\left (\\nu_{2} + \\omega_{2} \\right )} + \\sin{\\left (\\nu_{2} + \\omega_{2} \\right )} \\cos{\\left (I_{2} \\right )} \\cos{\\left (\\Omega_{2} \\right )}\\\\\\sin{\\left (I_{2} \\right )} \\sin{\\left (\\nu_{2} + \\omega_{2} \\right )}\\end{matrix}\\right]$$"
      ],
      "text/plain": [
       "⎡-sin(Ω₂)⋅sin(ν₂ + ω₂)⋅cos(I₂) + cos(Ω₂)⋅cos(ν₂ + ω₂)⎤\n",
       "⎢                                                    ⎥\n",
       "⎢sin(Ω₂)⋅cos(ν₂ + ω₂) + sin(ν₂ + ω₂)⋅cos(I₂)⋅cos(Ω₂) ⎥\n",
       "⎢                                                    ⎥\n",
       "⎣                sin(I₂)⋅sin(ν₂ + ω₂)                ⎦"
      ]
     },
     "execution_count": 8,
     "metadata": {},
     "output_type": "execute_result"
    }
   ],
   "source": [
    "r2 = (r_i/r).subs([(I,I2),(w,w2),(O,O2),(nu,nu2)])\n",
    "r2"
   ]
  },
  {
   "cell_type": "code",
   "execution_count": 9,
   "metadata": {},
   "outputs": [
    {
     "data": {
      "image/png": "[encoded data removed]",
      "text/latex": [
       "$$\\left[\\begin{matrix}- \\sin{\\left (\\Omega_{3} \\right )} \\sin{\\left (\\nu_{3} + \\omega_{3} \\right )} \\cos{\\left (I_{3} \\right )} + \\cos{\\left (\\Omega_{3} \\right )} \\cos{\\left (\\nu_{3} + \\omega_{3} \\right )}\\\\\\sin{\\left (\\Omega_{3} \\right )} \\cos{\\left (\\nu_{3} + \\omega_{3} \\right )} + \\sin{\\left (\\nu_{3} + \\omega_{3} \\right )} \\cos{\\left (I_{3} \\right )} \\cos{\\left (\\Omega_{3} \\right )}\\\\\\sin{\\left (I_{3} \\right )} \\sin{\\left (\\nu_{3} + \\omega_{3} \\right )}\\end{matrix}\\right]$$"
      ],
      "text/plain": [
       "⎡-sin(Ω₃)⋅sin(ν₃ + ω₃)⋅cos(I₃) + cos(Ω₃)⋅cos(ν₃ + ω₃)⎤\n",
       "⎢                                                    ⎥\n",
       "⎢sin(Ω₃)⋅cos(ν₃ + ω₃) + sin(ν₃ + ω₃)⋅cos(I₃)⋅cos(Ω₃) ⎥\n",
       "⎢                                                    ⎥\n",
       "⎣                sin(I₃)⋅sin(ν₃ + ω₃)                ⎦"
      ]
     },
     "execution_count": 9,
     "metadata": {},
     "output_type": "execute_result"
    }
   ],
   "source": [
    "r3 = (r_i/r).subs([(I,I3),(w,w3),(O,O3),(nu,nu3)])\n",
    "r3"
   ]
  },
  {
   "cell_type": "code",
   "execution_count": 10,
   "metadata": {},
   "outputs": [
    {
     "data": {
      "image/png": "[encoded data removed]",
      "text/latex": [
       "$$\\sin{\\left (I_{2} \\right )} \\sin{\\left (I_{3} \\right )} \\sin{\\left (\\nu_{2} + \\omega_{2} \\right )} \\sin{\\left (\\nu_{3} + \\omega_{3} \\right )} - \\sin{\\left (\\Omega_{2} - \\Omega_{3} \\right )} \\sin{\\left (\\nu_{2} + \\omega_{2} \\right )} \\cos{\\left (I_{2} \\right )} \\cos{\\left (\\nu_{3} + \\omega_{3} \\right )} + \\sin{\\left (\\Omega_{2} - \\Omega_{3} \\right )} \\sin{\\left (\\nu_{3} + \\omega_{3} \\right )} \\cos{\\left (I_{3} \\right )} \\cos{\\left (\\nu_{2} + \\omega_{2} \\right )} + \\sin{\\left (\\nu_{2} + \\omega_{2} \\right )} \\sin{\\left (\\nu_{3} + \\omega_{3} \\right )} \\cos{\\left (I_{2} \\right )} \\cos{\\left (I_{3} \\right )} \\cos{\\left (\\Omega_{2} - \\Omega_{3} \\right )} + \\cos{\\left (\\Omega_{2} - \\Omega_{3} \\right )} \\cos{\\left (\\nu_{2} + \\omega_{2} \\right )} \\cos{\\left (\\nu_{3} + \\omega_{3} \\right )}$$"
      ],
      "text/plain": [
       "sin(I₂)⋅sin(I₃)⋅sin(ν₂ + ω₂)⋅sin(ν₃ + ω₃) - sin(Ω₂ - Ω₃)⋅sin(ν₂ + ω₂)⋅cos(I₂)⋅\n",
       "cos(ν₃ + ω₃) + sin(Ω₂ - Ω₃)⋅sin(ν₃ + ω₃)⋅cos(I₃)⋅cos(ν₂ + ω₂) + sin(ν₂ + ω₂)⋅s\n",
       "in(ν₃ + ω₃)⋅cos(I₂)⋅cos(I₃)⋅cos(Ω₂ - Ω₃) + cos(Ω₂ - Ω₃)⋅cos(ν₂ + ω₂)⋅cos(ν₃ + \n",
       "ω₃)"
      ]
     },
     "execution_count": 10,
     "metadata": {},
     "output_type": "execute_result"
    }
   ],
   "source": [
    "simplify(r2.dot(r3))"
   ]
  },
  {
   "cell_type": "code",
   "execution_count": null,
   "metadata": {},
   "outputs": [],
   "source": []
  }
 ],
 "metadata": {
  "kernelspec": {
   "display_name": "Python 2",
   "language": "python",
   "name": "python2"
  },
  "language_info": {
   "codemirror_mode": {
    "name": "ipython",
    "version": 2
   },
   "file_extension": ".py",
   "mimetype": "text/x-python",
   "name": "python",
   "nbconvert_exporter": "python",
   "pygments_lexer": "ipython2",
   "version": "2.7.14"
  }
 },
 "nbformat": 4,
 "nbformat_minor": 2
}
