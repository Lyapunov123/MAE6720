{
 "cells": [
  {
   "cell_type": "code",
   "execution_count": 1,
   "metadata": {},
   "outputs": [],
   "source": [
    "from miscpy.utils.sympyhelpers import *\n",
    "init_printing()"
   ]
  },
  {
   "cell_type": "markdown",
   "metadata": {},
   "source": [
    "![Orbit Diagram](img/orbit_all_frames2.png)"
   ]
  },
  {
   "cell_type": "markdown",
   "metadata": {},
   "source": [
    "$\\mathbf{r} = [r\\cos(\\lambda)\\sin(\\pi/2-\\phi), r\\sin(\\lambda)\\sin(\\pi/2 - \\phi), r\\cos(\\pi/2 - \\phi)]^T$\n",
    "\n",
    "$\\mathbf{v} = \\frac{^\\mathcal{I}\\textrm{d}\\mathbf{r}}{\\textrm{d}t}$\n",
    "\n",
    "$L = \\mathbf{v} \\cdot \\mathbf{v} + \\frac{\\mu}{r} + U^{(1)}(r,\\phi,\\lambda)$"
   ]
  },
  {
   "cell_type": "code",
   "execution_count": 2,
   "metadata": {},
   "outputs": [],
   "source": [
    "a,e,mu,r = symbols('a,e,mu,r',real=True,positive=True)\n",
    "l,phi,E,th,O,w,nu,I,M = symbols('lambda,phi,E,theta,Omega,omega,nu,I,M',real=True)\n",
    "rd,ld,phid,t = symbols('rdot,lambdadot,phidot,t',real=True)\n",
    "U = Function('U^{(1)}')\n",
    "p_r,p_p,p_l = symbols('p_r,p_phi,p_lambda',real=True)\n",
    "a1,a2=symbols('alpha_1,alpha_2',positive=True,real=True)\n",
    "al,a3,b1,b2,b3=symbols('alpha_lambda,alpha_3,beta_1,beta_2,beta_3',real=True)"
   ]
  },
  {
   "cell_type": "code",
   "execution_count": 3,
   "metadata": {},
   "outputs": [
    {
     "data": {
      "image/png": "[encoded data removed]",
      "text/latex": [
       "$$\\frac{\\dot{\\lambda}^{2} r^{2}}{2} \\cos^{2}{\\left (\\phi \\right )} + \\frac{\\mu}{r} + \\frac{\\dot{\\phi}^{2} r^{2}}{2} + \\frac{\\dot{r}^{2}}{2} + \\operatorname{U^{(1)}}{\\left (r,\\phi,\\lambda \\right )}$$"
      ],
      "text/plain": [
       "  2  2    2            2  2     2                    \n",
       "λ̇ ⋅r ⋅cos (φ)   μ   φ̇ ⋅r    ṙ                     \n",
       "────────────── + ─ + ────── + ─── + U__{(1)}(r, φ, λ)\n",
       "      2          r     2       2                     "
      ]
     },
     "execution_count": 3,
     "metadata": {},
     "output_type": "execute_result"
    }
   ],
   "source": [
    "rvec = Matrix([r*cos(l)*sin(pi/2-phi),r*sin(l)*sin(pi/2 - phi),r*cos(pi/2 - phi)])\n",
    "vvec = difftotalmat(rvec,t,{r:rd,l:ld,phi:phid})\n",
    "L0 = simplify(vvec.dot(vvec))/2 + mu/r \n",
    "L = L0 + U(r,phi,l); L"
   ]
  },
  {
   "cell_type": "code",
   "execution_count": 4,
   "metadata": {},
   "outputs": [
    {
     "data": {
      "image/png": "[encoded data removed]",
      "text/latex": [
       "$$\\left ( \\dot{r}, \\quad \\dot{\\phi} r^{2}, \\quad \\dot{\\lambda} r^{2} \\cos^{2}{\\left (\\phi \\right )}\\right )$$"
      ],
      "text/plain": [
       "⎛        2      2    2   ⎞\n",
       "⎝ṙ, φ̇⋅r , λ̇⋅r ⋅cos (φ)⎠"
      ]
     },
     "execution_count": 4,
     "metadata": {},
     "output_type": "execute_result"
    }
   ],
   "source": [
    "pr = diff(L,rd)\n",
    "pphi = diff(L,phid)\n",
    "pl = diff(L,ld)\n",
    "pr,pphi,pl"
   ]
  },
  {
   "cell_type": "markdown",
   "metadata": {},
   "source": [
    "$H = \\sum p_i \\dot q_i - L$"
   ]
  },
  {
   "cell_type": "code",
   "execution_count": 5,
   "metadata": {},
   "outputs": [
    {
     "data": {
      "image/png": "[encoded data removed]",
      "text/latex": [
       "$$\\frac{\\dot{\\lambda}^{2} r^{2}}{2} \\cos^{2}{\\left (\\phi \\right )} - \\frac{\\mu}{r} + \\frac{\\dot{\\phi}^{2} r^{2}}{2} + \\frac{\\dot{r}^{2}}{2}$$"
      ],
      "text/plain": [
       "  2  2    2            2  2     2\n",
       "λ̇ ⋅r ⋅cos (φ)   μ   φ̇ ⋅r    ṙ \n",
       "────────────── - ─ + ────── + ───\n",
       "      2          r     2       2 "
      ]
     },
     "execution_count": 5,
     "metadata": {},
     "output_type": "execute_result"
    }
   ],
   "source": [
    "H0 = rd*pr + phid*pphi + ld*pl - L0;\n",
    "H0"
   ]
  },
  {
   "cell_type": "code",
   "execution_count": 6,
   "metadata": {},
   "outputs": [
    {
     "data": {
      "image/png": "[encoded data removed]",
      "text/latex": [
       "$$- \\frac{\\mu}{r} + \\frac{p_{\\lambda}^{2}}{2 r^{2} \\cos^{2}{\\left (\\phi \\right )}} + \\frac{p_{\\phi}^{2}}{2 r^{2}} + \\frac{p_{r}^{2}}{2}$$"
      ],
      "text/plain": [
       "             2         2      2\n",
       "  μ       p_λ        pᵩ     pᵣ \n",
       "- ─ + ──────────── + ──── + ───\n",
       "  r      2    2         2    2 \n",
       "      2⋅r ⋅cos (φ)   2⋅r       "
      ]
     },
     "execution_count": 6,
     "metadata": {},
     "output_type": "execute_result"
    }
   ],
   "source": [
    "H0 = H0.subs(pr,p_r).subs(phid,p_p/r**2).subs(ld,p_l/r**2/cos(phi)**2); H0"
   ]
  },
  {
   "cell_type": "code",
   "execution_count": 7,
   "metadata": {},
   "outputs": [
    {
     "data": {
      "image/png": "[encoded data removed]",
      "text/latex": [
       "$$\\left ( \\sqrt{- \\frac{\\alpha_{2}^{2}}{r^{2}} + \\frac{2 \\mu}{r} - \\frac{\\mu^{2}}{\\alpha_{1}^{2}}}, \\quad \\sqrt{\\alpha_{2}^{2} - \\frac{\\alpha_{\\lambda}^{2}}{\\cos^{2}{\\left (\\phi \\right )}}}\\right )$$"
      ],
      "text/plain": [
       "⎛      ___________________        _______________⎞\n",
       "⎜     ╱     2           2        ╱            2  ⎟\n",
       "⎜    ╱    α₂    2⋅μ    μ        ╱    2     α_λ   ⎟\n",
       "⎜   ╱   - ─── + ─── - ─── ,    ╱   α₂  - ─────── ⎟\n",
       "⎜  ╱        2    r      2     ╱             2    ⎟\n",
       "⎝╲╱        r          α₁    ╲╱           cos (φ) ⎠"
      ]
     },
     "execution_count": 7,
     "metadata": {},
     "output_type": "execute_result"
    }
   ],
   "source": [
    "Pr = sqrt(2*mu/r - mu**2/a1**2 - a2**2/r**2)\n",
    "Pphi = sqrt(a2**2 - al**2/cos(phi)**2)\n",
    "Pr,Pphi"
   ]
  },
  {
   "cell_type": "code",
   "execution_count": 8,
   "metadata": {},
   "outputs": [
    {
     "data": {
      "image/png": "[encoded data removed]",
      "text/latex": [
       "$$\\left [ r^{4} \\left(\\dot{\\lambda}^{2} \\cos^{2}{\\left (\\phi \\right )} + \\dot{\\phi}^{2}\\right)\\right ]$$"
      ],
      "text/plain": [
       "⎡ 4 ⎛  2    2        2⎞⎤\n",
       "⎣r ⋅⎝λ̇ ⋅cos (φ) + φ̇ ⎠⎦"
      ]
     },
     "execution_count": 8,
     "metadata": {},
     "output_type": "execute_result"
    }
   ],
   "source": [
    "solve((pphi**2 - Pphi**2).subs(al,pl),a2**2)"
   ]
  },
  {
   "cell_type": "markdown",
   "metadata": {},
   "source": [
    "$\\mathbf{h} = \\mathbf{r} \\times \\mathbf{v}$"
   ]
  },
  {
   "cell_type": "code",
   "execution_count": 9,
   "metadata": {},
   "outputs": [
    {
     "data": {
      "image/png": "[encoded data removed]",
      "text/latex": [
       "$$\\left[\\begin{matrix}r^{2} \\left(\\frac{\\dot{\\lambda}}{4} \\sin{\\left (\\lambda - 2 \\phi \\right )} - \\frac{\\dot{\\lambda}}{4} \\sin{\\left (\\lambda + 2 \\phi \\right )} + \\dot{\\phi} \\sin{\\left (\\lambda \\right )}\\right)\\\\r^{2} \\left(- \\frac{\\dot{\\lambda}}{4} \\cos{\\left (\\lambda - 2 \\phi \\right )} + \\frac{\\dot{\\lambda}}{4} \\cos{\\left (\\lambda + 2 \\phi \\right )} - \\dot{\\phi} \\cos{\\left (\\lambda \\right )}\\right)\\\\\\dot{\\lambda} r^{2} \\cos^{2}{\\left (\\phi \\right )}\\end{matrix}\\right]$$"
      ],
      "text/plain": [
       "⎡  2 ⎛λ̇⋅sin(λ - 2⋅φ)   λ̇⋅sin(λ + 2⋅φ)            ⎞ ⎤\n",
       "⎢ r ⋅⎜─────────────── - ─────────────── + φ̇⋅sin(λ)⎟ ⎥\n",
       "⎢    ⎝       4                 4                   ⎠ ⎥\n",
       "⎢                                                    ⎥\n",
       "⎢ 2 ⎛  λ̇⋅cos(λ - 2⋅φ)   λ̇⋅cos(λ + 2⋅φ)            ⎞⎥\n",
       "⎢r ⋅⎜- ─────────────── + ─────────────── - φ̇⋅cos(λ)⎟⎥\n",
       "⎢   ⎝         4                 4                   ⎠⎥\n",
       "⎢                                                    ⎥\n",
       "⎢                       2    2                       ⎥\n",
       "⎣                   λ̇⋅r ⋅cos (φ)                    ⎦"
      ]
     },
     "execution_count": 9,
     "metadata": {},
     "output_type": "execute_result"
    }
   ],
   "source": [
    "hvec = rvec.cross(vvec)\n",
    "simplify(hvec)"
   ]
  },
  {
   "cell_type": "code",
   "execution_count": 10,
   "metadata": {},
   "outputs": [
    {
     "data": {
      "image/png": "[encoded data removed]",
      "text/latex": [
       "$$r^{4} \\left(\\dot{\\lambda}^{2} \\cos^{2}{\\left (\\phi \\right )} + \\dot{\\phi}^{2}\\right)$$"
      ],
      "text/plain": [
       " 4 ⎛  2    2        2⎞\n",
       "r ⋅⎝λ̇ ⋅cos (φ) + φ̇ ⎠"
      ]
     },
     "execution_count": 10,
     "metadata": {},
     "output_type": "execute_result"
    }
   ],
   "source": [
    "simplify(hvec.dot(hvec))"
   ]
  },
  {
   "cell_type": "markdown",
   "metadata": {},
   "source": [
    "Therefore, we have shown that $\\alpha_2 \\equiv h$ and is conserved."
   ]
  },
  {
   "cell_type": "markdown",
   "metadata": {},
   "source": [
    "$Q_1 = nt + \\beta_1 = \\frac{\\partial W}{\\partial \\alpha_1} = \\frac{\\partial}{\\partial \\alpha_1} \\int \\frac{\\partial W_r}{\\partial r} \\mathrm{d}r = \\int \\frac{\\partial}{\\partial \\alpha_1}  \\frac{\\partial W_r}{\\partial r} \\mathrm{d}r = \\int \\frac{\\partial}{\\partial \\alpha_1} P_r \\mathrm{d}r$"
   ]
  },
  {
   "cell_type": "code",
   "execution_count": 11,
   "metadata": {},
   "outputs": [
    {
     "data": {
      "image/png": "[encoded data removed]",
      "text/latex": [
       "$$\\frac{\\mu^{2}}{\\alpha_{1}^{3} \\sqrt{- \\frac{\\alpha_{2}^{2}}{r^{2}} + \\frac{2 \\mu}{r} - \\frac{\\mu^{2}}{\\alpha_{1}^{2}}}}$$"
      ],
      "text/plain": [
       "               2             \n",
       "              μ              \n",
       "─────────────────────────────\n",
       "          ___________________\n",
       "         ╱     2           2 \n",
       "  3     ╱    α₂    2⋅μ    μ  \n",
       "α₁ ⋅   ╱   - ─── + ─── - ─── \n",
       "      ╱        2    r      2 \n",
       "    ╲╱        r          α₁  "
      ]
     },
     "execution_count": 11,
     "metadata": {},
     "output_type": "execute_result"
    }
   ],
   "source": [
    "dPrda1 = diff(Pr,a1)\n",
    "dPrda1"
   ]
  },
  {
   "cell_type": "code",
   "execution_count": 12,
   "metadata": {},
   "outputs": [
    {
     "data": {
      "image/png": "[encoded data removed]",
      "text/latex": [
       "$$\\frac{\\left|{e \\cos{\\left (E \\right )} - 1}\\right|}{a e \\left|{\\sin{\\left (E \\right )}}\\right|}$$"
      ],
      "text/plain": [
       "│e⋅cos(E) - 1│\n",
       "──────────────\n",
       " a⋅e⋅│sin(E)│ "
      ]
     },
     "execution_count": 12,
     "metadata": {},
     "output_type": "execute_result"
    }
   ],
   "source": [
    "dPrda1 = simplify(dPrda1.subs([(r,a*(1-e*cos(E))),(a1,sqrt(mu*a)),(a2,sqrt(mu*a*(1-e**2)))]))\n",
    "dPrda1"
   ]
  },
  {
   "cell_type": "code",
   "execution_count": 13,
   "metadata": {},
   "outputs": [
    {
     "data": {
      "image/png": "[encoded data removed]",
      "text/latex": [
       "$$a e \\sin{\\left (E \\right )}$$"
      ],
      "text/plain": [
       "a⋅e⋅sin(E)"
      ]
     },
     "execution_count": 13,
     "metadata": {},
     "output_type": "execute_result"
    }
   ],
   "source": [
    "dr = diff(a*(1 - e*cos(E)),E)\n",
    "dr"
   ]
  },
  {
   "cell_type": "code",
   "execution_count": 14,
   "metadata": {},
   "outputs": [
    {
     "data": {
      "image/png": "[encoded data removed]",
      "text/latex": [
       "$$E - e \\sin{\\left (E \\right )}$$"
      ],
      "text/plain": [
       "E - e⋅sin(E)"
      ]
     },
     "execution_count": 14,
     "metadata": {},
     "output_type": "execute_result"
    }
   ],
   "source": [
    "simplify(integrate((1 - e*cos(E))/(a*e*sin(E))*dr,E))"
   ]
  },
  {
   "cell_type": "markdown",
   "metadata": {},
   "source": [
    "Therefore $\\beta_1 = -nt_0$"
   ]
  },
  {
   "cell_type": "markdown",
   "metadata": {},
   "source": [
    "$Q_2 = \\beta_2 = \\frac{\\partial W}{\\partial \\alpha_2} = \\frac{\\partial}{\\partial \\alpha_2} \\left[ \\int \\frac{\\partial W_r}{\\partial r} \\mathrm{d}r + \\int \\frac{\\partial W_\\phi}{\\partial \\phi} \\mathrm{d}\\phi   \\right]$"
   ]
  },
  {
   "cell_type": "code",
   "execution_count": 15,
   "metadata": {},
   "outputs": [
    {
     "data": {
      "image/png": "[encoded data removed]",
      "text/latex": [
       "$$\\left ( - \\frac{\\alpha_{2}}{r^{2} \\sqrt{- \\frac{\\alpha_{2}^{2}}{r^{2}} + \\frac{2 \\mu}{r} - \\frac{\\mu^{2}}{\\alpha_{1}^{2}}}}, \\quad \\frac{\\left|{\\cos{\\left (\\phi \\right )}}\\right|}{\\sqrt{- \\cos^{2}{\\left (I \\right )} + \\cos^{2}{\\left (\\phi \\right )}}}\\right )$$"
      ],
      "text/plain": [
       "⎛            -α₂                       │cos(φ)│        ⎞\n",
       "⎜────────────────────────────, ────────────────────────⎟\n",
       "⎜         ___________________     _____________________⎟\n",
       "⎜        ╱     2           2     ╱      2         2    ⎟\n",
       "⎜ 2     ╱    α₂    2⋅μ    μ    ╲╱  - cos (I) + cos (φ) ⎟\n",
       "⎜r ⋅   ╱   - ─── + ─── - ───                           ⎟\n",
       "⎜     ╱        2    r      2                           ⎟\n",
       "⎝   ╲╱        r          α₁                            ⎠"
      ]
     },
     "execution_count": 15,
     "metadata": {},
     "output_type": "execute_result"
    }
   ],
   "source": [
    "dPrda2 = diff(Pr,a2)\n",
    "dPphida2 = simplify(diff(Pphi,a2).subs(al,a2*cos(I)))\n",
    "dPrda2,dPphida2"
   ]
  },
  {
   "cell_type": "code",
   "execution_count": 16,
   "metadata": {},
   "outputs": [
    {
     "data": {
      "image/png": "[encoded data removed]",
      "text/latex": [
       "$$\\left ( \\operatorname{asin}{\\left (\\sin{\\left (I \\right )} \\sin{\\left (\\theta \\right )} \\right )}, \\quad \\frac{\\sin{\\left (I \\right )} \\cos{\\left (\\theta \\right )}}{\\sqrt{- \\sin^{2}{\\left (I \\right )} \\sin^{2}{\\left (\\theta \\right )} + 1}}\\right )$$"
      ],
      "text/plain": [
       "⎛                           sin(I)⋅cos(θ)       ⎞\n",
       "⎜asin(sin(I)⋅sin(θ)), ──────────────────────────⎟\n",
       "⎜                        _______________________⎟\n",
       "⎜                       ╱      2       2        ⎟\n",
       "⎝                     ╲╱  - sin (I)⋅sin (θ) + 1 ⎠"
      ]
     },
     "execution_count": 16,
     "metadata": {},
     "output_type": "execute_result"
    }
   ],
   "source": [
    "phidef = asin(sin(I)*sin(th))\n",
    "dphidef = diff(phidef,th)\n",
    "phidef,dphidef"
   ]
  },
  {
   "cell_type": "code",
   "execution_count": 17,
   "metadata": {},
   "outputs": [
    {
     "data": {
      "image/png": "[encoded data removed]",
      "text/latex": [
       "$$\\frac{\\sin{\\left (I \\right )} \\cos{\\left (\\theta \\right )} \\left|{\\sqrt{- \\sin^{2}{\\left (I \\right )} \\sin^{2}{\\left (\\theta \\right )} + 1}}\\right|}{\\sqrt{- \\sin^{2}{\\left (I \\right )} \\sin^{2}{\\left (\\theta \\right )} + 1} \\left|{\\sin{\\left (I \\right )}}\\right| \\left|{\\cos{\\left (\\theta \\right )}}\\right|}$$"
      ],
      "text/plain": [
       "               │   _______________________│ \n",
       "               │  ╱      2       2        │ \n",
       " sin(I)⋅cos(θ)⋅│╲╱  - sin (I)⋅sin (θ) + 1 │ \n",
       "────────────────────────────────────────────\n",
       "   _______________________                  \n",
       "  ╱      2       2                          \n",
       "╲╱  - sin (I)⋅sin (θ) + 1 ⋅│sin(I)│⋅│cos(θ)│"
      ]
     },
     "execution_count": 17,
     "metadata": {},
     "output_type": "execute_result"
    }
   ],
   "source": [
    "simplify(dPphida2.subs(phi,phidef)*dphidef)"
   ]
  },
  {
   "cell_type": "markdown",
   "metadata": {},
   "source": [
    "= 1"
   ]
  },
  {
   "cell_type": "code",
   "execution_count": 18,
   "metadata": {},
   "outputs": [
    {
     "data": {
      "image/png": "[encoded data removed]",
      "text/latex": [
       "$$- \\frac{\\sin{\\left (\\nu \\right )}}{\\sqrt{- \\frac{1}{e^{2} - 1}} \\sqrt{- e^{2} + 1} \\left|{\\sin{\\left (\\nu \\right )}}\\right|}$$"
      ],
      "text/plain": [
       "              -sin(ν)               \n",
       "────────────────────────────────────\n",
       "     ________    __________         \n",
       "    ╱  -1       ╱    2              \n",
       "   ╱  ────── ⋅╲╱  - e  + 1 ⋅│sin(ν)│\n",
       "  ╱    2                            \n",
       "╲╱    e  - 1                        "
      ]
     },
     "execution_count": 18,
     "metadata": {},
     "output_type": "execute_result"
    }
   ],
   "source": [
    "simplify(dPrda2.subs(a1,sqrt(mu*a)).subs(a2,sqrt(mu*a*(1 - e**2))).subs(r,a*(1-e**2)/(1+e*cos(nu)))*diff(a*(1-e**2)/(1+e*cos(nu)),nu))"
   ]
  },
  {
   "cell_type": "markdown",
   "metadata": {},
   "source": [
    "=1"
   ]
  },
  {
   "cell_type": "markdown",
   "metadata": {},
   "source": [
    "Therefore $\\beta_2 = \\theta - \\nu = \\omega$"
   ]
  },
  {
   "cell_type": "markdown",
   "metadata": {},
   "source": [
    "$Q_\\lambda = \\beta_\\lambda = \\frac{\\partial W}{\\partial \\alpha_\\lambda} = \\frac{\\partial}{\\partial \\alpha_\\lambda} \\left[\\int \\frac{\\partial W_\\phi}{\\partial \\phi} \\mathrm{d}\\phi  + \\alpha_\\lambda \\lambda  \\right]$"
   ]
  },
  {
   "cell_type": "code",
   "execution_count": 19,
   "metadata": {},
   "outputs": [
    {
     "data": {
      "image/png": "[encoded data removed]",
      "text/latex": [
       "$$- \\frac{\\alpha_{\\lambda}}{\\sqrt{\\alpha_{2}^{2} - \\frac{\\alpha_{\\lambda}^{2}}{\\cos^{2}{\\left (\\phi \\right )}}} \\cos^{2}{\\left (\\phi \\right )}}$$"
      ],
      "text/plain": [
       "            -α_λ             \n",
       "─────────────────────────────\n",
       "      _______________        \n",
       "     ╱            2          \n",
       "    ╱    2     α_λ       2   \n",
       "   ╱   α₂  - ─────── ⋅cos (φ)\n",
       "  ╱             2            \n",
       "╲╱           cos (φ)         "
      ]
     },
     "execution_count": 19,
     "metadata": {},
     "output_type": "execute_result"
    }
   ],
   "source": [
    "dPphidal = diff(Pphi,al)\n",
    "dPphidal"
   ]
  },
  {
   "cell_type": "code",
   "execution_count": 20,
   "metadata": {},
   "outputs": [
    {
     "data": {
      "image/png": "[encoded data removed]",
      "text/latex": [
       "$$- \\frac{\\sin{\\left (I \\right )} \\cos{\\left (I \\right )} \\cos{\\left (\\theta \\right )}}{\\sqrt{- \\frac{1}{\\sin^{2}{\\left (I \\right )} \\sin^{2}{\\left (\\theta \\right )} - 1}} \\left(- \\sin^{2}{\\left (I \\right )} \\sin^{2}{\\left (\\theta \\right )} + 1\\right)^{\\frac{3}{2}} \\left|{\\sin{\\left (I \\right )}}\\right| \\left|{\\cos{\\left (\\theta \\right )}}\\right|}$$"
      ],
      "text/plain": [
       "                         -sin(I)⋅cos(I)⋅cos(θ)                         \n",
       "───────────────────────────────────────────────────────────────────────\n",
       "     _____________________                        3/2                  \n",
       "    ╱         -1           ⎛     2       2       ⎞                     \n",
       "   ╱  ─────────────────── ⋅⎝- sin (I)⋅sin (θ) + 1⎠   ⋅│sin(I)│⋅│cos(θ)│\n",
       "  ╱      2       2                                                     \n",
       "╲╱    sin (I)⋅sin (θ) - 1                                              "
      ]
     },
     "execution_count": 20,
     "metadata": {},
     "output_type": "execute_result"
    }
   ],
   "source": [
    "simplify(dPphidal.subs(al,a2*cos(I)).subs(phi,phidef)*dphidef)"
   ]
  },
  {
   "cell_type": "code",
   "execution_count": 21,
   "metadata": {},
   "outputs": [
    {
     "data": {
      "image/png": "[encoded data removed]",
      "text/latex": [
       "$$- \\frac{\\cos{\\left (I \\right )}}{\\sin^{2}{\\left (I \\right )} \\sin^{2}{\\left (\\theta \\right )} - 1}$$"
      ],
      "text/plain": [
       "      -cos(I)      \n",
       "───────────────────\n",
       "   2       2       \n",
       "sin (I)⋅sin (θ) - 1"
      ]
     },
     "execution_count": 21,
     "metadata": {},
     "output_type": "execute_result"
    }
   ],
   "source": [
    "simplify(diff(atan(cos(I)*tan(th)),th))"
   ]
  },
  {
   "cell_type": "markdown",
   "metadata": {},
   "source": [
    "Therefore, $\\beta_3 = \\beta_\\lambda = \\lambda - \\tan^{-1}(\\cos(I)\\cos(\\theta))$"
   ]
  },
  {
   "cell_type": "markdown",
   "metadata": {},
   "source": [
    "Lagrange's Planetary Equations"
   ]
  },
  {
   "cell_type": "code",
   "execution_count": 22,
   "metadata": {},
   "outputs": [],
   "source": [
    "z1 = Matrix([M,w,O,sqrt(mu*a),sqrt(mu*a*(1-e**2)),sqrt(mu*a*(1-e**2))*cos(I)])\n",
    "y1 = Matrix([a,e,I,M,w,O])"
   ]
  },
  {
   "cell_type": "code",
   "execution_count": 23,
   "metadata": {},
   "outputs": [
    {
     "data": {
      "image/png": "[encoded data removed]",
      "text/latex": [
       "$$\\left[\\begin{matrix}\\frac{\\alpha_{1}^{2}}{\\mu}\\\\\\sqrt{1 - \\frac{\\alpha_{2}^{2}}{\\alpha_{1}^{2}}}\\\\\\operatorname{acos}{\\left (\\frac{\\alpha_{3}}{\\alpha_{2}} \\right )}\\\\\\beta_{1}\\\\\\beta_{2}\\\\\\beta_{3}\\end{matrix}\\right]$$"
      ],
      "text/plain": [
       "⎡        2      ⎤\n",
       "⎢      α₁       ⎥\n",
       "⎢      ───      ⎥\n",
       "⎢       μ       ⎥\n",
       "⎢               ⎥\n",
       "⎢      _________⎥\n",
       "⎢     ╱       2 ⎥\n",
       "⎢    ╱      α₂  ⎥\n",
       "⎢   ╱   1 - ─── ⎥\n",
       "⎢  ╱          2 ⎥\n",
       "⎢╲╱         α₁  ⎥\n",
       "⎢               ⎥\n",
       "⎢       ⎛α₃⎞    ⎥\n",
       "⎢   acos⎜──⎟    ⎥\n",
       "⎢       ⎝α₂⎠    ⎥\n",
       "⎢               ⎥\n",
       "⎢      β₁       ⎥\n",
       "⎢               ⎥\n",
       "⎢      β₂       ⎥\n",
       "⎢               ⎥\n",
       "⎣      β₃       ⎦"
      ]
     },
     "execution_count": 23,
     "metadata": {},
     "output_type": "execute_result"
    }
   ],
   "source": [
    "a1,a2=symbols('alpha_1,alpha_2',positive=True,real=True)\n",
    "a3,b1,b2,b3=symbols('alpha_3,beta_1,beta_2,beta_3',real=True)\n",
    "z = Matrix([b1,b2,b3,a1,a2,a3])\n",
    "y = Matrix([a1**2/mu,sqrt(1 - (a2/a1)**2),acos(a3/a2),b1,b2,b3])\n",
    "y"
   ]
  },
  {
   "cell_type": "code",
   "execution_count": 24,
   "metadata": {},
   "outputs": [
    {
     "data": {
      "image/png": "[encoded data removed]",
      "text/latex": [
       "$$\\left[\\begin{matrix}0 & 0 & 0 & \\frac{2 \\alpha_{1}}{\\mu} & 0 & 0\\\\0 & 0 & 0 & \\frac{\\alpha_{2}^{2}}{\\alpha_{1}^{2} \\sqrt{\\alpha_{1}^{2} - \\alpha_{2}^{2}}} & - \\frac{\\alpha_{2}}{\\alpha_{1} \\sqrt{\\alpha_{1}^{2} - \\alpha_{2}^{2}}} & 0\\\\0 & 0 & 0 & 0 & \\frac{\\alpha_{3}}{\\alpha_{2} \\sqrt{\\alpha_{2}^{2} - \\alpha_{3}^{2}}} & - \\frac{1}{\\sqrt{\\alpha_{2}^{2} - \\alpha_{3}^{2}}}\\\\1 & 0 & 0 & 0 & 0 & 0\\\\0 & 1 & 0 & 0 & 0 & 0\\\\0 & 0 & 1 & 0 & 0 & 0\\end{matrix}\\right]$$"
      ],
      "text/plain": [
       "⎡                2⋅α₁                                          ⎤\n",
       "⎢0  0  0         ────                 0                0       ⎥\n",
       "⎢                 μ                                            ⎥\n",
       "⎢                                                              ⎥\n",
       "⎢                  2                                           ⎥\n",
       "⎢                α₂                  -α₂                       ⎥\n",
       "⎢0  0  0  ──────────────────  ─────────────────        0       ⎥\n",
       "⎢                ___________        ___________                ⎥\n",
       "⎢           2   ╱   2     2        ╱   2     2                 ⎥\n",
       "⎢         α₁ ⋅╲╱  α₁  - α₂    α₁⋅╲╱  α₁  - α₂                  ⎥\n",
       "⎢                                                              ⎥\n",
       "⎢                                     α₃              -1       ⎥\n",
       "⎢0  0  0          0           ─────────────────  ──────────────⎥\n",
       "⎢                                   ___________     ___________⎥\n",
       "⎢                                  ╱   2     2     ╱   2     2 ⎥\n",
       "⎢                             α₂⋅╲╱  α₂  - α₃    ╲╱  α₂  - α₃  ⎥\n",
       "⎢                                                              ⎥\n",
       "⎢1  0  0          0                   0                0       ⎥\n",
       "⎢                                                              ⎥\n",
       "⎢0  1  0          0                   0                0       ⎥\n",
       "⎢                                                              ⎥\n",
       "⎣0  0  1          0                   0                0       ⎦"
      ]
     },
     "execution_count": 24,
     "metadata": {},
     "output_type": "execute_result"
    }
   ],
   "source": [
    "P = simplify(y.jacobian(z)); P"
   ]
  },
  {
   "cell_type": "code",
   "execution_count": 25,
   "metadata": {},
   "outputs": [
    {
     "data": {
      "image/png": "[encoded data removed]",
      "text/latex": [
       "$$- \\operatorname{U^{(1)}}{\\left (a,e,I,M,\\omega,\\Omega \\right )} - \\frac{\\mu}{2 a}$$"
      ],
      "text/plain": [
       "                               μ \n",
       "-U__{(1)}(a, e, I, M, ω, Ω) - ───\n",
       "                              2⋅a"
      ]
     },
     "execution_count": 25,
     "metadata": {},
     "output_type": "execute_result"
    }
   ],
   "source": [
    "K = -mu/2/a - U(a,e,I,M,w,O);K"
   ]
  },
  {
   "cell_type": "code",
   "execution_count": 26,
   "metadata": {},
   "outputs": [
    {
     "data": {
      "image/png": "[encoded data removed]",
      "text/latex": [
       "$$\\left[\\begin{matrix}- \\frac{\\partial}{\\partial a} \\operatorname{U^{(1)}}{\\left (a,e,I,M,\\omega,\\Omega \\right )} + \\frac{\\mu}{2 a^{2}}\\\\- \\frac{\\partial}{\\partial e} \\operatorname{U^{(1)}}{\\left (a,e,I,M,\\omega,\\Omega \\right )}\\\\- \\frac{\\partial}{\\partial I} \\operatorname{U^{(1)}}{\\left (a,e,I,M,\\omega,\\Omega \\right )}\\\\- \\frac{\\partial}{\\partial M} \\operatorname{U^{(1)}}{\\left (a,e,I,M,\\omega,\\Omega \\right )}\\\\- \\frac{\\partial}{\\partial \\omega} \\operatorname{U^{(1)}}{\\left (a,e,I,M,\\omega,\\Omega \\right )}\\\\- \\frac{\\partial}{\\partial \\Omega} \\operatorname{U^{(1)}}{\\left (a,e,I,M,\\omega,\\Omega \\right )}\\end{matrix}\\right]$$"
      ],
      "text/plain": [
       "⎡  ∂                                 μ  ⎤\n",
       "⎢- ──(U__{(1)}(a, e, I, M, ω, Ω)) + ────⎥\n",
       "⎢  ∂a                                  2⎥\n",
       "⎢                                   2⋅a ⎥\n",
       "⎢                                       ⎥\n",
       "⎢     ∂                                 ⎥\n",
       "⎢    -──(U__{(1)}(a, e, I, M, ω, Ω))    ⎥\n",
       "⎢     ∂e                                ⎥\n",
       "⎢                                       ⎥\n",
       "⎢     ∂                                 ⎥\n",
       "⎢    -──(U__{(1)}(a, e, I, M, ω, Ω))    ⎥\n",
       "⎢     ∂I                                ⎥\n",
       "⎢                                       ⎥\n",
       "⎢     ∂                                 ⎥\n",
       "⎢    -──(U__{(1)}(a, e, I, M, ω, Ω))    ⎥\n",
       "⎢     ∂M                                ⎥\n",
       "⎢                                       ⎥\n",
       "⎢     ∂                                 ⎥\n",
       "⎢    -──(U__{(1)}(a, e, I, M, ω, Ω))    ⎥\n",
       "⎢     ∂ω                                ⎥\n",
       "⎢                                       ⎥\n",
       "⎢     ∂                                 ⎥\n",
       "⎢    -──(U__{(1)}(a, e, I, M, ω, Ω))    ⎥\n",
       "⎣     ∂Ω                                ⎦"
      ]
     },
     "execution_count": 26,
     "metadata": {},
     "output_type": "execute_result"
    }
   ],
   "source": [
    "gradK = Matrix([diff(K,x) for x in y1]); gradK"
   ]
  },
  {
   "cell_type": "code",
   "execution_count": 27,
   "metadata": {},
   "outputs": [],
   "source": [
    "J = zeros(6,6)\n",
    "J[0:3,3:6] = eye(3)\n",
    "J[3:6,0:3] = -eye(3)"
   ]
  },
  {
   "cell_type": "code",
   "execution_count": 28,
   "metadata": {},
   "outputs": [
    {
     "data": {
      "image/png": "[encoded data removed]",
      "text/latex": [
       "$$\\left[\\begin{matrix}\\frac{2 \\sqrt{a}}{\\sqrt{\\mu}} \\frac{\\partial}{\\partial M} \\operatorname{U^{(1)}}{\\left (a,e,I,M,\\omega,\\Omega \\right )}\\\\- \\frac{1}{\\sqrt{a} e \\sqrt{\\mu}} \\left(\\sqrt{- e^{2} + 1} \\frac{\\partial}{\\partial \\omega} \\operatorname{U^{(1)}}{\\left (a,e,I,M,\\omega,\\Omega \\right )} + \\left(e^{2} - 1\\right) \\frac{\\partial}{\\partial M} \\operatorname{U^{(1)}}{\\left (a,e,I,M,\\omega,\\Omega \\right )}\\right)\\\\\\frac{\\cos{\\left (I \\right )} \\frac{\\partial}{\\partial \\omega} \\operatorname{U^{(1)}}{\\left (a,e,I,M,\\omega,\\Omega \\right )} - \\frac{\\partial}{\\partial \\Omega} \\operatorname{U^{(1)}}{\\left (a,e,I,M,\\omega,\\Omega \\right )}}{\\sqrt{a} \\sqrt{\\mu} \\sqrt{- e^{2} + 1} \\left|{\\sin{\\left (I \\right )}}\\right|}\\\\\\frac{1}{a^{\\frac{3}{2}} e \\sqrt{\\mu}} \\left(a \\left(e^{2} - 1\\right) \\frac{\\partial}{\\partial e} \\operatorname{U^{(1)}}{\\left (a,e,I,M,\\omega,\\Omega \\right )} + e \\left(- 2 a^{2} \\frac{\\partial}{\\partial a} \\operatorname{U^{(1)}}{\\left (a,e,I,M,\\omega,\\Omega \\right )} + \\mu\\right)\\right)\\\\\\frac{1}{\\sqrt{a} e \\sqrt{\\mu} \\sqrt{- e^{2} + 1}} \\left(- e^{2} \\frac{\\partial}{\\partial e} \\operatorname{U^{(1)}}{\\left (a,e,I,M,\\omega,\\Omega \\right )} - \\frac{e \\frac{\\partial}{\\partial I} \\operatorname{U^{(1)}}{\\left (a,e,I,M,\\omega,\\Omega \\right )}}{\\left|{\\sin{\\left (I \\right )}}\\right|} \\cos{\\left (I \\right )} + \\frac{\\partial}{\\partial e} \\operatorname{U^{(1)}}{\\left (a,e,I,M,\\omega,\\Omega \\right )}\\right)\\\\\\frac{\\frac{\\partial}{\\partial I} \\operatorname{U^{(1)}}{\\left (a,e,I,M,\\omega,\\Omega \\right )}}{\\sqrt{a} \\sqrt{\\mu} \\sqrt{- e^{2} + 1} \\left|{\\sin{\\left (I \\right )}}\\right|}\\end{matrix}\\right]$$"
      ],
      "text/plain": [
       "⎡                                          ∂                                  \n",
       "⎢                                     2⋅√a⋅──(U__{(1)}(a, e, I, M, ω, Ω))     \n",
       "⎢                                          ∂M                                 \n",
       "⎢                                     ───────────────────────────────────     \n",
       "⎢                                                      √μ                     \n",
       "⎢                                                                             \n",
       "⎢           ⎛   __________                                                    \n",
       "⎢           ⎜  ╱    2      ∂                                ⎛ 2    ⎞ ∂        \n",
       "⎢          -⎜╲╱  - e  + 1 ⋅──(U__{(1)}(a, e, I, M, ω, Ω)) + ⎝e  - 1⎠⋅──(U__{(1\n",
       "⎢           ⎝              ∂ω                                        ∂M       \n",
       "⎢          ───────────────────────────────────────────────────────────────────\n",
       "⎢                                                   √a⋅e⋅√μ                   \n",
       "⎢                                                                             \n",
       "⎢                           ∂                                ∂                \n",
       "⎢                    cos(I)⋅──(U__{(1)}(a, e, I, M, ω, Ω)) - ──(U__{(1)}(a, e,\n",
       "⎢                           ∂ω                               ∂Ω               \n",
       "⎢                    ─────────────────────────────────────────────────────────\n",
       "⎢                                                  __________                 \n",
       "⎢                                                 ╱    2                      \n",
       "⎢                                         √a⋅√μ⋅╲╱  - e  + 1 ⋅│sin(I)│        \n",
       "⎢                                                                             \n",
       "⎢            ⎛ 2    ⎞ ∂                                  ⎛     2 ∂            \n",
       "⎢          a⋅⎝e  - 1⎠⋅──(U__{(1)}(a, e, I, M, ω, Ω)) + e⋅⎜- 2⋅a ⋅──(U__{(1)}(a\n",
       "⎢                     ∂e                                 ⎝       ∂a           \n",
       "⎢          ───────────────────────────────────────────────────────────────────\n",
       "⎢                                                   3/2                       \n",
       "⎢                                                  a   ⋅e⋅√μ                  \n",
       "⎢                                                                             \n",
       "⎢                                               ∂                             \n",
       "⎢                                      e⋅cos(I)⋅──(U__{(1)}(a, e, I, M, ω, Ω))\n",
       "⎢   2 ∂                                         ∂I                            \n",
       "⎢- e ⋅──(U__{(1)}(a, e, I, M, ω, Ω)) - ───────────────────────────────────────\n",
       "⎢     ∂e                                               │sin(I)│               \n",
       "⎢─────────────────────────────────────────────────────────────────────────────\n",
       "⎢                                                       __________            \n",
       "⎢                                                      ╱    2                 \n",
       "⎢                                            √a⋅e⋅√μ⋅╲╱  - e  + 1             \n",
       "⎢                                                                             \n",
       "⎢                                        ∂                                    \n",
       "⎢                                        ──(U__{(1)}(a, e, I, M, ω, Ω))       \n",
       "⎢                                        ∂I                                   \n",
       "⎢                                        ──────────────────────────────       \n",
       "⎢                                                  __________                 \n",
       "⎢                                                 ╱    2                      \n",
       "⎣                                         √a⋅√μ⋅╲╱  - e  + 1 ⋅│sin(I)│        \n",
       "\n",
       "                                 ⎤\n",
       "                                 ⎥\n",
       "                                 ⎥\n",
       "                                 ⎥\n",
       "                                 ⎥\n",
       "                                 ⎥\n",
       "                     ⎞           ⎥\n",
       "                     ⎟           ⎥\n",
       ")}(a, e, I, M, ω, Ω))⎟           ⎥\n",
       "                     ⎠           ⎥\n",
       "───────────────────────          ⎥\n",
       "                                 ⎥\n",
       "                                 ⎥\n",
       "                                 ⎥\n",
       " I, M, ω, Ω))                    ⎥\n",
       "                                 ⎥\n",
       "─────────────                    ⎥\n",
       "                                 ⎥\n",
       "                                 ⎥\n",
       "                                 ⎥\n",
       "                                 ⎥\n",
       "                     ⎞           ⎥\n",
       ", e, I, M, ω, Ω)) + μ⎟           ⎥\n",
       "                     ⎠           ⎥\n",
       "──────────────────────           ⎥\n",
       "                                 ⎥\n",
       "                                 ⎥\n",
       "                                 ⎥\n",
       "                                 ⎥\n",
       "                                 ⎥\n",
       "   ∂                             ⎥\n",
       " + ──(U__{(1)}(a, e, I, M, ω, Ω))⎥\n",
       "   ∂e                            ⎥\n",
       "─────────────────────────────────⎥\n",
       "                                 ⎥\n",
       "                                 ⎥\n",
       "                                 ⎥\n",
       "                                 ⎥\n",
       "                                 ⎥\n",
       "                                 ⎥\n",
       "                                 ⎥\n",
       "                                 ⎥\n",
       "                                 ⎥\n",
       "                                 ⎥\n",
       "                                 ⎦"
      ]
     },
     "execution_count": 28,
     "metadata": {},
     "output_type": "execute_result"
    }
   ],
   "source": [
    "simplify((P*J*P.transpose()*gradK).subs([(a1,sqrt(mu*a)),(a2,sqrt(mu*a*(1-e**2))),(a3,sqrt(mu*a*(1-e**2))*cos(I))]))"
   ]
  },
  {
   "cell_type": "code",
   "execution_count": null,
   "metadata": {},
   "outputs": [],
   "source": []
  }
 ],
 "metadata": {
  "kernelspec": {
   "display_name": "Python 2",
   "language": "python",
   "name": "python2"
  },
  "language_info": {
   "codemirror_mode": {
    "name": "ipython",
    "version": 2
   },
   "file_extension": ".py",
   "mimetype": "text/x-python",
   "name": "python",
   "nbconvert_exporter": "python",
   "pygments_lexer": "ipython2",
   "version": "2.7.14"
  }
 },
 "nbformat": 4,
 "nbformat_minor": 1
}
