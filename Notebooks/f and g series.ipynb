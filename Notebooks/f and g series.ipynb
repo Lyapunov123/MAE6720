{
 "cells": [
  {
   "cell_type": "code",
   "execution_count": 1,
   "metadata": {},
   "outputs": [],
   "source": [
    "from miscpy.utils.sympyhelpers import *\n",
    "init_printing()"
   ]
  },
  {
   "cell_type": "code",
   "execution_count": 2,
   "metadata": {},
   "outputs": [],
   "source": [
    "s,p,q,sd,pd,qd,u = symbols('sigma,p,q,sigmadot,pdot,qdot,u')\n",
    "diffmap = {s:sd,p:pd,q:qd}\n",
    "\n",
    "def genfgseries(N):\n",
    "    fn = s/s\n",
    "    gn = 0*s\n",
    "    fs = [fn]\n",
    "    gs = [gn]\n",
    "    for j in range(N):\n",
    "        # print(j)\n",
    "        fnp1 = difftotal(fn,t,diffmap) - s*gn\n",
    "        gnp1 = fn + difftotal(gn,t,diffmap)\n",
    "        fn = fnp1\n",
    "        gn = gnp1\n",
    "        fn = simplify(fn.subs(([sd,-3*s*p],[pd,q-2*p**2],[qd,-p*(s+2*q)])))\n",
    "        gn = simplify(gn.subs(([sd,-3*s*p],[pd,q-2*p**2],[qd,-p*(s+2*q)])))\n",
    "        fs.append(fn)\n",
    "        gs.append(gn)\n",
    "    return fs,gs"
   ]
  },
  {
   "cell_type": "code",
   "execution_count": 3,
   "metadata": {},
   "outputs": [],
   "source": [
    "fs,gs = genfgseries(8)"
   ]
  },
  {
   "cell_type": "code",
   "execution_count": 4,
   "metadata": {},
   "outputs": [
    {
     "data": {
      "image/png": "[encoded data removed]",
      "text/latex": [
       "$\\displaystyle 1$"
      ],
      "text/plain": [
       "1"
      ]
     },
     "metadata": {},
     "output_type": "display_data"
    },
    {
     "data": {
      "image/png": "[encoded data removed]",
      "text/latex": [
       "$\\displaystyle 0$"
      ],
      "text/plain": [
       "0"
      ]
     },
     "metadata": {},
     "output_type": "display_data"
    },
    {
     "data": {
      "image/png": "[encoded data removed]",
      "text/latex": [
       "$\\displaystyle - \\sigma$"
      ],
      "text/plain": [
       "-σ"
      ]
     },
     "metadata": {},
     "output_type": "display_data"
    },
    {
     "data": {
      "image/png": "[encoded data removed]",
      "text/latex": [
       "$\\displaystyle 3 p \\sigma$"
      ],
      "text/plain": [
       "3⋅p⋅σ"
      ]
     },
     "metadata": {},
     "output_type": "display_data"
    },
    {
     "data": {
      "image/png": "[encoded data removed]",
      "text/latex": [
       "$\\displaystyle \\sigma \\left(- 15 p^{2} + 3 q + \\sigma\\right)$"
      ],
      "text/plain": [
       "  ⎛      2          ⎞\n",
       "σ⋅⎝- 15⋅p  + 3⋅q + σ⎠"
      ]
     },
     "metadata": {},
     "output_type": "display_data"
    },
    {
     "data": {
      "image/png": "[encoded data removed]",
      "text/latex": [
       "$\\displaystyle 15 p \\sigma \\left(7 p^{2} - 3 q - \\sigma\\right)$"
      ],
      "text/plain": [
       "       ⎛   2          ⎞\n",
       "15⋅p⋅σ⋅⎝7⋅p  - 3⋅q - σ⎠"
      ]
     },
     "metadata": {},
     "output_type": "display_data"
    },
    {
     "data": {
      "image/png": "[encoded data removed]",
      "text/latex": [
       "$\\displaystyle \\sigma \\left(- 945 p^{4} + 630 p^{2} q + 210 p^{2} \\sigma - 45 q^{2} - 24 q \\sigma - \\sigma^{2}\\right)$"
      ],
      "text/plain": [
       "  ⎛       4        2          2         2             2⎞\n",
       "σ⋅⎝- 945⋅p  + 630⋅p ⋅q + 210⋅p ⋅σ - 45⋅q  - 24⋅q⋅σ - σ ⎠"
      ]
     },
     "metadata": {},
     "output_type": "display_data"
    },
    {
     "data": {
      "image/png": "[encoded data removed]",
      "text/latex": [
       "$\\displaystyle 63 p \\sigma \\left(165 p^{4} - 150 p^{2} q - 50 p^{2} \\sigma + 25 q^{2} + 14 q \\sigma + \\sigma^{2}\\right)$"
      ],
      "text/plain": [
       "       ⎛     4        2         2         2             2⎞\n",
       "63⋅p⋅σ⋅⎝165⋅p  - 150⋅p ⋅q - 50⋅p ⋅σ + 25⋅q  + 14⋅q⋅σ + σ ⎠"
      ]
     },
     "metadata": {},
     "output_type": "display_data"
    },
    {
     "data": {
      "image/png": "[encoded data removed]",
      "text/latex": [
       "$\\displaystyle \\sigma \\left(- 135135 p^{6} + 155925 p^{4} q + 51975 p^{4} \\sigma - 42525 p^{2} q^{2} - 24570 p^{2} q \\sigma - 2205 p^{2} \\sigma^{2} + 1575 q^{3} + 1107 q^{2} \\sigma + 117 q \\sigma^{2} + \\sigma^{3}\\right)$"
      ],
      "text/plain": [
       "  ⎛          6           4            4            2  2          2            \n",
       "σ⋅⎝- 135135⋅p  + 155925⋅p ⋅q + 51975⋅p ⋅σ - 42525⋅p ⋅q  - 24570⋅p ⋅q⋅σ - 2205⋅\n",
       "\n",
       " 2  2         3         2            2    3⎞\n",
       "p ⋅σ  + 1575⋅q  + 1107⋅q ⋅σ + 117⋅q⋅σ  + σ ⎠"
      ]
     },
     "metadata": {},
     "output_type": "display_data"
    }
   ],
   "source": [
    "for f in fs:\n",
    "    display(f)"
   ]
  },
  {
   "cell_type": "code",
   "execution_count": 5,
   "metadata": {},
   "outputs": [
    {
     "data": {
      "image/png": "[encoded data removed]",
      "text/latex": [
       "$\\displaystyle 0$"
      ],
      "text/plain": [
       "0"
      ]
     },
     "metadata": {},
     "output_type": "display_data"
    },
    {
     "data": {
      "image/png": "[encoded data removed]",
      "text/latex": [
       "$\\displaystyle 1$"
      ],
      "text/plain": [
       "1"
      ]
     },
     "metadata": {},
     "output_type": "display_data"
    },
    {
     "data": {
      "image/png": "[encoded data removed]",
      "text/latex": [
       "$\\displaystyle 0$"
      ],
      "text/plain": [
       "0"
      ]
     },
     "metadata": {},
     "output_type": "display_data"
    },
    {
     "data": {
      "image/png": "[encoded data removed]",
      "text/latex": [
       "$\\displaystyle - \\sigma$"
      ],
      "text/plain": [
       "-σ"
      ]
     },
     "metadata": {},
     "output_type": "display_data"
    },
    {
     "data": {
      "image/png": "[encoded data removed]",
      "text/latex": [
       "$\\displaystyle 6 p \\sigma$"
      ],
      "text/plain": [
       "6⋅p⋅σ"
      ]
     },
     "metadata": {},
     "output_type": "display_data"
    },
    {
     "data": {
      "image/png": "[encoded data removed]",
      "text/latex": [
       "$\\displaystyle \\sigma \\left(- 45 p^{2} + 9 q + \\sigma\\right)$"
      ],
      "text/plain": [
       "  ⎛      2          ⎞\n",
       "σ⋅⎝- 45⋅p  + 9⋅q + σ⎠"
      ]
     },
     "metadata": {},
     "output_type": "display_data"
    },
    {
     "data": {
      "image/png": "[encoded data removed]",
      "text/latex": [
       "$\\displaystyle 30 p \\sigma \\left(14 p^{2} - 6 q - \\sigma\\right)$"
      ],
      "text/plain": [
       "       ⎛    2          ⎞\n",
       "30⋅p⋅σ⋅⎝14⋅p  - 6⋅q - σ⎠"
      ]
     },
     "metadata": {},
     "output_type": "display_data"
    },
    {
     "data": {
      "image/png": "[encoded data removed]",
      "text/latex": [
       "$\\displaystyle \\sigma \\left(- 4725 p^{4} + 3150 p^{2} q + 630 p^{2} \\sigma - 225 q^{2} - 54 q \\sigma - \\sigma^{2}\\right)$"
      ],
      "text/plain": [
       "  ⎛        4         2          2          2             2⎞\n",
       "σ⋅⎝- 4725⋅p  + 3150⋅p ⋅q + 630⋅p ⋅σ - 225⋅q  - 54⋅q⋅σ - σ ⎠"
      ]
     },
     "metadata": {},
     "output_type": "display_data"
    },
    {
     "data": {
      "image/png": "[encoded data removed]",
      "text/latex": [
       "$\\displaystyle 126 p \\sigma \\left(495 p^{4} - 450 p^{2} q - 100 p^{2} \\sigma + 75 q^{2} + 24 q \\sigma + \\sigma^{2}\\right)$"
      ],
      "text/plain": [
       "        ⎛     4        2          2         2             2⎞\n",
       "126⋅p⋅σ⋅⎝495⋅p  - 450⋅p ⋅q - 100⋅p ⋅σ + 75⋅q  + 24⋅q⋅σ + σ ⎠"
      ]
     },
     "metadata": {},
     "output_type": "display_data"
    }
   ],
   "source": [
    "for g in gs:\n",
    "    display(g)"
   ]
  },
  {
   "cell_type": "code",
   "execution_count": 6,
   "metadata": {},
   "outputs": [],
   "source": [
    "dt = symbols(\"\\Delta{t}\")"
   ]
  },
  {
   "cell_type": "code",
   "execution_count": 7,
   "metadata": {},
   "outputs": [],
   "source": [
    "fseries = 0\n",
    "for j in range(len(fs)):\n",
    "    fseries = fseries + dt**j/factorial(j)*fs[j]"
   ]
  },
  {
   "cell_type": "code",
   "execution_count": 8,
   "metadata": {},
   "outputs": [
    {
     "data": {
      "image/png": "[encoded data removed]",
      "text/latex": [
       "$\\displaystyle \\frac{\\Delta{t}^{8} \\sigma \\left(- 135135 p^{6} + 155925 p^{4} q + 51975 p^{4} \\sigma - 42525 p^{2} q^{2} - 24570 p^{2} q \\sigma - 2205 p^{2} \\sigma^{2} + 1575 q^{3} + 1107 q^{2} \\sigma + 117 q \\sigma^{2} + \\sigma^{3}\\right)}{40320} + \\frac{\\Delta{t}^{7} p \\sigma \\left(165 p^{4} - 150 p^{2} q - 50 p^{2} \\sigma + 25 q^{2} + 14 q \\sigma + \\sigma^{2}\\right)}{80} + \\frac{\\Delta{t}^{6} \\sigma \\left(- 945 p^{4} + 630 p^{2} q + 210 p^{2} \\sigma - 45 q^{2} - 24 q \\sigma - \\sigma^{2}\\right)}{720} + \\frac{\\Delta{t}^{5} p \\sigma \\left(7 p^{2} - 3 q - \\sigma\\right)}{8} + \\frac{\\Delta{t}^{4} \\sigma \\left(- 15 p^{2} + 3 q + \\sigma\\right)}{24} + \\frac{\\Delta{t}^{3} p \\sigma}{2} - \\frac{\\Delta{t}^{2} \\sigma}{2} + 1$"
      ],
      "text/plain": [
       "         8   ⎛          6           4            4            2  2          2 \n",
       "\\Delta{t} ⋅σ⋅⎝- 135135⋅p  + 155925⋅p ⋅q + 51975⋅p ⋅σ - 42525⋅p ⋅q  - 24570⋅p ⋅\n",
       "──────────────────────────────────────────────────────────────────────────────\n",
       "                                                                40320         \n",
       "\n",
       "            2  2         3         2            2    3⎞            7     ⎛    \n",
       "q⋅σ - 2205⋅p ⋅σ  + 1575⋅q  + 1107⋅q ⋅σ + 117⋅q⋅σ  + σ ⎠   \\Delta{t} ⋅p⋅σ⋅⎝165⋅\n",
       "─────────────────────────────────────────────────────── + ────────────────────\n",
       "                                                                              \n",
       "\n",
       " 4        2         2         2             2⎞            6   ⎛       4       \n",
       "p  - 150⋅p ⋅q - 50⋅p ⋅σ + 25⋅q  + 14⋅q⋅σ + σ ⎠   \\Delta{t} ⋅σ⋅⎝- 945⋅p  + 630⋅\n",
       "────────────────────────────────────────────── + ─────────────────────────────\n",
       "            80                                                                \n",
       "\n",
       " 2          2         2             2⎞            5     ⎛   2          ⎞      \n",
       "p ⋅q + 210⋅p ⋅σ - 45⋅q  - 24⋅q⋅σ - σ ⎠   \\Delta{t} ⋅p⋅σ⋅⎝7⋅p  - 3⋅q - σ⎠   \\De\n",
       "────────────────────────────────────── + ─────────────────────────────── + ───\n",
       "   720                                                  8                     \n",
       "\n",
       "      4   ⎛      2          ⎞            3                2      \n",
       "lta{t} ⋅σ⋅⎝- 15⋅p  + 3⋅q + σ⎠   \\Delta{t} ⋅p⋅σ   \\Delta{t} ⋅σ    \n",
       "───────────────────────────── + ────────────── - ──────────── + 1\n",
       "            24                        2               2          "
      ]
     },
     "execution_count": 8,
     "metadata": {},
     "output_type": "execute_result"
    }
   ],
   "source": [
    "fseries"
   ]
  },
  {
   "cell_type": "code",
   "execution_count": 9,
   "metadata": {},
   "outputs": [],
   "source": [
    "gseries = 0\n",
    "for j in range(len(gs)):\n",
    "    gseries = gseries + dt**j/factorial(j)*gs[j]"
   ]
  },
  {
   "cell_type": "code",
   "execution_count": 10,
   "metadata": {},
   "outputs": [
    {
     "data": {
      "image/png": "[encoded data removed]",
      "text/latex": [
       "$\\displaystyle \\frac{\\Delta{t}^{8} p \\sigma \\left(495 p^{4} - 450 p^{2} q - 100 p^{2} \\sigma + 75 q^{2} + 24 q \\sigma + \\sigma^{2}\\right)}{320} + \\frac{\\Delta{t}^{7} \\sigma \\left(- 4725 p^{4} + 3150 p^{2} q + 630 p^{2} \\sigma - 225 q^{2} - 54 q \\sigma - \\sigma^{2}\\right)}{5040} + \\frac{\\Delta{t}^{6} p \\sigma \\left(14 p^{2} - 6 q - \\sigma\\right)}{24} + \\frac{\\Delta{t}^{5} \\sigma \\left(- 45 p^{2} + 9 q + \\sigma\\right)}{120} + \\frac{\\Delta{t}^{4} p \\sigma}{4} - \\frac{\\Delta{t}^{3} \\sigma}{6} + \\Delta{t}$"
      ],
      "text/plain": [
       "         8     ⎛     4        2          2         2             2⎞           \n",
       "\\Delta{t} ⋅p⋅σ⋅⎝495⋅p  - 450⋅p ⋅q - 100⋅p ⋅σ + 75⋅q  + 24⋅q⋅σ + σ ⎠   \\Delta{t\n",
       "─────────────────────────────────────────────────────────────────── + ────────\n",
       "                                320                                           \n",
       "\n",
       " 7   ⎛        4         2          2          2             2⎞            6   \n",
       "} ⋅σ⋅⎝- 4725⋅p  + 3150⋅p ⋅q + 630⋅p ⋅σ - 225⋅q  - 54⋅q⋅σ - σ ⎠   \\Delta{t} ⋅p⋅\n",
       "────────────────────────────────────────────────────────────── + ─────────────\n",
       "                         5040                                                 \n",
       "\n",
       "  ⎛    2          ⎞            5   ⎛      2          ⎞            4           \n",
       "σ⋅⎝14⋅p  - 6⋅q - σ⎠   \\Delta{t} ⋅σ⋅⎝- 45⋅p  + 9⋅q + σ⎠   \\Delta{t} ⋅p⋅σ   \\Del\n",
       "─────────────────── + ──────────────────────────────── + ────────────── - ────\n",
       "  24                                120                        4              \n",
       "\n",
       "     3              \n",
       "ta{t} ⋅σ            \n",
       "──────── + \\Delta{t}\n",
       " 6                  "
      ]
     },
     "execution_count": 10,
     "metadata": {},
     "output_type": "execute_result"
    }
   ],
   "source": [
    "gseries"
   ]
  },
  {
   "cell_type": "code",
   "execution_count": 11,
   "metadata": {},
   "outputs": [],
   "source": [
    "fdotseries = 0\n",
    "for j in range(1,len(fs)):\n",
    "    fdotseries = fdotseries + dt**(j-1)/factorial(j-1)*fs[j]"
   ]
  },
  {
   "cell_type": "code",
   "execution_count": 12,
   "metadata": {},
   "outputs": [
    {
     "data": {
      "image/png": "[encoded data removed]",
      "text/latex": [
       "$\\displaystyle \\frac{\\Delta{t}^{7} \\sigma \\left(- 135135 p^{6} + 155925 p^{4} q + 51975 p^{4} \\sigma - 42525 p^{2} q^{2} - 24570 p^{2} q \\sigma - 2205 p^{2} \\sigma^{2} + 1575 q^{3} + 1107 q^{2} \\sigma + 117 q \\sigma^{2} + \\sigma^{3}\\right)}{5040} + \\frac{7 \\Delta{t}^{6} p \\sigma \\left(165 p^{4} - 150 p^{2} q - 50 p^{2} \\sigma + 25 q^{2} + 14 q \\sigma + \\sigma^{2}\\right)}{80} + \\frac{\\Delta{t}^{5} \\sigma \\left(- 945 p^{4} + 630 p^{2} q + 210 p^{2} \\sigma - 45 q^{2} - 24 q \\sigma - \\sigma^{2}\\right)}{120} + \\frac{5 \\Delta{t}^{4} p \\sigma \\left(7 p^{2} - 3 q - \\sigma\\right)}{8} + \\frac{\\Delta{t}^{3} \\sigma \\left(- 15 p^{2} + 3 q + \\sigma\\right)}{6} + \\frac{3 \\Delta{t}^{2} p \\sigma}{2} - \\Delta{t} \\sigma$"
      ],
      "text/plain": [
       "         7   ⎛          6           4            4            2  2          2 \n",
       "\\Delta{t} ⋅σ⋅⎝- 135135⋅p  + 155925⋅p ⋅q + 51975⋅p ⋅σ - 42525⋅p ⋅q  - 24570⋅p ⋅\n",
       "──────────────────────────────────────────────────────────────────────────────\n",
       "                                                                 5040         \n",
       "\n",
       "            2  2         3         2            2    3⎞              6     ⎛  \n",
       "q⋅σ - 2205⋅p ⋅σ  + 1575⋅q  + 1107⋅q ⋅σ + 117⋅q⋅σ  + σ ⎠   7⋅\\Delta{t} ⋅p⋅σ⋅⎝16\n",
       "─────────────────────────────────────────────────────── + ────────────────────\n",
       "                                                                              \n",
       "\n",
       "   4        2         2         2             2⎞            5   ⎛       4     \n",
       "5⋅p  - 150⋅p ⋅q - 50⋅p ⋅σ + 25⋅q  + 14⋅q⋅σ + σ ⎠   \\Delta{t} ⋅σ⋅⎝- 945⋅p  + 63\n",
       "──────────────────────────────────────────────── + ───────────────────────────\n",
       "             80                                                               \n",
       "\n",
       "   2          2         2             2⎞              4     ⎛   2          ⎞  \n",
       "0⋅p ⋅q + 210⋅p ⋅σ - 45⋅q  - 24⋅q⋅σ - σ ⎠   5⋅\\Delta{t} ⋅p⋅σ⋅⎝7⋅p  - 3⋅q - σ⎠  \n",
       "──────────────────────────────────────── + ───────────────────────────────── +\n",
       "     120                                                   8                  \n",
       "\n",
       "          3   ⎛      2          ⎞              2                  \n",
       " \\Delta{t} ⋅σ⋅⎝- 15⋅p  + 3⋅q + σ⎠   3⋅\\Delta{t} ⋅p⋅σ              \n",
       " ──────────────────────────────── + ──────────────── - \\Delta{t}⋅σ\n",
       "                6                          2                      "
      ]
     },
     "execution_count": 12,
     "metadata": {},
     "output_type": "execute_result"
    }
   ],
   "source": [
    "fdotseries"
   ]
  },
  {
   "cell_type": "code",
   "execution_count": 13,
   "metadata": {},
   "outputs": [],
   "source": [
    "gdotseries = 0\n",
    "for j in range(1,len(gs)):\n",
    "    gdotseries = gdotseries + dt**(j-1)/factorial(j-1)*gs[j]"
   ]
  },
  {
   "cell_type": "code",
   "execution_count": 14,
   "metadata": {},
   "outputs": [
    {
     "data": {
      "image/png": "[encoded data removed]",
      "text/latex": [
       "$\\displaystyle \\frac{\\Delta{t}^{7} p \\sigma \\left(495 p^{4} - 450 p^{2} q - 100 p^{2} \\sigma + 75 q^{2} + 24 q \\sigma + \\sigma^{2}\\right)}{40} + \\frac{\\Delta{t}^{6} \\sigma \\left(- 4725 p^{4} + 3150 p^{2} q + 630 p^{2} \\sigma - 225 q^{2} - 54 q \\sigma - \\sigma^{2}\\right)}{720} + \\frac{\\Delta{t}^{5} p \\sigma \\left(14 p^{2} - 6 q - \\sigma\\right)}{4} + \\frac{\\Delta{t}^{4} \\sigma \\left(- 45 p^{2} + 9 q + \\sigma\\right)}{24} + \\Delta{t}^{3} p \\sigma - \\frac{\\Delta{t}^{2} \\sigma}{2} + 1$"
      ],
      "text/plain": [
       "         7     ⎛     4        2          2         2             2⎞           \n",
       "\\Delta{t} ⋅p⋅σ⋅⎝495⋅p  - 450⋅p ⋅q - 100⋅p ⋅σ + 75⋅q  + 24⋅q⋅σ + σ ⎠   \\Delta{t\n",
       "─────────────────────────────────────────────────────────────────── + ────────\n",
       "                                 40                                           \n",
       "\n",
       " 6   ⎛        4         2          2          2             2⎞            5   \n",
       "} ⋅σ⋅⎝- 4725⋅p  + 3150⋅p ⋅q + 630⋅p ⋅σ - 225⋅q  - 54⋅q⋅σ - σ ⎠   \\Delta{t} ⋅p⋅\n",
       "────────────────────────────────────────────────────────────── + ─────────────\n",
       "                         720                                                  \n",
       "\n",
       "  ⎛    2          ⎞            4   ⎛      2          ⎞                        \n",
       "σ⋅⎝14⋅p  - 6⋅q - σ⎠   \\Delta{t} ⋅σ⋅⎝- 45⋅p  + 9⋅q + σ⎠            3       \\Del\n",
       "─────────────────── + ──────────────────────────────── + \\Delta{t} ⋅p⋅σ - ────\n",
       "  4                                  24                                       \n",
       "\n",
       "     2      \n",
       "ta{t} ⋅σ    \n",
       "──────── + 1\n",
       " 2          "
      ]
     },
     "execution_count": 14,
     "metadata": {},
     "output_type": "execute_result"
    }
   ],
   "source": [
    "gdotseries"
   ]
  },
  {
   "cell_type": "code",
   "execution_count": null,
   "metadata": {},
   "outputs": [],
   "source": []
  },
  {
   "cell_type": "markdown",
   "metadata": {},
   "source": [
    "output for MATLAB"
   ]
  },
  {
   "cell_type": "code",
   "execution_count": 15,
   "metadata": {},
   "outputs": [],
   "source": [
    "from sympy.utilities.codegen import codegen"
   ]
  },
  {
   "cell_type": "code",
   "execution_count": 16,
   "metadata": {},
   "outputs": [],
   "source": [
    "dtboring = symbols(\"dt\")"
   ]
  },
  {
   "cell_type": "code",
   "execution_count": 17,
   "metadata": {},
   "outputs": [
    {
     "name": "stdout",
     "output_type": "stream",
     "text": [
      "function [out1, out2, out3, out4, out5, out6, out7, out8] = fseries(dt, p, q, sigma)\n",
      "  %FSERIES  Autogenerated by sympy\n",
      "  %   Code generated with sympy 1.8\n",
      "  %\n",
      "  %   See http://www.sympy.org/ for more information.\n",
      "  %\n",
      "  %   This file is part of 'project'\n",
      "\n",
      "  out1 = 1;\n",
      "  out2 = -dt.^2.*sigma/2;\n",
      "  out3 = dt.^3.*p.*sigma/2;\n",
      "  out4 = dt.^4.*sigma.*(-15*p.^2 + 3*q + sigma)/24;\n",
      "  out5 = dt.^5.*p.*sigma.*(7*p.^2 - 3*q - sigma)/8;\n",
      "  out6 = dt.^6.*sigma.*(-945*p.^4 + 630*p.^2.*q + 210*p.^2.*sigma - 45*q.^2 - 24*q.*sigma - sigma.^2)/720;\n",
      "  out7 = dt.^7.*p.*sigma.*(165*p.^4 - 150*p.^2.*q - 50*p.^2.*sigma + 25*q.^2 + 14*q.*sigma + sigma.^2)/80;\n",
      "  out8 = dt.^8.*sigma.*(-135135*p.^6 + 155925*p.^4.*q + 51975*p.^4.*sigma - 42525*p.^2.*q.^2 - 24570*p.^2.*q.*sigma - 2205*p.^2.*sigma.^2 + 1575*q.^3 + 1107*q.^2.*sigma + 117*q.*sigma.^2 + sigma.^3)/40320;\n",
      "\n",
      "end\n",
      "\n",
      "function [out1, out2, out3, out4, out5, out6, out7] = gseries(dt, p, q, sigma)\n",
      "\n",
      "  out1 = dt;\n",
      "  out2 = -dt.^3.*sigma/6;\n",
      "  out3 = dt.^4.*p.*sigma/4;\n",
      "  out4 = dt.^5.*sigma.*(-45*p.^2 + 9*q + sigma)/120;\n",
      "  out5 = dt.^6.*p.*sigma.*(14*p.^2 - 6*q - sigma)/24;\n",
      "  out6 = dt.^7.*sigma.*(-4725*p.^4 + 3150*p.^2.*q + 630*p.^2.*sigma - 225*q.^2 - 54*q.*sigma - sigma.^2)/5040;\n",
      "  out7 = dt.^8.*p.*sigma.*(495*p.^4 - 450*p.^2.*q - 100*p.^2.*sigma + 75*q.^2 + 24*q.*sigma + sigma.^2)/320;\n",
      "\n",
      "end\n",
      "\n",
      "function [out1, out2, out3, out4, out5, out6, out7] = fdotseries(dt, p, q, sigma)\n",
      "\n",
      "  out1 = -dt.*sigma;\n",
      "  out2 = 3*dt.^2.*p.*sigma/2;\n",
      "  out3 = dt.^3.*sigma.*(-15*p.^2 + 3*q + sigma)/6;\n",
      "  out4 = 5*dt.^4.*p.*sigma.*(7*p.^2 - 3*q - sigma)/8;\n",
      "  out5 = dt.^5.*sigma.*(-945*p.^4 + 630*p.^2.*q + 210*p.^2.*sigma - 45*q.^2 - 24*q.*sigma - sigma.^2)/120;\n",
      "  out6 = 7*dt.^6.*p.*sigma.*(165*p.^4 - 150*p.^2.*q - 50*p.^2.*sigma + 25*q.^2 + 14*q.*sigma + sigma.^2)/80;\n",
      "  out7 = dt.^7.*sigma.*(-135135*p.^6 + 155925*p.^4.*q + 51975*p.^4.*sigma - 42525*p.^2.*q.^2 - 24570*p.^2.*q.*sigma - 2205*p.^2.*sigma.^2 + 1575*q.^3 + 1107*q.^2.*sigma + 117*q.*sigma.^2 + sigma.^3)/5040;\n",
      "\n",
      "end\n",
      "\n",
      "function [out1, out2, out3, out4, out5, out6, out7] = gdotseries(dt, p, q, sigma)\n",
      "\n",
      "  out1 = 1;\n",
      "  out2 = -dt.^2.*sigma/2;\n",
      "  out3 = dt.^3.*p.*sigma;\n",
      "  out4 = dt.^4.*sigma.*(-45*p.^2 + 9*q + sigma)/24;\n",
      "  out5 = dt.^5.*p.*sigma.*(14*p.^2 - 6*q - sigma)/4;\n",
      "  out6 = dt.^6.*sigma.*(-4725*p.^4 + 3150*p.^2.*q + 630*p.^2.*sigma - 225*q.^2 - 54*q.*sigma - sigma.^2)/720;\n",
      "  out7 = dt.^7.*p.*sigma.*(495*p.^4 - 450*p.^2.*q - 100*p.^2.*sigma + 75*q.^2 + 24*q.*sigma + sigma.^2)/40;\n",
      "\n",
      "end\n",
      "\n"
     ]
    }
   ],
   "source": [
    "print(codegen([(\"fseries\", fseries.subs(dt,dtboring).as_ordered_terms()[::-1]),\n",
    "               (\"gseries\", gseries.subs(dt,dtboring).as_ordered_terms()[::-1]),\n",
    "               (\"fdotseries\", fdotseries.subs(dt,dtboring).as_ordered_terms()[::-1]),\n",
    "               (\"gdotseries\", gdotseries.subs(dt,dtboring).as_ordered_terms()[::-1])],\n",
    "               language=\"Octave\")[0][1])"
   ]
  },
  {
   "cell_type": "code",
   "execution_count": null,
   "metadata": {},
   "outputs": [],
   "source": []
  }
 ],
 "metadata": {
  "kernelspec": {
   "display_name": "Python 3 (ipykernel)",
   "language": "python",
   "name": "python3"
  },
  "language_info": {
   "codemirror_mode": {
    "name": "ipython",
    "version": 3
   },
   "file_extension": ".py",
   "mimetype": "text/x-python",
   "name": "python",
   "nbconvert_exporter": "python",
   "pygments_lexer": "ipython3",
   "version": "3.9.10"
  }
 },
 "nbformat": 4,
 "nbformat_minor": 4
}
