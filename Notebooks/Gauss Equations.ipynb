{
 "cells": [
  {
   "cell_type": "code",
   "execution_count": 1,
   "metadata": {},
   "outputs": [],
   "source": [
    "from miscpy.utils.sympyhelpers import *\n",
    "init_printing()"
   ]
  },
  {
   "cell_type": "markdown",
   "metadata": {},
   "source": [
    "![Orbit Diagram](img/orbit_all_frames1.png)"
   ]
  },
  {
   "cell_type": "code",
   "execution_count": 2,
   "metadata": {},
   "outputs": [],
   "source": [
    "a,n,mu,r,e,h = symbols(\"a,n,mu,r,e,h\",positive=True)\n",
    "ed,I,Id,O,Od,w,wd,th,thd,hd,t,f_r,f_th,f_h,v_r,v_th,nu = \\\n",
    "symbols(\"edot,I,Idot,Omega,Omegadot,omega,omegadot,\\\n",
    "theta,thetadot,hdot,t,f_r,f_theta,f_h,v_r,v_theta,nu\",real=True)"
   ]
  },
  {
   "cell_type": "markdown",
   "metadata": {},
   "source": [
    "Define required rotation matrices ($\\Omega$ rotation about $\\mathbf{\\hat{e}}_3$, $I$ about $\\mathbf{\\hat{n}}$ and $\\theta$ rotation about $\\mathbf{\\hat{h}}$)"
   ]
  },
  {
   "cell_type": "code",
   "execution_count": 3,
   "metadata": {},
   "outputs": [],
   "source": [
    "rot1 = Matrix(([cos(O),sin(O),0],[-sin(O),cos(O),0],[0,0,1]))\n",
    "rot2 = Matrix(([1,0,0],[0,cos(I),sin(I)],[0,-sin(I),cos(I)]))\n",
    "rot3 = Matrix(([cos(th),sin(th),0],[-sin(th),cos(th),0],[0,0,1]))"
   ]
  },
  {
   "cell_type": "markdown",
   "metadata": {},
   "source": [
    "$^\\mathcal{I}\\boldsymbol{\\omega}^\\mathcal{B} = \\dot\\Omega \\mathbf{\\hat{e}}_3 + \\dot I \\mathbf{\\hat{n}} + \\dot\\theta \\mathbf{h}$"
   ]
  },
  {
   "cell_type": "code",
   "execution_count": 4,
   "metadata": {},
   "outputs": [
    {
     "data": {
      "image/png": "[encoded data removed]",
      "text/latex": [
       "$$\\left[\\begin{matrix}\\dot{I} \\cos{\\left (\\theta \\right )} + \\dot{\\Omega} \\sin{\\left (I \\right )} \\sin{\\left (\\theta \\right )}\\\\- \\dot{I} \\sin{\\left (\\theta \\right )} + \\dot{\\Omega} \\sin{\\left (I \\right )} \\cos{\\left (\\theta \\right )}\\\\\\dot{\\Omega} \\cos{\\left (I \\right )} + \\dot{\\theta}\\end{matrix}\\right]$$"
      ],
      "text/plain": [
       "⎡İ⋅cos(θ) + Ω̇⋅sin(I)⋅sin(θ) ⎤\n",
       "⎢                             ⎥\n",
       "⎢-İ⋅sin(θ) + Ω̇⋅sin(I)⋅cos(θ)⎥\n",
       "⎢                             ⎥\n",
       "⎣       Ω̇⋅cos(I) + θ̇        ⎦"
      ]
     },
     "execution_count": 4,
     "metadata": {},
     "output_type": "execute_result"
    }
   ],
   "source": [
    "IwB = rot3*rot2*Matrix([0,0,Od])+ rot3*Matrix([Id,0,0]) + Matrix([0,0,thd]); IwB"
   ]
  },
  {
   "cell_type": "markdown",
   "metadata": {},
   "source": [
    "$\\frac{^\\mathcal{I}\\textrm{d}\\mathbf{h}}{\\textrm{d}t} = \\frac{^\\mathcal{B}\\textrm{d}\\mathbf{h}}{\\textrm{d}t} + {}^\\mathcal{I}\\boldsymbol{\\omega}^\\mathcal{B} \\times \\mathbf{h} = \\mathbf{r}\\times \\mathbf{f}$"
   ]
  },
  {
   "cell_type": "code",
   "execution_count": 5,
   "metadata": {},
   "outputs": [
    {
     "data": {
      "image/png": "[encoded data removed]",
      "text/latex": [
       "$$\\left \\{ \\dot{I} : \\frac{f_{h} r}{h} \\cos{\\left (\\theta \\right )}, \\quad \\dot{\\Omega} : \\frac{f_{h} r \\sin{\\left (\\theta \\right )}}{h \\sin{\\left (I \\right )}}, \\quad \\dot{h} : f_{\\theta} r\\right \\}$$"
      ],
      "text/plain": [
       "⎧    f_h⋅r⋅cos(θ)      f_h⋅r⋅sin(θ)           ⎫\n",
       "⎨İ: ────────────, Ω̇: ────────────, ḣ: f_θ⋅r⎬\n",
       "⎩         h              h⋅sin(I)             ⎭"
      ]
     },
     "execution_count": 5,
     "metadata": {},
     "output_type": "execute_result"
    }
   ],
   "source": [
    "hvec = Matrix([0,0,h])\n",
    "dhdt1 = difftotalmat(hvec,t,{h:hd}) + IwB.cross(hvec)\n",
    "rvec = Matrix([r,0,0])\n",
    "fvec = Matrix([f_r,f_th,f_h])\n",
    "dhdt2 = rvec.cross(fvec)\n",
    "sol1 = solve(dhdt1-dhdt2,[hd,Od,Id]); sol1"
   ]
  },
  {
   "cell_type": "markdown",
   "metadata": {},
   "source": [
    "\n",
    "$\\frac{^\\mathcal{I}\\textrm{d}\\mathbf{e}}{\\textrm{d}t} = \\frac{1}{\\mu}\\left(\\mathbf{f} \\times \\mathbf{h} + \\mathbf{v} \\times \\mathbf{r} \\times \\mathbf{f}\\right)$"
   ]
  },
  {
   "cell_type": "code",
   "execution_count": 6,
   "metadata": {},
   "outputs": [],
   "source": [
    "evec = Matrix([e*cos(th - w),-e*sin(th - w),0])\n",
    "dedt1 = simplify(difftotalmat(evec,t,{e:ed,th:thd,w:wd})+ IwB.cross(evec))\n",
    "vvec = Matrix([v_r,v_th,0])\n",
    "dedt2 = (fvec.cross(hvec) + vvec.cross(rvec.cross(fvec)))/mu\n",
    "dedt3 = simplify(dedt1.subs([(Od,f_h*r*sin(th)/(h*sin(I))),(Id,f_h*r*cos(th)/h),(w,th-nu)]))"
   ]
  },
  {
   "cell_type": "code",
   "execution_count": 7,
   "metadata": {},
   "outputs": [
    {
     "data": {
      "image/png": "[encoded data removed]",
      "text/latex": [
       "$$\\left \\{ \\dot{e} : \\frac{e f_{\\theta}}{h} r \\sin^{2}{\\left (\\nu \\right )} + \\frac{f_{r} h}{\\mu} \\sin{\\left (\\nu \\right )} + \\frac{2 f_{\\theta}}{\\mu} h \\cos{\\left (\\nu \\right )}, \\quad \\dot{\\omega} : - \\frac{f_{h} r \\sin{\\left (\\theta \\right )}}{h \\tan{\\left (I \\right )}} - \\frac{f_{\\theta} r}{2 h} \\sin{\\left (2 \\nu \\right )} - \\frac{f_{r} h}{e \\mu} \\cos{\\left (\\nu \\right )} + \\frac{2 f_{\\theta} h}{e \\mu} \\sin{\\left (\\nu \\right )}\\right \\}$$"
      ],
      "text/plain": [
       "⎧               2                                                             \n",
       "⎪    e⋅f_θ⋅r⋅sin (ν)   fᵣ⋅h⋅sin(ν)   2⋅f_θ⋅h⋅cos(ν)        f_h⋅r⋅sin(θ)   f_θ⋅\n",
       "⎨ė: ─────────────── + ─────────── + ──────────────, ω̇: - ──────────── - ────\n",
       "⎪           h               μ              μ                 h⋅tan(I)         \n",
       "⎩                                                                             \n",
       "\n",
       "                                         ⎫\n",
       "r⋅sin(2⋅ν)   fᵣ⋅h⋅cos(ν)   2⋅f_θ⋅h⋅sin(ν)⎪\n",
       "────────── - ─────────── + ──────────────⎬\n",
       " 2⋅h             e⋅μ            e⋅μ      ⎪\n",
       "                                         ⎭"
      ]
     },
     "execution_count": 7,
     "metadata": {},
     "output_type": "execute_result"
    }
   ],
   "source": [
    "sol2 = solve(dedt3 - dedt2.subs(r*v_th,h).subs(v_r,mu/h*e*sin(nu)),[ed,wd]); sol2"
   ]
  },
  {
   "cell_type": "markdown",
   "metadata": {},
   "source": [
    "$^\\mathcal{I}\\boldsymbol{\\omega}^\\mathcal{B} \\cdot \\mathbf{\\hat{h}} = \\frac{v_\\theta}{r}$"
   ]
  },
  {
   "cell_type": "code",
   "execution_count": 8,
   "metadata": {},
   "outputs": [
    {
     "data": {
      "image/png": "[encoded data removed]",
      "text/latex": [
       "$$\\dot{\\Omega} \\cos{\\left (I \\right )} + \\dot{\\theta}$$"
      ],
      "text/plain": [
       "Ω̇⋅cos(I) + θ̇"
      ]
     },
     "execution_count": 8,
     "metadata": {},
     "output_type": "execute_result"
    }
   ],
   "source": [
    "IwB.dot(Matrix([0,0,1]))"
   ]
  },
  {
   "cell_type": "markdown",
   "metadata": {},
   "source": [
    "$h = \\sqrt{\\mu a (1 - e^2)}$"
   ]
  },
  {
   "cell_type": "code",
   "execution_count": 9,
   "metadata": {},
   "outputs": [
    {
     "data": {
      "image/png": "[encoded data removed]",
      "text/latex": [
       "$$\\frac{2 e \\dot{e} h^{2}}{\\mu \\left(- e^{2} + 1\\right)^{2}} + \\frac{2 h \\dot{h}}{\\mu \\left(- e^{2} + 1\\right)}$$"
      ],
      "text/plain": [
       "          2                 \n",
       "  2⋅e⋅ė⋅h         2⋅h⋅ḣ   \n",
       "───────────── + ────────────\n",
       "            2     ⎛   2    ⎞\n",
       "  ⎛   2    ⎞    μ⋅⎝- e  + 1⎠\n",
       "μ⋅⎝- e  + 1⎠                "
      ]
     },
     "execution_count": 9,
     "metadata": {},
     "output_type": "execute_result"
    }
   ],
   "source": [
    "ad = difftotal(h**2/mu/(1 - e**2),t,{h:hd,e:ed}); ad"
   ]
  },
  {
   "cell_type": "code",
   "execution_count": 10,
   "metadata": {},
   "outputs": [
    {
     "data": {
      "image/png": "[encoded data removed]",
      "text/latex": [
       "$$\\frac{2 e h^{2}}{\\mu \\left(- e^{2} + 1\\right)^{2}} \\left(\\frac{e f_{\\theta}}{h} r \\sin^{2}{\\left (\\nu \\right )} + \\frac{f_{r} h}{\\mu} \\sin{\\left (\\nu \\right )} + \\frac{2 f_{\\theta}}{\\mu} h \\cos{\\left (\\nu \\right )}\\right) + \\frac{2 f_{\\theta} h r}{\\mu \\left(- e^{2} + 1\\right)}$$"
      ],
      "text/plain": [
       "       ⎛           2                                  ⎞               \n",
       "     2 ⎜e⋅f_θ⋅r⋅sin (ν)   fᵣ⋅h⋅sin(ν)   2⋅f_θ⋅h⋅cos(ν)⎟               \n",
       "2⋅e⋅h ⋅⎜─────────────── + ─────────── + ──────────────⎟               \n",
       "       ⎝       h               μ              μ       ⎠    2⋅f_θ⋅h⋅r  \n",
       "─────────────────────────────────────────────────────── + ────────────\n",
       "                                 2                          ⎛   2    ⎞\n",
       "                       ⎛   2    ⎞                         μ⋅⎝- e  + 1⎠\n",
       "                     μ⋅⎝- e  + 1⎠                                     "
      ]
     },
     "execution_count": 10,
     "metadata": {},
     "output_type": "execute_result"
    }
   ],
   "source": [
    "ad = ad.subs(hd,sol1[hd]).subs(ed,sol2[ed]).subs(v_r,mu/h*e*sin(nu));ad"
   ]
  },
  {
   "cell_type": "code",
   "execution_count": 11,
   "metadata": {},
   "outputs": [
    {
     "data": {
      "image/png": "[encoded data removed]",
      "text/latex": [
       "$$\\frac{2 a^{\\frac{3}{2}} e f_{r} \\sin{\\left (\\nu \\right )}}{\\sqrt{\\mu} \\sqrt{- e^{2} + 1}}$$"
      ],
      "text/plain": [
       "   3/2            \n",
       "2⋅a   ⋅e⋅fᵣ⋅sin(ν)\n",
       "──────────────────\n",
       "       __________ \n",
       "      ╱    2      \n",
       " √μ⋅╲╱  - e  + 1  "
      ]
     },
     "execution_count": 11,
     "metadata": {},
     "output_type": "execute_result"
    }
   ],
   "source": [
    "simplify(ad.subs(f_th,0).subs(h,sqrt(mu*a*(1-e**2))))"
   ]
  },
  {
   "cell_type": "code",
   "execution_count": 12,
   "metadata": {},
   "outputs": [
    {
     "data": {
      "image/png": "[encoded data removed]",
      "text/latex": [
       "$$\\frac{2 a^{\\frac{3}{2}} f_{\\theta} \\left(e \\cos{\\left (\\nu \\right )} + 1\\right)}{\\sqrt{\\mu} \\sqrt{- e^{2} + 1}}$$"
      ],
      "text/plain": [
       "   3/2                   \n",
       "2⋅a   ⋅f_θ⋅(e⋅cos(ν) + 1)\n",
       "─────────────────────────\n",
       "           __________    \n",
       "          ╱    2         \n",
       "     √μ⋅╲╱  - e  + 1     "
      ]
     },
     "execution_count": 12,
     "metadata": {},
     "output_type": "execute_result"
    }
   ],
   "source": [
    "simplify(ad.subs(f_r,0).subs(h,sqrt(mu*a*(1-e**2))).subs(r,a*(1-e**2)/(1+e*cos(nu))))"
   ]
  },
  {
   "cell_type": "code",
   "execution_count": null,
   "metadata": {},
   "outputs": [],
   "source": []
  },
  {
   "cell_type": "code",
   "execution_count": null,
   "metadata": {},
   "outputs": [],
   "source": []
  }
 ],
 "metadata": {
  "kernelspec": {
   "display_name": "Python 3",
   "language": "python",
   "name": "python3"
  },
  "language_info": {
   "codemirror_mode": {
    "name": "ipython",
    "version": 3
   },
   "file_extension": ".py",
   "mimetype": "text/x-python",
   "name": "python",
   "nbconvert_exporter": "python",
   "pygments_lexer": "ipython3",
   "version": "3.7.6"
  }
 },
 "nbformat": 4,
 "nbformat_minor": 1
}
