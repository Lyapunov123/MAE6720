{
 "cells": [
  {
   "cell_type": "code",
   "execution_count": 1,
   "metadata": {},
   "outputs": [],
   "source": [
    "from miscpy.utils.sympyhelpers import *\n",
    "init_printing()"
   ]
  },
  {
   "cell_type": "markdown",
   "metadata": {},
   "source": [
    "![Orbit Diagram](img/orbit_frames_gausseqs.png)"
   ]
  },
  {
   "cell_type": "code",
   "execution_count": 2,
   "metadata": {},
   "outputs": [],
   "source": [
    "a,n,mu,r,e,h = symbols(\"a,n,mu,r,e,h\",positive=True)\n",
    "ed,I,Id,O,Od,w,wd,th,thd,hd,t,f_r,f_th,f_h,v_r,v_th,nu = \\\n",
    "symbols(\"edot,I,Idot,Omega,Omegadot,omega,omegadot,\\\n",
    "theta,thetadot,hdot,t,f_r,f_theta,f_h,v_r,v_theta,nu\",real=True)"
   ]
  },
  {
   "cell_type": "markdown",
   "metadata": {},
   "source": [
    "Define required rotation matrices ($\\Omega$ rotation about $\\mathbf{\\hat{e}}_3$, $I$ about $\\mathbf{\\hat{n}}$ and $\\theta$ rotation about $\\mathbf{\\hat{h}}$)"
   ]
  },
  {
   "cell_type": "code",
   "execution_count": 3,
   "metadata": {},
   "outputs": [
    {
     "data": {
      "text/latex": [
       "$\\displaystyle \\left( \\left[\\begin{matrix}\\cos{\\left(\\Omega \\right)} & \\sin{\\left(\\Omega \\right)} & 0\\\\- \\sin{\\left(\\Omega \\right)} & \\cos{\\left(\\Omega \\right)} & 0\\\\0 & 0 & 1\\end{matrix}\\right], \\  \\left[\\begin{matrix}1 & 0 & 0\\\\0 & \\cos{\\left(I \\right)} & \\sin{\\left(I \\right)}\\\\0 & - \\sin{\\left(I \\right)} & \\cos{\\left(I \\right)}\\end{matrix}\\right], \\  \\left[\\begin{matrix}\\cos{\\left(\\theta \\right)} & \\sin{\\left(\\theta \\right)} & 0\\\\- \\sin{\\left(\\theta \\right)} & \\cos{\\left(\\theta \\right)} & 0\\\\0 & 0 & 1\\end{matrix}\\right]\\right)$"
      ],
      "text/plain": [
       "⎛⎡cos(Ω)   sin(Ω)  0⎤  ⎡1     0       0   ⎤  ⎡cos(θ)   sin(θ)  0⎤⎞\n",
       "⎜⎢                  ⎥  ⎢                  ⎥  ⎢                  ⎥⎟\n",
       "⎜⎢-sin(Ω)  cos(Ω)  0⎥, ⎢0  cos(I)   sin(I)⎥, ⎢-sin(θ)  cos(θ)  0⎥⎟\n",
       "⎜⎢                  ⎥  ⎢                  ⎥  ⎢                  ⎥⎟\n",
       "⎝⎣   0       0     1⎦  ⎣0  -sin(I)  cos(I)⎦  ⎣   0       0     1⎦⎠"
      ]
     },
     "execution_count": 3,
     "metadata": {},
     "output_type": "execute_result"
    }
   ],
   "source": [
    "rot1 = Matrix(([cos(O),sin(O),0],[-sin(O),cos(O),0],[0,0,1]))\n",
    "rot2 = Matrix(([1,0,0],[0,cos(I),sin(I)],[0,-sin(I),cos(I)]))\n",
    "rot3 = Matrix(([cos(th),sin(th),0],[-sin(th),cos(th),0],[0,0,1]))\n",
    "rot1,rot2,rot3"
   ]
  },
  {
   "cell_type": "markdown",
   "metadata": {},
   "source": [
    "$^\\mathcal{I}\\boldsymbol{\\omega}^\\mathcal{B} = \\dot\\Omega \\mathbf{\\hat{e}}_3 + \\dot I \\mathbf{\\hat{n}} + \\dot\\theta \\mathbf{\\hat{h}}$"
   ]
  },
  {
   "cell_type": "code",
   "execution_count": 4,
   "metadata": {},
   "outputs": [
    {
     "data": {
      "text/latex": [
       "$\\displaystyle \\left[\\begin{matrix}\\dot{I} \\cos{\\left(\\theta \\right)} + \\dot{\\Omega} \\sin{\\left(I \\right)} \\sin{\\left(\\theta \\right)}\\\\- \\dot{I} \\sin{\\left(\\theta \\right)} + \\dot{\\Omega} \\sin{\\left(I \\right)} \\cos{\\left(\\theta \\right)}\\\\\\dot{\\Omega} \\cos{\\left(I \\right)} + \\dot{\\theta}\\end{matrix}\\right]$"
      ],
      "text/plain": [
       "⎡İ⋅cos(θ) + Ω̇⋅sin(I)⋅sin(θ) ⎤\n",
       "⎢                           ⎥\n",
       "⎢-İ⋅sin(θ) + Ω̇⋅sin(I)⋅cos(θ)⎥\n",
       "⎢                           ⎥\n",
       "⎣       Ω̇⋅cos(I) + θ̇        ⎦"
      ]
     },
     "execution_count": 4,
     "metadata": {},
     "output_type": "execute_result"
    }
   ],
   "source": [
    "IwB = rot3*rot2*Matrix([0,0,Od])+ rot3*Matrix([Id,0,0]) + Matrix([0,0,thd]); IwB"
   ]
  },
  {
   "cell_type": "markdown",
   "metadata": {},
   "source": [
    "$\\frac{^\\mathcal{I}\\textrm{d}\\mathbf{h}}{\\textrm{d}t} = \\frac{^\\mathcal{B}\\textrm{d}\\mathbf{h}}{\\textrm{d}t} + {}^\\mathcal{I}\\boldsymbol{\\omega}^\\mathcal{B} \\times \\mathbf{h} = \\mathbf{r}\\times \\mathbf{f}$"
   ]
  },
  {
   "cell_type": "code",
   "execution_count": 5,
   "metadata": {},
   "outputs": [
    {
     "data": {
      "image/png": "[encoded data removed]",
      "text/latex": [
       "$\\displaystyle \\left\\{ \\dot{I} : \\frac{f_{h} r \\cos{\\left(\\theta \\right)}}{h \\sin^{2}{\\left(\\theta \\right)} + h \\cos^{2}{\\left(\\theta \\right)}}, \\  \\dot{\\Omega} : \\frac{f_{h} r \\sin{\\left(\\theta \\right)}}{h \\sin{\\left(I \\right)} \\sin^{2}{\\left(\\theta \\right)} + h \\sin{\\left(I \\right)} \\cos^{2}{\\left(\\theta \\right)}}, \\  \\dot{h} : f_{\\theta} r\\right\\}$"
      ],
      "text/plain": [
       "⎧        fₕ⋅r⋅cos(θ)                      fₕ⋅r⋅sin(θ)                         \n",
       "⎪İ: ─────────────────────, Ω̇: ───────────────────────────────────, ḣ: fₜₕₑₜ\n",
       "⎨        2           2                    2                  2                \n",
       "⎪   h⋅sin (θ) + h⋅cos (θ)     h⋅sin(I)⋅sin (θ) + h⋅sin(I)⋅cos (θ)             \n",
       "⎩                                                                             \n",
       "\n",
       "⎫\n",
       "ₐ⋅r⎪\n",
       "⎬\n",
       "⎪\n",
       "⎭"
      ]
     },
     "execution_count": 5,
     "metadata": {},
     "output_type": "execute_result"
    }
   ],
   "source": [
    "hvec = Matrix([0,0,h])\n",
    "dhdt1 = difftotalmat(hvec,t,{h:hd}) + IwB.cross(hvec)\n",
    "rvec = Matrix([r,0,0])\n",
    "fvec = Matrix([f_r,f_th,f_h])\n",
    "dhdt2 = rvec.cross(fvec)\n",
    "sol1 = solve(dhdt1-dhdt2,[hd,Od,Id]); sol1"
   ]
  },
  {
   "cell_type": "markdown",
   "metadata": {},
   "source": [
    "\n",
    "$\\frac{^\\mathcal{I}\\textrm{d}\\mathbf{e}}{\\textrm{d}t} = \\frac{1}{\\mu}\\left(\\mathbf{f} \\times \\mathbf{h} + \\mathbf{v} \\times \\mathbf{r} \\times \\mathbf{f}\\right)$"
   ]
  },
  {
   "cell_type": "code",
   "execution_count": 6,
   "metadata": {},
   "outputs": [],
   "source": [
    "evec = Matrix([e*cos(th - w),-e*sin(th - w),0])\n",
    "dedt1 = simplify(difftotalmat(evec,t,{e:ed,th:thd,w:wd})+ IwB.cross(evec))\n",
    "vvec = Matrix([v_r,v_th,0])\n",
    "dedt2 = (fvec.cross(hvec) + vvec.cross(rvec.cross(fvec)))/mu\n",
    "dedt3 = simplify(dedt1.subs([(Od,f_h*r*sin(th)/(h*sin(I))),(Id,f_h*r*cos(th)/h),(w,th-nu)]))"
   ]
  },
  {
   "cell_type": "code",
   "execution_count": 7,
   "metadata": {},
   "outputs": [
    {
     "data": {
      "image/png": "[encoded data removed]",
      "text/latex": [
       "$\\displaystyle \\left\\{ \\dot{e} : \\frac{e f_{\\theta} \\mu r \\sin^{2}{\\left(\\nu \\right)}}{h \\mu \\sin^{2}{\\left(\\nu \\right)} + h \\mu \\cos^{2}{\\left(\\nu \\right)}} + \\frac{f_{r} h^{2} \\sin{\\left(\\nu \\right)}}{h \\mu \\sin^{2}{\\left(\\nu \\right)} + h \\mu \\cos^{2}{\\left(\\nu \\right)}} + \\frac{2 f_{\\theta} h^{2} \\cos{\\left(\\nu \\right)}}{h \\mu \\sin^{2}{\\left(\\nu \\right)} + h \\mu \\cos^{2}{\\left(\\nu \\right)}}, \\  \\dot{\\omega} : - \\frac{e f_{h} \\mu r \\sin^{2}{\\left(\\nu \\right)} \\sin{\\left(\\theta \\right)}}{e h \\mu \\sin^{2}{\\left(\\nu \\right)} \\tan{\\left(I \\right)} + e h \\mu \\cos^{2}{\\left(\\nu \\right)} \\tan{\\left(I \\right)}} - \\frac{e f_{h} \\mu r \\sin{\\left(\\theta \\right)} \\cos^{2}{\\left(\\nu \\right)}}{e h \\mu \\sin^{2}{\\left(\\nu \\right)} \\tan{\\left(I \\right)} + e h \\mu \\cos^{2}{\\left(\\nu \\right)} \\tan{\\left(I \\right)}} - \\frac{e f_{\\theta} \\mu r \\sin{\\left(\\nu \\right)} \\cos{\\left(\\nu \\right)} \\tan{\\left(I \\right)}}{e h \\mu \\sin^{2}{\\left(\\nu \\right)} \\tan{\\left(I \\right)} + e h \\mu \\cos^{2}{\\left(\\nu \\right)} \\tan{\\left(I \\right)}} - \\frac{f_{r} h^{2} \\cos{\\left(\\nu \\right)} \\tan{\\left(I \\right)}}{e h \\mu \\sin^{2}{\\left(\\nu \\right)} \\tan{\\left(I \\right)} + e h \\mu \\cos^{2}{\\left(\\nu \\right)} \\tan{\\left(I \\right)}} + \\frac{2 f_{\\theta} h^{2} \\sin{\\left(\\nu \\right)} \\tan{\\left(I \\right)}}{e h \\mu \\sin^{2}{\\left(\\nu \\right)} \\tan{\\left(I \\right)} + e h \\mu \\cos^{2}{\\left(\\nu \\right)} \\tan{\\left(I \\right)}}\\right\\}$"
      ],
      "text/plain": [
       "⎧                      2                   2                              2   \n",
       "⎪      e⋅fₜₕₑₜₐ⋅μ⋅r⋅sin (ν)            fᵣ⋅h ⋅sin(ν)             2⋅fₜₕₑₜₐ⋅h ⋅co\n",
       "⎨ė: ───────────────────────── + ───────────────────────── + ─────────────────\n",
       "⎪          2             2             2             2             2          \n",
       "⎩   h⋅μ⋅sin (ν) + h⋅μ⋅cos (ν)   h⋅μ⋅sin (ν) + h⋅μ⋅cos (ν)   h⋅μ⋅sin (ν) + h⋅μ⋅\n",
       "\n",
       "                                    2                                         \n",
       "s(ν)                    e⋅fₕ⋅μ⋅r⋅sin (ν)⋅sin(θ)                       e⋅fₕ⋅μ⋅r\n",
       "────────, ω̇: - ─────────────────────────────────────────── - ────────────────\n",
       "   2                   2                      2                      2        \n",
       "cos (ν)       e⋅h⋅μ⋅sin (ν)⋅tan(I) + e⋅h⋅μ⋅cos (ν)⋅tan(I)   e⋅h⋅μ⋅sin (ν)⋅tan(\n",
       "\n",
       "           2                                                                  \n",
       "⋅sin(θ)⋅cos (ν)                  e⋅fₜₕₑₜₐ⋅μ⋅r⋅sin(ν)⋅cos(ν)⋅tan(I)            \n",
       "─────────────────────────── - ─────────────────────────────────────────── - ──\n",
       "              2                      2                      2                 \n",
       "I) + e⋅h⋅μ⋅cos (ν)⋅tan(I)   e⋅h⋅μ⋅sin (ν)⋅tan(I) + e⋅h⋅μ⋅cos (ν)⋅tan(I)   e⋅h⋅\n",
       "\n",
       "            2                                                2                \n",
       "        fᵣ⋅h ⋅cos(ν)⋅tan(I)                        2⋅fₜₕₑₜₐ⋅h ⋅sin(ν)⋅tan(I)  \n",
       "───────────────────────────────────────── + ──────────────────────────────────\n",
       "     2                      2                      2                      2   \n",
       "μ⋅sin (ν)⋅tan(I) + e⋅h⋅μ⋅cos (ν)⋅tan(I)   e⋅h⋅μ⋅sin (ν)⋅tan(I) + e⋅h⋅μ⋅cos (ν)\n",
       "\n",
       "       ⎫\n",
       "       ⎪\n",
       "─────────⎬\n",
       "       ⎪\n",
       "⋅tan(I)⎭"
      ]
     },
     "execution_count": 7,
     "metadata": {},
     "output_type": "execute_result"
    }
   ],
   "source": [
    "sol2 = simplify(solve(dedt3 - dedt2.subs(r*v_th,h).subs(v_r,mu/h*e*sin(nu)),[ed,wd])); sol2"
   ]
  },
  {
   "cell_type": "code",
   "execution_count": 8,
   "metadata": {},
   "outputs": [
    {
     "data": {
      "image/png": "[encoded data removed]",
      "text/latex": [
       "$\\displaystyle \\frac{f_{r} h \\sin{\\left(\\nu \\right)}}{\\mu} + f_{\\theta} \\left(\\frac{e r \\sin^{2}{\\left(\\nu \\right)}}{h} + \\frac{2 h \\cos{\\left(\\nu \\right)}}{\\mu}\\right)$"
      ],
      "text/plain": [
       "                     ⎛       2                ⎞\n",
       "fᵣ⋅h⋅sin(ν)          ⎜e⋅r⋅sin (ν)   2⋅h⋅cos(ν)⎟\n",
       "─────────── + fₜₕₑₜₐ⋅⎜─────────── + ──────────⎟\n",
       "     μ               ⎝     h            μ     ⎠"
      ]
     },
     "execution_count": 8,
     "metadata": {},
     "output_type": "execute_result"
    }
   ],
   "source": [
    "collect(simplify(sol2[ed]),f_th)"
   ]
  },
  {
   "cell_type": "markdown",
   "metadata": {},
   "source": [
    "$^\\mathcal{I}\\boldsymbol{\\omega}^\\mathcal{B} \\cdot \\mathbf{\\hat{h}} = \\frac{v_\\theta}{r}$"
   ]
  },
  {
   "cell_type": "code",
   "execution_count": null,
   "metadata": {},
   "outputs": [],
   "source": [
    "IwB.dot(Matrix([0,0,1]))"
   ]
  }
 ],
 "metadata": {
  "kernelspec": {
   "display_name": "Python 3 (ipykernel)",
   "language": "python",
   "name": "python3"
  },
  "language_info": {
   "codemirror_mode": {
    "name": "ipython",
    "version": 3
   },
   "file_extension": ".py",
   "mimetype": "text/x-python",
   "name": "python",
   "nbconvert_exporter": "python",
   "pygments_lexer": "ipython3",
   "version": "3.9.9"
  }
 },
 "nbformat": 4,
 "nbformat_minor": 4
}
