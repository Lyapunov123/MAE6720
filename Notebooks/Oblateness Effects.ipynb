{
 "cells": [
  {
   "cell_type": "code",
   "execution_count": 2,
   "metadata": {},
   "outputs": [],
   "source": [
    "from miscpy.utils.sympyhelpers import *\n",
    "init_printing()"
   ]
  },
  {
   "cell_type": "code",
   "execution_count": 18,
   "metadata": {},
   "outputs": [],
   "source": [
    "a,mu,e,r,R,ell = symbols('a,mu,e,r,R,l',real=True,positive=True)\n",
    "rd,ed,I,Id,O,Od,w,wd,th,thd,h,hd,t,f_r,f_th,f_h,v_r,v_th,nu,nud,l,phi,J2 = \\\n",
    "symbols(\"rdot,edot,I,Idot,Omega,Omegadot,omega,omegadot,theta,thetadot,h,hdot,t,\\\n",
    "f_r,f_theta,f_h,v_r,v_theta,nu,nudot,lambda,phi,J_2\",real=True)"
   ]
  },
  {
   "cell_type": "markdown",
   "metadata": {},
   "source": [
    "Define required rotation matrices: $\\Omega$ rotation about $\\mathbf{\\hat{e}}_3$ -> Frame $\\mathcal A_1$, $I$ about  $\\mathbf{\\hat{n}}$-> Frame $\\mathcal A_2$ and $\\theta$ rotation about $\\mathbf{\\hat{h}}$ -> Frame $\\mathcal B$ (rotating frame)\n",
    "\n",
    "For spherical frame it's $\\lambda$ about $\\mathbf{\\hat{e}}_3$ -> Frame $\\mathcal B_1$ and $\\phi$ about $\\mathbf{\\hat{a}}_1$ -> Frame $\\mathcal S = (P,\\mathbf{\\hat{\\phi}},\\mathbf{\\hat{\\lambda}},\\mathbf{\\hat{r}})$"
   ]
  },
  {
   "cell_type": "code",
   "execution_count": 19,
   "metadata": {},
   "outputs": [],
   "source": [
    "A1_C_I = rotMat(3,O)\n",
    "A2_C_A1 = rotMat(1,I)\n",
    "B_C_A2 = rotMat(3,th)\n",
    "B_C_I = B_C_A2*A2_C_A1*A1_C_I\n",
    "\n",
    "B1_C_I = rotMat(3,l)\n",
    "S_C_B1 = rotMat(2,phi)\n",
    "S_C_I = S_C_B1*B1_C_I"
   ]
  },
  {
   "cell_type": "code",
   "execution_count": 20,
   "metadata": {},
   "outputs": [
    {
     "data": {
      "image/png": "[encoded data removed]",
      "text/latex": [
       "$\\displaystyle \\left[\\begin{matrix}r \\left(- \\sin{\\left(\\Omega \\right)} \\sin{\\left(\\theta \\right)} \\cos{\\left(I \\right)} + \\cos{\\left(\\Omega \\right)} \\cos{\\left(\\theta \\right)}\\right)\\\\r \\left(\\sin{\\left(\\Omega \\right)} \\cos{\\left(\\theta \\right)} + \\sin{\\left(\\theta \\right)} \\cos{\\left(I \\right)} \\cos{\\left(\\Omega \\right)}\\right)\\\\r \\sin{\\left(I \\right)} \\sin{\\left(\\theta \\right)}\\end{matrix}\\right]$"
      ],
      "text/plain": [
       "⎡r⋅(-sin(Ω)⋅sin(θ)⋅cos(I) + cos(Ω)⋅cos(θ))⎤\n",
       "⎢                                         ⎥\n",
       "⎢r⋅(sin(Ω)⋅cos(θ) + sin(θ)⋅cos(I)⋅cos(Ω)) ⎥\n",
       "⎢                                         ⎥\n",
       "⎣             r⋅sin(I)⋅sin(θ)             ⎦"
      ]
     },
     "execution_count": 20,
     "metadata": {},
     "output_type": "execute_result"
    }
   ],
   "source": [
    "r1 = transpose(B_C_I)*Matrix([r,0,0]);r1"
   ]
  },
  {
   "cell_type": "code",
   "execution_count": 21,
   "metadata": {},
   "outputs": [
    {
     "data": {
      "image/png": "[encoded data removed]",
      "text/latex": [
       "$\\displaystyle \\left[\\begin{matrix}r \\sin{\\left(\\phi \\right)} \\cos{\\left(\\lambda \\right)}\\\\r \\sin{\\left(\\lambda \\right)} \\sin{\\left(\\phi \\right)}\\\\r \\cos{\\left(\\phi \\right)}\\end{matrix}\\right]$"
      ],
      "text/plain": [
       "⎡r⋅sin(φ)⋅cos(λ)⎤\n",
       "⎢               ⎥\n",
       "⎢r⋅sin(λ)⋅sin(φ)⎥\n",
       "⎢               ⎥\n",
       "⎣   r⋅cos(φ)    ⎦"
      ]
     },
     "execution_count": 21,
     "metadata": {},
     "output_type": "execute_result"
    }
   ],
   "source": [
    "r2 = S_C_I.transpose()*Matrix([0,0,r]);r2"
   ]
  },
  {
   "cell_type": "markdown",
   "metadata": {},
   "source": [
    "Matching the third component of the two matrices shows that $\\sin(I)\\sin(\\theta) = \\cos\\phi$\n",
    "\n",
    "Next we define the perturbing potential as the $J_2$ term of the azimuthally symmetric body potential"
   ]
  },
  {
   "cell_type": "code",
   "execution_count": 22,
   "metadata": {},
   "outputs": [
    {
     "data": {
      "image/png": "[encoded data removed]",
      "text/latex": [
       "$\\displaystyle - \\frac{J_{2} R^{2} \\mu \\left(3 \\cos^{2}{\\left(\\phi \\right)} - 1\\right)}{2 r^{3}}$"
      ],
      "text/plain": [
       "     2   ⎛     2       ⎞ \n",
       "-J₂⋅R ⋅μ⋅⎝3⋅cos (φ) - 1⎠ \n",
       "─────────────────────────\n",
       "              3          \n",
       "           2⋅r           "
      ]
     },
     "execution_count": 22,
     "metadata": {},
     "output_type": "execute_result"
    }
   ],
   "source": [
    "U1 = -mu/r*(J2*(R/r)**2*(3*cos(phi)**2 - 1)/2);U1"
   ]
  },
  {
   "cell_type": "markdown",
   "metadata": {},
   "source": [
    "Define $\\mathcal S$ frame so that it is ordered $(\\mathbf{\\hat{r}},\\mathbf{\\hat{\\phi}},\\mathbf{\\hat{\\lambda}})$"
   ]
  },
  {
   "cell_type": "code",
   "execution_count": 23,
   "metadata": {},
   "outputs": [
    {
     "data": {
      "image/png": "[encoded data removed]",
      "text/latex": [
       "$\\displaystyle \\left[\\begin{matrix}\\frac{3 J_{2} R^{2} \\mu \\left(3 \\cos^{2}{\\left(\\phi \\right)} - 1\\right)}{2 r^{4}}\\\\\\frac{3 J_{2} R^{2} \\mu \\sin{\\left(\\phi \\right)} \\cos{\\left(\\phi \\right)}}{r^{4}}\\\\0\\end{matrix}\\right]$"
      ],
      "text/plain": [
       "⎡      2   ⎛     2       ⎞⎤\n",
       "⎢3⋅J₂⋅R ⋅μ⋅⎝3⋅cos (φ) - 1⎠⎥\n",
       "⎢─────────────────────────⎥\n",
       "⎢              4          ⎥\n",
       "⎢           2⋅r           ⎥\n",
       "⎢                         ⎥\n",
       "⎢       2                 ⎥\n",
       "⎢ 3⋅J₂⋅R ⋅μ⋅sin(φ)⋅cos(φ) ⎥\n",
       "⎢ ─────────────────────── ⎥\n",
       "⎢             4           ⎥\n",
       "⎢            r            ⎥\n",
       "⎢                         ⎥\n",
       "⎣            0            ⎦"
      ]
     },
     "execution_count": 23,
     "metadata": {},
     "output_type": "execute_result"
    }
   ],
   "source": [
    "f_S = (Matrix([diff(U1,r),diff(U1,phi)/r,0]));f_S "
   ]
  },
  {
   "cell_type": "code",
   "execution_count": 24,
   "metadata": {},
   "outputs": [
    {
     "data": {
      "image/png": "[encoded data removed]",
      "text/latex": [
       "$\\displaystyle \\left[\\begin{matrix}1 & 0 & 0\\\\0 & \\frac{\\cos{\\left(\\theta \\right)} \\tan{\\left(I \\right)}}{\\sqrt{\\cos^{2}{\\left(\\theta \\right)} \\tan^{2}{\\left(I \\right)} + 1}} & \\frac{1}{\\sqrt{\\cos^{2}{\\left(\\theta \\right)} \\tan^{2}{\\left(I \\right)} + 1}}\\\\0 & - \\frac{1}{\\sqrt{\\cos^{2}{\\left(\\theta \\right)} \\tan^{2}{\\left(I \\right)} + 1}} & \\frac{\\cos{\\left(\\theta \\right)} \\tan{\\left(I \\right)}}{\\sqrt{\\cos^{2}{\\left(\\theta \\right)} \\tan^{2}{\\left(I \\right)} + 1}}\\end{matrix}\\right]$"
      ],
      "text/plain": [
       "⎡1             0                         0            ⎤\n",
       "⎢                                                     ⎥\n",
       "⎢        cos(θ)⋅tan(I)                   1            ⎥\n",
       "⎢0  ────────────────────────  ────────────────────────⎥\n",
       "⎢      _____________________     _____________________⎥\n",
       "⎢     ╱    2       2            ╱    2       2        ⎥\n",
       "⎢   ╲╱  cos (θ)⋅tan (I) + 1   ╲╱  cos (θ)⋅tan (I) + 1 ⎥\n",
       "⎢                                                     ⎥\n",
       "⎢             -1                   cos(θ)⋅tan(I)      ⎥\n",
       "⎢0  ────────────────────────  ────────────────────────⎥\n",
       "⎢      _____________________     _____________________⎥\n",
       "⎢     ╱    2       2            ╱    2       2        ⎥\n",
       "⎣   ╲╱  cos (θ)⋅tan (I) + 1   ╲╱  cos (θ)⋅tan (I) + 1 ⎦"
      ]
     },
     "execution_count": 24,
     "metadata": {},
     "output_type": "execute_result"
    }
   ],
   "source": [
    "B_C_S = rotMat(1,pi/2-atan(cos(th)*tan(I))); B_C_S"
   ]
  },
  {
   "cell_type": "code",
   "execution_count": 25,
   "metadata": {},
   "outputs": [
    {
     "data": {
      "image/png": "[encoded data removed]",
      "text/latex": [
       "$\\displaystyle \\left[\\begin{matrix}\\frac{3 J_{2} R^{2} \\mu \\left(3 \\sin^{2}{\\left(I \\right)} \\sin^{2}{\\left(\\theta \\right)} - 1\\right)}{2 r^{4}}\\\\\\frac{3 J_{2} R^{2} \\mu \\sqrt{- \\sin^{2}{\\left(I \\right)} \\sin^{2}{\\left(\\theta \\right)} + 1} \\sin{\\left(I \\right)} \\sin{\\left(\\theta \\right)} \\cos{\\left(\\theta \\right)} \\tan{\\left(I \\right)}}{r^{4} \\sqrt{\\cos^{2}{\\left(\\theta \\right)} \\tan^{2}{\\left(I \\right)} + 1}}\\\\- \\frac{3 J_{2} R^{2} \\mu \\sqrt{- \\sin^{2}{\\left(I \\right)} \\sin^{2}{\\left(\\theta \\right)} + 1} \\sin{\\left(I \\right)} \\sin{\\left(\\theta \\right)}}{r^{4} \\sqrt{\\cos^{2}{\\left(\\theta \\right)} \\tan^{2}{\\left(I \\right)} + 1}}\\end{matrix}\\right]$"
      ],
      "text/plain": [
       "⎡                     2   ⎛     2       2       ⎞                ⎤\n",
       "⎢               3⋅J₂⋅R ⋅μ⋅⎝3⋅sin (I)⋅sin (θ) - 1⎠                ⎥\n",
       "⎢               ─────────────────────────────────                ⎥\n",
       "⎢                                 4                              ⎥\n",
       "⎢                              2⋅r                               ⎥\n",
       "⎢                                                                ⎥\n",
       "⎢             _______________________                            ⎥\n",
       "⎢      2     ╱      2       2                                    ⎥\n",
       "⎢3⋅J₂⋅R ⋅μ⋅╲╱  - sin (I)⋅sin (θ) + 1 ⋅sin(I)⋅sin(θ)⋅cos(θ)⋅tan(I)⎥\n",
       "⎢────────────────────────────────────────────────────────────────⎥\n",
       "⎢                        _____________________                   ⎥\n",
       "⎢                   4   ╱    2       2                           ⎥\n",
       "⎢                  r ⋅╲╱  cos (θ)⋅tan (I) + 1                    ⎥\n",
       "⎢                                                                ⎥\n",
       "⎢                    _______________________                     ⎥\n",
       "⎢             2     ╱      2       2                             ⎥\n",
       "⎢      -3⋅J₂⋅R ⋅μ⋅╲╱  - sin (I)⋅sin (θ) + 1 ⋅sin(I)⋅sin(θ)       ⎥\n",
       "⎢      ────────────────────────────────────────────────────      ⎥\n",
       "⎢                        _____________________                   ⎥\n",
       "⎢                   4   ╱    2       2                           ⎥\n",
       "⎣                  r ⋅╲╱  cos (θ)⋅tan (I) + 1                    ⎦"
      ]
     },
     "execution_count": 25,
     "metadata": {},
     "output_type": "execute_result"
    }
   ],
   "source": [
    "t1 = simplify((B_C_S*f_S).subs(phi,acos(sin(I)*sin(th))));t1"
   ]
  },
  {
   "cell_type": "markdown",
   "metadata": {},
   "source": [
    "Will need to do some simplification manually here.  First, let's convince ourselves that $$\\frac{1 - \\sin^2(I)\\cos^2(\\theta)}{\\cos^2(I) + \\cos(\\theta)^2\\sin^2(I)} = 1$$"
   ]
  },
  {
   "cell_type": "code",
   "execution_count": 26,
   "metadata": {},
   "outputs": [
    {
     "data": {
      "image/png": "[encoded data removed]",
      "text/latex": [
       "$\\displaystyle 1$"
      ],
      "text/plain": [
       "1"
      ]
     },
     "execution_count": 26,
     "metadata": {},
     "output_type": "execute_result"
    }
   ],
   "source": [
    "simplify((1 - sin(I)**2*sin(th)**2)/(cos(I)**2 + cos(th)**2*sin(I)**2))"
   ]
  },
  {
   "cell_type": "markdown",
   "metadata": {},
   "source": [
    "Similarly, we can then show that $$\\frac{1 - \\sin^2(I)\\cos^2(\\theta)}{1 + \\tan^2(I)\\cos(\\theta)^2} = \\cos^2(I)$$"
   ]
  },
  {
   "cell_type": "code",
   "execution_count": 30,
   "metadata": {},
   "outputs": [
    {
     "data": {
      "image/png": "[encoded data removed]",
      "text/latex": [
       "$\\displaystyle 0$"
      ],
      "text/plain": [
       "0"
      ]
     },
     "execution_count": 30,
     "metadata": {},
     "output_type": "execute_result"
    }
   ],
   "source": [
    "simplify((((1 - sin(I)**2*sin(th)**2)/(1 + cos(th)**2*tan(I)**2)))- cos(I)**2)"
   ]
  },
  {
   "cell_type": "markdown",
   "metadata": {},
   "source": [
    "Great, so let's do the substitution to get rid of those gross square roots"
   ]
  },
  {
   "cell_type": "code",
   "execution_count": 31,
   "metadata": {},
   "outputs": [
    {
     "data": {
      "image/png": "[encoded data removed]",
      "text/latex": [
       "$\\displaystyle \\left[\\begin{matrix}\\frac{3 J_{2} R^{2} \\mu \\left(3 \\sin^{2}{\\left(I \\right)} \\sin^{2}{\\left(\\theta \\right)} - 1\\right)}{2 r^{4}}\\\\\\frac{3 J_{2} R^{2} \\mu \\sin{\\left(I \\right)} \\sin{\\left(\\theta \\right)} \\cos{\\left(I \\right)} \\cos{\\left(\\theta \\right)} \\tan{\\left(I \\right)}}{r^{4}}\\\\- \\frac{3 J_{2} R^{2} \\mu \\sin{\\left(I \\right)} \\sin{\\left(\\theta \\right)} \\cos{\\left(I \\right)}}{r^{4}}\\end{matrix}\\right]$"
      ],
      "text/plain": [
       "⎡           2   ⎛     2       2       ⎞      ⎤\n",
       "⎢     3⋅J₂⋅R ⋅μ⋅⎝3⋅sin (I)⋅sin (θ) - 1⎠      ⎥\n",
       "⎢     ─────────────────────────────────      ⎥\n",
       "⎢                       4                    ⎥\n",
       "⎢                    2⋅r                     ⎥\n",
       "⎢                                            ⎥\n",
       "⎢      2                                     ⎥\n",
       "⎢3⋅J₂⋅R ⋅μ⋅sin(I)⋅sin(θ)⋅cos(I)⋅cos(θ)⋅tan(I)⎥\n",
       "⎢────────────────────────────────────────────⎥\n",
       "⎢                      4                     ⎥\n",
       "⎢                     r                      ⎥\n",
       "⎢                                            ⎥\n",
       "⎢             2                              ⎥\n",
       "⎢      -3⋅J₂⋅R ⋅μ⋅sin(I)⋅sin(θ)⋅cos(I)       ⎥\n",
       "⎢      ────────────────────────────────      ⎥\n",
       "⎢                      4                     ⎥\n",
       "⎣                     r                      ⎦"
      ]
     },
     "execution_count": 31,
     "metadata": {},
     "output_type": "execute_result"
    }
   ],
   "source": [
    "f_B = (t1.subs((sqrt((1 - sin(I)**2*sin(th)**2)/(1 + cos(th)**2*tan(I)**2))),cos(I))); f_B"
   ]
  },
  {
   "cell_type": "code",
   "execution_count": 35,
   "metadata": {},
   "outputs": [
    {
     "data": {
      "image/png": "[encoded data removed]",
      "text/latex": [
       "$\\displaystyle \\left[\\begin{matrix}- \\frac{3 \\sin^{2}{\\left(I \\right)} \\sin^{2}{\\left(\\theta \\right)}}{2} + \\frac{1}{2}\\\\- \\sin^{2}{\\left(I \\right)} \\sin{\\left(\\theta \\right)} \\cos{\\left(\\theta \\right)}\\\\\\sin{\\left(I \\right)} \\sin{\\left(\\theta \\right)} \\cos{\\left(I \\right)}\\end{matrix}\\right]$"
      ],
      "text/plain": [
       "⎡       2       2       ⎤\n",
       "⎢  3⋅sin (I)⋅sin (θ)   1⎥\n",
       "⎢- ───────────────── + ─⎥\n",
       "⎢          2           2⎥\n",
       "⎢                       ⎥\n",
       "⎢    2                  ⎥\n",
       "⎢-sin (I)⋅sin(θ)⋅cos(θ) ⎥\n",
       "⎢                       ⎥\n",
       "⎣ sin(I)⋅sin(θ)⋅cos(I)  ⎦"
      ]
     },
     "execution_count": 35,
     "metadata": {},
     "output_type": "execute_result"
    }
   ],
   "source": [
    "simplify(f_B/(-3*J2*R**2*mu/r**4))"
   ]
  },
  {
   "cell_type": "markdown",
   "metadata": {},
   "source": [
    "$\\dot\\Omega$ due to $J_2$"
   ]
  },
  {
   "cell_type": "code",
   "execution_count": 33,
   "metadata": {},
   "outputs": [
    {
     "data": {
      "image/png": "[encoded data removed]",
      "text/latex": [
       "$$- \\frac{3 J_{2} R^{2} \\mu}{h r^{3}} \\sin^{2}{\\left (\\theta \\right )} \\cos{\\left (I \\right )}$$"
      ],
      "text/plain": [
       "       2      2           \n",
       "-3⋅J₂⋅R ⋅μ⋅sin (θ)⋅cos(I) \n",
       "──────────────────────────\n",
       "              3           \n",
       "           h⋅r            "
      ]
     },
     "execution_count": 33,
     "metadata": {},
     "output_type": "execute_result"
    }
   ],
   "source": [
    "OdJ2 = r*sin(th)/h/sin(I)*f_B[2]\n",
    "OdJ2"
   ]
  },
  {
   "cell_type": "code",
   "execution_count": 34,
   "metadata": {},
   "outputs": [
    {
     "data": {
      "image/png": "[encoded data removed]",
      "text/latex": [
       "$$- \\frac{3 J_{2} R^{2} \\mu \\sin^{2}{\\left (\\theta \\right )} \\cos{\\left (I \\right )}}{h r^{3} \\left(- \\dot{\\Omega} \\cos{\\left (I \\right )} + \\frac{h}{r^{2}}\\right)}$$"
      ],
      "text/plain": [
       "       2      2           \n",
       "-3⋅J₂⋅R ⋅μ⋅sin (θ)⋅cos(I) \n",
       "──────────────────────────\n",
       "     3 ⎛             h ⎞  \n",
       "  h⋅r ⋅⎜-Ω̇⋅cos(I) + ──⎟  \n",
       "       ⎜              2⎟  \n",
       "       ⎝             r ⎠  "
      ]
     },
     "execution_count": 34,
     "metadata": {},
     "output_type": "execute_result"
    }
   ],
   "source": [
    "dOdJ2dth = OdJ2/(h/r**2 - Od*cos(I))\n",
    "dOdJ2dth"
   ]
  },
  {
   "cell_type": "code",
   "execution_count": 35,
   "metadata": {},
   "outputs": [
    {
     "data": {
      "image/png": "[encoded data removed]",
      "text/latex": [
       "$$- \\frac{3 J_{2} R^{2}}{2 l^{2}} \\cos{\\left (I \\right )}$$"
      ],
      "text/plain": [
       "       2        \n",
       "-3⋅J₂⋅R ⋅cos(I) \n",
       "────────────────\n",
       "         2      \n",
       "      2⋅l       "
      ]
     },
     "execution_count": 35,
     "metadata": {},
     "output_type": "execute_result"
    }
   ],
   "source": [
    "simplify(integrate(-3*J2*(R/ell)**2*cos(I)*sin(th)**2*(1 + e*cos(th-w)),(th,0,2*pi)))/2/pi"
   ]
  },
  {
   "cell_type": "code",
   "execution_count": 36,
   "metadata": {},
   "outputs": [
    {
     "data": {
      "image/png": "[encoded data removed]",
      "text/latex": [
       "$$- \\frac{3 J_{2} R^{2} \\mu}{h r^{3}} \\sin^{2}{\\left (\\theta \\right )} \\cos{\\left (I \\right )}$$"
      ],
      "text/plain": [
       "       2      2           \n",
       "-3⋅J₂⋅R ⋅μ⋅sin (θ)⋅cos(I) \n",
       "──────────────────────────\n",
       "              3           \n",
       "           h⋅r            "
      ]
     },
     "execution_count": 36,
     "metadata": {},
     "output_type": "execute_result"
    }
   ],
   "source": [
    "diff(U1.subs(phi,acos(sin(I)*sin(th))),I)/h/sin(I)"
   ]
  },
  {
   "cell_type": "markdown",
   "metadata": {},
   "source": [
    "$\\dot\\omega$ due to $J_2$"
   ]
  },
  {
   "cell_type": "code",
   "execution_count": 37,
   "metadata": {},
   "outputs": [
    {
     "data": {
      "image/png": "[encoded data removed]",
      "text/latex": [
       "$$- \\frac{J_{2} R^{2} \\mu}{2 r^{3}} \\left(3 \\sin^{2}{\\left (I \\right )} \\sin^{2}{\\left (\\theta \\right )} - 1\\right)$$"
      ],
      "text/plain": [
       "     2   ⎛     2       2       ⎞ \n",
       "-J₂⋅R ⋅μ⋅⎝3⋅sin (I)⋅sin (θ) - 1⎠ \n",
       "─────────────────────────────────\n",
       "                  3              \n",
       "               2⋅r               "
      ]
     },
     "execution_count": 37,
     "metadata": {},
     "output_type": "execute_result"
    }
   ],
   "source": [
    "U1a = simplify(U1.subs([(phi,acos(sin(I)*sin(th)))])); \n",
    "U1a"
   ]
  },
  {
   "cell_type": "code",
   "execution_count": 38,
   "metadata": {},
   "outputs": [
    {
     "data": {
      "image/png": "[encoded data removed]",
      "text/latex": [
       "$$\\frac{3 J_{2} R^{2} \\sqrt{\\mu} \\sin^{2}{\\left (\\theta \\right )} \\cos^{2}{\\left (I \\right )}}{\\sqrt{a} r^{3} \\sqrt{- e^{2} + 1}}$$"
      ],
      "text/plain": [
       "      2       2       2   \n",
       "3⋅J₂⋅R ⋅√μ⋅sin (θ)⋅cos (I)\n",
       "──────────────────────────\n",
       "            __________    \n",
       "       3   ╱    2         \n",
       "   √a⋅r ⋅╲╱  - e  + 1     "
      ]
     },
     "execution_count": 38,
     "metadata": {},
     "output_type": "execute_result"
    }
   ],
   "source": [
    "dwJ2 = simplify( 1/sqrt(a*mu) *(sqrt(1-e**2)/e*diff(U1a,e) -  diff(U1a,I)/sqrt(1-e**2)/tan(I)))\n",
    "dwJ2"
   ]
  },
  {
   "cell_type": "code",
   "execution_count": null,
   "metadata": {},
   "outputs": [],
   "source": []
  },
  {
   "cell_type": "markdown",
   "metadata": {},
   "source": [
    "Time Averaging"
   ]
  },
  {
   "cell_type": "code",
   "execution_count": 39,
   "metadata": {},
   "outputs": [
    {
     "data": {
      "image/png": "[encoded data removed]",
      "text/latex": [
       "$$\\frac{J_{2} R^{2} \\mu}{2 a^{3} \\left(e^{2} - 1\\right)^{3}} \\left(e \\cos{\\left (\\omega - \\theta \\right )} + 1\\right)^{3} \\left(3 \\sin^{2}{\\left (I \\right )} \\sin^{2}{\\left (\\theta \\right )} - 1\\right)$$"
      ],
      "text/plain": [
       "    2                     3 ⎛     2       2       ⎞\n",
       "J₂⋅R ⋅μ⋅(e⋅cos(ω - θ) + 1) ⋅⎝3⋅sin (I)⋅sin (θ) - 1⎠\n",
       "───────────────────────────────────────────────────\n",
       "                                3                  \n",
       "                      3 ⎛ 2    ⎞                   \n",
       "                   2⋅a ⋅⎝e  - 1⎠                   "
      ]
     },
     "execution_count": 39,
     "metadata": {},
     "output_type": "execute_result"
    }
   ],
   "source": [
    "U1b = simplify(U1.subs([(phi,acos(sin(I)*sin(th))),(r,a*(1-e**2)/(1+e*cos(th-w)))]));U1b"
   ]
  },
  {
   "cell_type": "code",
   "execution_count": 40,
   "metadata": {},
   "outputs": [
    {
     "data": {
      "image/png": "[encoded data removed]",
      "text/latex": [
       "$$2 \\pi$$"
      ],
      "text/plain": [
       "2⋅π"
      ]
     },
     "execution_count": 40,
     "metadata": {},
     "output_type": "execute_result"
    }
   ],
   "source": [
    "simplify(integrate((1+e*cos(nu)),(nu,0,2*pi)))"
   ]
  },
  {
   "cell_type": "code",
   "execution_count": 41,
   "metadata": {},
   "outputs": [
    {
     "data": {
      "image/png": "[encoded data removed]",
      "text/latex": [
       "$$\\pi$$"
      ],
      "text/plain": [
       "π"
      ]
     },
     "execution_count": 41,
     "metadata": {},
     "output_type": "execute_result"
    }
   ],
   "source": [
    "simplify(integrate((1+e*cos(nu))*(sin(w+nu)**2),(nu,0,2*pi)))"
   ]
  },
  {
   "cell_type": "code",
   "execution_count": 42,
   "metadata": {},
   "outputs": [
    {
     "data": {
      "image/png": "[encoded data removed]",
      "text/latex": [
       "$$\\left [ \\frac{\\mu \\dot{r} \\left(e \\cos{\\left (\\nu \\right )} + 1\\right)^{2}}{e h^{2} \\sin{\\left (\\nu \\right )}}\\right ]$$"
      ],
      "text/plain": [
       "⎡                   2⎤\n",
       "⎢μ⋅ṙ⋅(e⋅cos(ν) + 1) ⎥\n",
       "⎢────────────────────⎥\n",
       "⎢       2            ⎥\n",
       "⎣    e⋅h ⋅sin(ν)     ⎦"
      ]
     },
     "execution_count": 42,
     "metadata": {},
     "output_type": "execute_result"
    }
   ],
   "source": [
    "solve(difftotal(h**2/mu/(1 + e*cos(nu)),t,{nu:nud})-rd,nud)"
   ]
  },
  {
   "cell_type": "code",
   "execution_count": 43,
   "metadata": {},
   "outputs": [
    {
     "data": {
      "image/png": "[encoded data removed]",
      "text/latex": [
       "$$- \\frac{J_{2} R^{2} \\mu \\left(\\frac{3}{2} \\sin^{2}{\\left (I \\right )} - 1\\right)}{2 a^{3} \\left(- e^{2} + 1\\right)}$$"
      ],
      "text/plain": [
       "         ⎛     2       ⎞ \n",
       "     2   ⎜3⋅sin (I)    ⎟ \n",
       "-J₂⋅R ⋅μ⋅⎜───────── - 1⎟ \n",
       "         ⎝    2        ⎠ \n",
       "─────────────────────────\n",
       "        3 ⎛   2    ⎞     \n",
       "     2⋅a ⋅⎝- e  + 1⎠     "
      ]
     },
     "execution_count": 43,
     "metadata": {},
     "output_type": "execute_result"
    }
   ],
   "source": [
    "U1sec = -J2*mu*R**2/2/a**3/(1-e**2)**(3/2)*(3*sin(I)**2/2-1);U1sec"
   ]
  },
  {
   "cell_type": "code",
   "execution_count": 44,
   "metadata": {},
   "outputs": [
    {
     "data": {
      "image/png": "[encoded data removed]",
      "text/latex": [
       "$$- \\frac{3 J_{2} R^{2} \\sqrt{\\mu} \\cos{\\left (I \\right )}}{2 a^{\\frac{7}{2}} \\left(- e^{2} + 1\\right)^{\\frac{3}{2}}}$$"
      ],
      "text/plain": [
       "       2            \n",
       "-3⋅J₂⋅R ⋅√μ⋅cos(I)  \n",
       "────────────────────\n",
       "                 3/2\n",
       "   7/2 ⎛   2    ⎞   \n",
       "2⋅a   ⋅⎝- e  + 1⎠   "
      ]
     },
     "execution_count": 44,
     "metadata": {},
     "output_type": "execute_result"
    }
   ],
   "source": [
    "simplify(diff(U1sec,I)/sqrt(mu*a*(1-e**2))/sin(I))"
   ]
  }
 ],
 "metadata": {
  "kernelspec": {
   "display_name": "Python 3 (ipykernel)",
   "language": "python",
   "name": "python3"
  },
  "language_info": {
   "codemirror_mode": {
    "name": "ipython",
    "version": 3
   },
   "file_extension": ".py",
   "mimetype": "text/x-python",
   "name": "python",
   "nbconvert_exporter": "python",
   "pygments_lexer": "ipython3",
   "version": "3.9.9"
  }
 },
 "nbformat": 4,
 "nbformat_minor": 4
}
