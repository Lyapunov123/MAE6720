{
 "cells": [
  {
   "cell_type": "code",
   "execution_count": 1,
   "metadata": {},
   "outputs": [],
   "source": [
    "from miscpy.utils.sympyhelpers import *\n",
    "init_printing()"
   ]
  },
  {
   "cell_type": "code",
   "execution_count": 2,
   "metadata": {},
   "outputs": [],
   "source": [
    "C0,C1,C2,C3,C4,C5,e2,e3,vpi2,vpi3,a2,a3,mu2,mu3,n2,m1,m2,m3,I2,I3,l2,l3 = \\\n",
    "symbols('C_0,C_1,C_2,C_3,C_4,C_5,e_2,e_3,varpi_2,varpi_3,a_2,a_3,mu_2,mu_3,\\\n",
    "         n_2,m_1,m_2,m_3,I_2,I_3,lambda_2,lambda_3',real=True)\n",
    "s,k,alpha = symbols('s,k,alpha',real=True)"
   ]
  },
  {
   "cell_type": "markdown",
   "metadata": {},
   "source": [
    "Secular Terms"
   ]
  },
  {
   "cell_type": "code",
   "execution_count": 3,
   "metadata": {},
   "outputs": [
    {
     "data": {
      "image/png": "[encoded data removed]",
      "text/latex": [
       "$\\displaystyle C_{0} + C_{1} \\left(e_{2}^{2} + e_{3}^{2}\\right) + C_{2} \\sin^{2}{\\left(\\frac{I_{2}}{2} \\right)} + C_{3} e_{2} e_{3} \\cos{\\left(\\varpi_{2} - \\varpi_{3} \\right)}$"
      ],
      "text/plain": [
       "        ⎛  2     2⎞         2⎛I₂⎞                                \n",
       "C₀ + C₁⋅⎝e₂  + e₃ ⎠ + C₂⋅sin ⎜──⎟ + C₃⋅e₂⋅e₃⋅cos(varpi₂ - varpi₃)\n",
       "                             ⎝2 ⎠                                "
      ]
     },
     "execution_count": 3,
     "metadata": {},
     "output_type": "execute_result"
    }
   ],
   "source": [
    "R_D = C0 + C1*(e2**2+e3**2) + C2*sin(I2/2)**2 + C3*e2*e3*cos(vpi3-vpi2)\n",
    "R_D"
   ]
  },
  {
   "cell_type": "code",
   "execution_count": 4,
   "metadata": {},
   "outputs": [],
   "source": [
    "R = mu3/a3*R_D"
   ]
  },
  {
   "cell_type": "code",
   "execution_count": 5,
   "metadata": {},
   "outputs": [
    {
     "data": {
      "image/png": "[encoded data removed]",
      "text/latex": [
       "$$\\frac{C_{3} e_{3} \\mu_{3}}{a_{2}^{2} a_{3} n_{2}} \\sin{\\left (\\varpi_{2} - \\varpi_{3} \\right )}$$"
      ],
      "text/plain": [
       "C₃⋅e₃⋅μ₃⋅sin(varpi₂ - varpi₃)\n",
       "─────────────────────────────\n",
       "            2                \n",
       "          a₂ ⋅a₃⋅n₂          "
      ]
     },
     "execution_count": 5,
     "metadata": {},
     "output_type": "execute_result"
    }
   ],
   "source": [
    "de = diff(R,vpi2)/(-n2*a2**2*e2)\n",
    "de"
   ]
  },
  {
   "cell_type": "code",
   "execution_count": 6,
   "metadata": {},
   "outputs": [
    {
     "data": {
      "image/png": "[encoded data removed]",
      "text/latex": [
       "$$\\frac{\\mu_{3}}{a_{2}^{2} a_{3} e_{2} n_{2}} \\left(2 C_{1} e_{2} + C_{3} e_{3} \\cos{\\left (\\varpi_{2} - \\varpi_{3} \\right )}\\right)$$"
      ],
      "text/plain": [
       "μ₃⋅(2⋅C₁⋅e₂ + C₃⋅e₃⋅cos(varpi₂ - varpi₃))\n",
       "─────────────────────────────────────────\n",
       "                 2                       \n",
       "               a₂ ⋅a₃⋅e₂⋅n₂              "
      ]
     },
     "execution_count": 6,
     "metadata": {},
     "output_type": "execute_result"
    }
   ],
   "source": [
    "dvpi = diff(R,e2)/n2/a2**2/e2\n",
    "simplify(dvpi)"
   ]
  },
  {
   "cell_type": "code",
   "execution_count": 7,
   "metadata": {},
   "outputs": [
    {
     "data": {
      "image/png": "[encoded data removed]",
      "text/latex": [
       "$$\\frac{C_{2} \\mu_{3}}{2 a_{2}^{2} a_{3} n_{2}}$$"
      ],
      "text/plain": [
       "   C₂⋅μ₃   \n",
       "───────────\n",
       "    2      \n",
       "2⋅a₂ ⋅a₃⋅n₂"
      ]
     },
     "execution_count": 7,
     "metadata": {},
     "output_type": "execute_result"
    }
   ],
   "source": [
    "dO = simplify(diff(R,I2)/n2/a2**2/sin(I2))\n",
    "dO"
   ]
  },
  {
   "cell_type": "code",
   "execution_count": 8,
   "metadata": {},
   "outputs": [
    {
     "data": {
      "image/png": "[encoded data removed]",
      "text/latex": [
       "$$\\frac{C_{3} a_{2} e_{3} m_{3}}{a_{3} m_{1}} n_{2} \\sin{\\left (\\varpi_{2} - \\varpi_{3} \\right )}$$"
      ],
      "text/plain": [
       "C₃⋅a₂⋅e₃⋅m₃⋅n₂⋅sin(varpi₂ - varpi₃)\n",
       "───────────────────────────────────\n",
       "               a₃⋅m₁               "
      ]
     },
     "execution_count": 8,
     "metadata": {},
     "output_type": "execute_result"
    }
   ],
   "source": [
    "de.subs(mu3,n2**2*a2**3*m3/m1)"
   ]
  },
  {
   "cell_type": "markdown",
   "metadata": {},
   "source": [
    "Resonant Terms"
   ]
  },
  {
   "cell_type": "code",
   "execution_count": 9,
   "metadata": {},
   "outputs": [
    {
     "data": {
      "image/png": "[encoded data removed]",
      "text/latex": [
       "$$C_{4} e_{2} \\cos{\\left (\\lambda_{2} - 2 \\lambda_{3} + \\varpi_{2} \\right )} + C_{5} e_{3} \\cos{\\left (\\lambda_{2} - 2 \\lambda_{3} + \\varpi_{3} \\right )}$$"
      ],
      "text/plain": [
       "C₄⋅e₂⋅cos(λ₂ - 2⋅λ₃ + varpi₂) + C₅⋅e₃⋅cos(λ₂ - 2⋅λ₃ + varpi₃)"
      ]
     },
     "execution_count": 9,
     "metadata": {},
     "output_type": "execute_result"
    }
   ],
   "source": [
    "R_D_res = C4*e2*cos(2*l3 - l2 - vpi2) + C5*e3*cos(2*l3 - l2 - vpi3)\n",
    "R_D_res"
   ]
  },
  {
   "cell_type": "code",
   "execution_count": 10,
   "metadata": {},
   "outputs": [
    {
     "data": {
      "image/png": "[encoded data removed]",
      "text/latex": [
       "$$- 2 e_{3} \\cos{\\left (\\lambda_{2} - 2 \\lambda_{3} + \\varpi_{3} \\right )}$$"
      ],
      "text/plain": [
       "-2⋅e₃⋅cos(λ₂ - 2⋅λ₃ + varpi₃)"
      ]
     },
     "execution_count": 10,
     "metadata": {},
     "output_type": "execute_result"
    }
   ],
   "source": [
    "R_E2 = -2*e3*cos(2*l3 - l2 - vpi3)\n",
    "R_E2"
   ]
  },
  {
   "cell_type": "code",
   "execution_count": 11,
   "metadata": {},
   "outputs": [
    {
     "data": {
      "image/png": "[encoded data removed]",
      "text/latex": [
       "$$\\frac{\\mu_{3}}{a_{3}} \\left(C_{4} e_{2} \\cos{\\left (\\lambda_{2} - 2 \\lambda_{3} + \\varpi_{2} \\right )} + e_{3} \\left(C_{5} - \\frac{2 a_{2}}{a_{3}}\\right) \\cos{\\left (\\lambda_{2} - 2 \\lambda_{3} + \\varpi_{3} \\right )}\\right)$$"
      ],
      "text/plain": [
       "   ⎛                                   ⎛     2⋅a₂⎞                        ⎞\n",
       "μ₃⋅⎜C₄⋅e₂⋅cos(λ₂ - 2⋅λ₃ + varpi₂) + e₃⋅⎜C₅ - ────⎟⋅cos(λ₂ - 2⋅λ₃ + varpi₃)⎟\n",
       "   ⎝                                   ⎝      a₃ ⎠                        ⎠\n",
       "───────────────────────────────────────────────────────────────────────────\n",
       "                                     a₃                                    "
      ]
     },
     "execution_count": 11,
     "metadata": {},
     "output_type": "execute_result"
    }
   ],
   "source": [
    "R2 = mu3/a3*R_D_res.subs(C5,C5-2*a2/a3)\n",
    "R2"
   ]
  },
  {
   "cell_type": "code",
   "execution_count": 12,
   "metadata": {},
   "outputs": [
    {
     "data": {
      "image/png": "[encoded data removed]",
      "text/latex": [
       "$$- \\frac{2 \\mu_{3}}{a_{2} a_{3}^{2} n_{2}} \\left(C_{4} a_{3} e_{2} \\sin{\\left (\\lambda_{2} - 2 \\lambda_{3} + \\varpi_{2} \\right )} + e_{3} \\left(C_{5} a_{3} - 2 a_{2}\\right) \\sin{\\left (\\lambda_{2} - 2 \\lambda_{3} + \\varpi_{3} \\right )}\\right)$$"
      ],
      "text/plain": [
       "-2⋅μ₃⋅(C₄⋅a₃⋅e₂⋅sin(λ₂ - 2⋅λ₃ + varpi₂) + e₃⋅(C₅⋅a₃ - 2⋅a₂)⋅sin(λ₂ - 2⋅λ₃ + va\n",
       "──────────────────────────────────────────────────────────────────────────────\n",
       "                                           2                                  \n",
       "                                      a₂⋅a₃ ⋅n₂                               \n",
       "\n",
       "rpi₃)) \n",
       "───────\n",
       "       \n",
       "       "
      ]
     },
     "execution_count": 12,
     "metadata": {},
     "output_type": "execute_result"
    }
   ],
   "source": [
    "da2 = diff(R2,l2)*2/n2/a2\n",
    "simplify(da2)"
   ]
  },
  {
   "cell_type": "code",
   "execution_count": 13,
   "metadata": {},
   "outputs": [
    {
     "data": {
      "image/png": "[encoded data removed]",
      "text/latex": [
       "$$\\frac{C_{4} \\mu_{3}}{a_{2}^{2} a_{3} n_{2}} \\sin{\\left (\\lambda_{2} - 2 \\lambda_{3} + \\varpi_{2} \\right )}$$"
      ],
      "text/plain": [
       "C₄⋅μ₃⋅sin(λ₂ - 2⋅λ₃ + varpi₂)\n",
       "─────────────────────────────\n",
       "            2                \n",
       "          a₂ ⋅a₃⋅n₂          "
      ]
     },
     "execution_count": 13,
     "metadata": {},
     "output_type": "execute_result"
    }
   ],
   "source": [
    "de2 = diff(R2,vpi2)/(-n2*a2**2*e2)\n",
    "de2"
   ]
  },
  {
   "cell_type": "code",
   "execution_count": 14,
   "metadata": {},
   "outputs": [
    {
     "data": {
      "image/png": "[encoded data removed]",
      "text/latex": [
       "$$\\frac{C_{4} \\mu_{3}}{a_{2}^{2} a_{3} e_{2} n_{2}} \\cos{\\left (\\lambda_{2} - 2 \\lambda_{3} + \\varpi_{2} \\right )}$$"
      ],
      "text/plain": [
       "C₄⋅μ₃⋅cos(λ₂ - 2⋅λ₃ + varpi₂)\n",
       "─────────────────────────────\n",
       "           2                 \n",
       "         a₂ ⋅a₃⋅e₂⋅n₂        "
      ]
     },
     "execution_count": 14,
     "metadata": {},
     "output_type": "execute_result"
    }
   ],
   "source": [
    "dvpi2 = diff(R2,e2)/n2/a2**2/e2\n",
    "dvpi2"
   ]
  },
  {
   "cell_type": "code",
   "execution_count": 15,
   "metadata": {},
   "outputs": [
    {
     "data": {
      "image/png": "[encoded data removed]",
      "text/latex": [
       "$$0$$"
      ],
      "text/plain": [
       "0"
      ]
     },
     "execution_count": 15,
     "metadata": {},
     "output_type": "execute_result"
    }
   ],
   "source": [
    "dO2 = simplify(diff(R2,I2)/n2/a2**2/sin(I2))\n",
    "dO2"
   ]
  },
  {
   "cell_type": "markdown",
   "metadata": {},
   "source": [
    "Calculating Laplace Coefficients"
   ]
  },
  {
   "cell_type": "code",
   "execution_count": 102,
   "metadata": {},
   "outputs": [],
   "source": [
    "lc = lambda s,k,alpha: 2*RisingFactorial(s,abs(k))*hyper([s,s+abs(k)],[abs(k)+1],alpha**2)*alpha**abs(k)/factorial(abs(k))"
   ]
  },
  {
   "cell_type": "code",
   "execution_count": 103,
   "metadata": {},
   "outputs": [],
   "source": [
    "Dlc = lambda s,k,alpha: s*(lc(s+1,k-1,alpha) - 2*alpha*lc(s+1,k,alpha)\\\n",
    "                           + lc(s+1,k+1,alpha))"
   ]
  },
  {
   "cell_type": "code",
   "execution_count": 104,
   "metadata": {},
   "outputs": [],
   "source": [
    "D2lc = lambda s,k,alpha: s*(Dlc(s+1,k-1,alpha) - 2*alpha*Dlc(s+1,k,alpha)\\\n",
    "                           + Dlc(s+1,k+1,alpha) - 2*lc(s+1,k,alpha))"
   ]
  },
  {
   "cell_type": "code",
   "execution_count": 105,
   "metadata": {},
   "outputs": [
    {
     "data": {
      "image/png": "[encoded data removed]",
      "text/latex": [
       "$$\\frac{2 \\alpha^{\\left|{k}\\right|}}{\\left(\\left|{k}\\right|\\right)!} {s}^{\\left(\\left|{k}\\right|\\right)} {{}_{2}F_{1}\\left(\\begin{matrix} s, s + \\left|{k}\\right| \\\\ \\left|{k}\\right| + 1 \\end{matrix}\\middle| {\\alpha^{2}} \\right)}$$"
      ],
      "text/plain": [
       "   │k│                          ┌─  ⎛s, s + │k│ │  2⎞\n",
       "2⋅α   ⋅RisingFactorial(s, │k│)⋅ ├─  ⎜           │ α ⎟\n",
       "                               2╵ 1 ⎝ │k│ + 1   │   ⎠\n",
       "─────────────────────────────────────────────────────\n",
       "                        (│k│)!                       "
      ]
     },
     "execution_count": 105,
     "metadata": {},
     "output_type": "execute_result"
    }
   ],
   "source": [
    "lc(s,k,alpha)"
   ]
  },
  {
   "cell_type": "code",
   "execution_count": 106,
   "metadata": {},
   "outputs": [
    {
     "data": {
      "image/png": "[encoded data removed]",
      "text/latex": [
       "$$s \\left(- \\frac{4 \\alpha}{\\left(\\left|{k}\\right|\\right)!} \\alpha^{\\left|{k}\\right|} {\\left(s + 1\\right)}^{\\left(\\left|{k}\\right|\\right)} {{}_{2}F_{1}\\left(\\begin{matrix} s + 1, s + \\left|{k}\\right| + 1 \\\\ \\left|{k}\\right| + 1 \\end{matrix}\\middle| {\\alpha^{2}} \\right)} + \\frac{2 \\alpha^{\\left|{k - 1}\\right|}}{\\left(\\left|{k - 1}\\right|\\right)!} {\\left(s + 1\\right)}^{\\left(\\left|{k - 1}\\right|\\right)} {{}_{2}F_{1}\\left(\\begin{matrix} s + 1, s + \\left|{k - 1}\\right| + 1 \\\\ \\left|{k - 1}\\right| + 1 \\end{matrix}\\middle| {\\alpha^{2}} \\right)} + \\frac{2 \\alpha^{\\left|{k + 1}\\right|}}{\\left(\\left|{k + 1}\\right|\\right)!} {\\left(s + 1\\right)}^{\\left(\\left|{k + 1}\\right|\\right)} {{}_{2}F_{1}\\left(\\begin{matrix} s + 1, s + \\left|{k + 1}\\right| + 1 \\\\ \\left|{k + 1}\\right| + 1 \\end{matrix}\\middle| {\\alpha^{2}} \\right)}\\right)$$"
      ],
      "text/plain": [
       "  ⎛       │k│                              ┌─  ⎛s + 1, s + │k│ + 1 │  2⎞      \n",
       "  ⎜  4⋅α⋅α   ⋅RisingFactorial(s + 1, │k│)⋅ ├─  ⎜                   │ α ⎟   2⋅α\n",
       "  ⎜                                       2╵ 1 ⎝     │k│ + 1       │   ⎠      \n",
       "s⋅⎜- ─────────────────────────────────────────────────────────────────── + ───\n",
       "  ⎝                                 (│k│)!                                    \n",
       "\n",
       "│k - 1│                                  ┌─  ⎛s + 1, s + │k - 1│ + 1 │  2⎞    \n",
       "       ⋅RisingFactorial(s + 1, │k - 1│)⋅ ├─  ⎜                       │ α ⎟   2\n",
       "                                        2╵ 1 ⎝     │k - 1│ + 1       │   ⎠    \n",
       "────────────────────────────────────────────────────────────────────────── + ─\n",
       "                               (│k - 1│)!                                     \n",
       "\n",
       "  │k + 1│                                  ┌─  ⎛s + 1, s + │k + 1│ + 1 │  2⎞⎞\n",
       "⋅α       ⋅RisingFactorial(s + 1, │k + 1│)⋅ ├─  ⎜                       │ α ⎟⎟\n",
       "                                          2╵ 1 ⎝     │k + 1│ + 1       │   ⎠⎟\n",
       "────────────────────────────────────────────────────────────────────────────⎟\n",
       "                                 (│k + 1│)!                                 ⎠"
      ]
     },
     "execution_count": 106,
     "metadata": {},
     "output_type": "execute_result"
    }
   ],
   "source": [
    "Dlc(s,k,alpha)"
   ]
  },
  {
   "cell_type": "code",
   "execution_count": 107,
   "metadata": {},
   "outputs": [
    {
     "data": {
      "image/png": "[encoded data removed]",
      "text/latex": [
       "$$s \\left(- 2 \\alpha \\left(s + 1\\right) \\left(- \\frac{4 \\alpha}{\\left(\\left|{k}\\right|\\right)!} \\alpha^{\\left|{k}\\right|} {\\left(s + 2\\right)}^{\\left(\\left|{k}\\right|\\right)} {{}_{2}F_{1}\\left(\\begin{matrix} s + 2, s + \\left|{k}\\right| + 2 \\\\ \\left|{k}\\right| + 1 \\end{matrix}\\middle| {\\alpha^{2}} \\right)} + \\frac{2 \\alpha^{\\left|{k - 1}\\right|}}{\\left(\\left|{k - 1}\\right|\\right)!} {\\left(s + 2\\right)}^{\\left(\\left|{k - 1}\\right|\\right)} {{}_{2}F_{1}\\left(\\begin{matrix} s + 2, s + \\left|{k - 1}\\right| + 2 \\\\ \\left|{k - 1}\\right| + 1 \\end{matrix}\\middle| {\\alpha^{2}} \\right)} + \\frac{2 \\alpha^{\\left|{k + 1}\\right|}}{\\left(\\left|{k + 1}\\right|\\right)!} {\\left(s + 2\\right)}^{\\left(\\left|{k + 1}\\right|\\right)} {{}_{2}F_{1}\\left(\\begin{matrix} s + 2, s + \\left|{k + 1}\\right| + 2 \\\\ \\left|{k + 1}\\right| + 1 \\end{matrix}\\middle| {\\alpha^{2}} \\right)}\\right) - \\frac{4 \\alpha^{\\left|{k}\\right|}}{\\left(\\left|{k}\\right|\\right)!} {\\left(s + 1\\right)}^{\\left(\\left|{k}\\right|\\right)} {{}_{2}F_{1}\\left(\\begin{matrix} s + 1, s + \\left|{k}\\right| + 1 \\\\ \\left|{k}\\right| + 1 \\end{matrix}\\middle| {\\alpha^{2}} \\right)} + \\left(s + 1\\right) \\left(- \\frac{4 \\alpha \\alpha^{\\left|{k - 1}\\right|}}{\\left(\\left|{k - 1}\\right|\\right)!} {\\left(s + 2\\right)}^{\\left(\\left|{k - 1}\\right|\\right)} {{}_{2}F_{1}\\left(\\begin{matrix} s + 2, s + \\left|{k - 1}\\right| + 2 \\\\ \\left|{k - 1}\\right| + 1 \\end{matrix}\\middle| {\\alpha^{2}} \\right)} + \\frac{2 \\alpha^{\\left|{k}\\right|}}{\\left(\\left|{k}\\right|\\right)!} {\\left(s + 2\\right)}^{\\left(\\left|{k}\\right|\\right)} {{}_{2}F_{1}\\left(\\begin{matrix} s + 2, s + \\left|{k}\\right| + 2 \\\\ \\left|{k}\\right| + 1 \\end{matrix}\\middle| {\\alpha^{2}} \\right)} + \\frac{2 \\alpha^{\\left|{k - 2}\\right|}}{\\left(\\left|{k - 2}\\right|\\right)!} {\\left(s + 2\\right)}^{\\left(\\left|{k - 2}\\right|\\right)} {{}_{2}F_{1}\\left(\\begin{matrix} s + 2, s + \\left|{k - 2}\\right| + 2 \\\\ \\left|{k - 2}\\right| + 1 \\end{matrix}\\middle| {\\alpha^{2}} \\right)}\\right) + \\left(s + 1\\right) \\left(- \\frac{4 \\alpha \\alpha^{\\left|{k + 1}\\right|}}{\\left(\\left|{k + 1}\\right|\\right)!} {\\left(s + 2\\right)}^{\\left(\\left|{k + 1}\\right|\\right)} {{}_{2}F_{1}\\left(\\begin{matrix} s + 2, s + \\left|{k + 1}\\right| + 2 \\\\ \\left|{k + 1}\\right| + 1 \\end{matrix}\\middle| {\\alpha^{2}} \\right)} + \\frac{2 \\alpha^{\\left|{k}\\right|}}{\\left(\\left|{k}\\right|\\right)!} {\\left(s + 2\\right)}^{\\left(\\left|{k}\\right|\\right)} {{}_{2}F_{1}\\left(\\begin{matrix} s + 2, s + \\left|{k}\\right| + 2 \\\\ \\left|{k}\\right| + 1 \\end{matrix}\\middle| {\\alpha^{2}} \\right)} + \\frac{2 \\alpha^{\\left|{k + 2}\\right|}}{\\left(\\left|{k + 2}\\right|\\right)!} {\\left(s + 2\\right)}^{\\left(\\left|{k + 2}\\right|\\right)} {{}_{2}F_{1}\\left(\\begin{matrix} s + 2, s + \\left|{k + 2}\\right| + 2 \\\\ \\left|{k + 2}\\right| + 1 \\end{matrix}\\middle| {\\alpha^{2}} \\right)}\\right)\\right)$$"
      ],
      "text/plain": [
       "  ⎛              ⎛       │k│                              ┌─  ⎛s + 2, s + │k│ \n",
       "  ⎜              ⎜  4⋅α⋅α   ⋅RisingFactorial(s + 2, │k│)⋅ ├─  ⎜               \n",
       "  ⎜              ⎜                                       2╵ 1 ⎝     │k│ + 1   \n",
       "s⋅⎜- 2⋅α⋅(s + 1)⋅⎜- ──────────────────────────────────────────────────────────\n",
       "  ⎝              ⎝                                 (│k│)!                     \n",
       "\n",
       "+ 2 │  2⎞      │k - 1│                                  ┌─  ⎛s + 2, s + │k - 1\n",
       "    │ α ⎟   2⋅α       ⋅RisingFactorial(s + 2, │k - 1│)⋅ ├─  ⎜                 \n",
       "    │   ⎠                                              2╵ 1 ⎝     │k - 1│ + 1 \n",
       "───────── + ──────────────────────────────────────────────────────────────────\n",
       "                                              (│k - 1│)!                      \n",
       "\n",
       "│ + 2 │  2⎞      │k + 1│                                  ┌─  ⎛s + 2, s + │k +\n",
       "      │ α ⎟   2⋅α       ⋅RisingFactorial(s + 2, │k + 1│)⋅ ├─  ⎜               \n",
       "      │   ⎠                                              2╵ 1 ⎝     │k + 1│ + \n",
       "─────────── + ────────────────────────────────────────────────────────────────\n",
       "                                                (│k + 1│)!                    \n",
       "\n",
       " 1│ + 2 │  2⎞⎞      │k│                              ┌─  ⎛s + 1, s + │k│ + 1 │\n",
       "        │ α ⎟⎟   4⋅α   ⋅RisingFactorial(s + 1, │k│)⋅ ├─  ⎜                   │\n",
       "1       │   ⎠⎟                                      2╵ 1 ⎝     │k│ + 1       │\n",
       "─────────────⎟ - ─────────────────────────────────────────────────────────────\n",
       "             ⎠                                 (│k│)!                         \n",
       "\n",
       "  2⎞           ⎛       │k - 1│                                  ┌─  ⎛s + 2, s \n",
       " α ⎟           ⎜  4⋅α⋅α       ⋅RisingFactorial(s + 2, │k - 1│)⋅ ├─  ⎜         \n",
       "   ⎠           ⎜                                               2╵ 1 ⎝     │k -\n",
       "──── + (s + 1)⋅⎜- ────────────────────────────────────────────────────────────\n",
       "               ⎝                                     (│k - 1│)!               \n",
       "\n",
       "+ │k - 1│ + 2 │  2⎞      │k│                              ┌─  ⎛s + 2, s + │k│ \n",
       "              │ α ⎟   2⋅α   ⋅RisingFactorial(s + 2, │k│)⋅ ├─  ⎜               \n",
       " 1│ + 1       │   ⎠                                      2╵ 1 ⎝     │k│ + 1   \n",
       "─────────────────── + ────────────────────────────────────────────────────────\n",
       "                                                    (│k│)!                    \n",
       "\n",
       "+ 2 │  2⎞      │k - 2│                                  ┌─  ⎛s + 2, s + │k - 2\n",
       "    │ α ⎟   2⋅α       ⋅RisingFactorial(s + 2, │k - 2│)⋅ ├─  ⎜                 \n",
       "    │   ⎠                                              2╵ 1 ⎝     │k - 2│ + 1 \n",
       "───────── + ──────────────────────────────────────────────────────────────────\n",
       "                                              (│k - 2│)!                      \n",
       "\n",
       "│ + 2 │  2⎞⎞           ⎛       │k + 1│                                  ┌─  ⎛s\n",
       "      │ α ⎟⎟           ⎜  4⋅α⋅α       ⋅RisingFactorial(s + 2, │k + 1│)⋅ ├─  ⎜ \n",
       "      │   ⎠⎟           ⎜                                               2╵ 1 ⎝ \n",
       "───────────⎟ + (s + 1)⋅⎜- ────────────────────────────────────────────────────\n",
       "           ⎠           ⎝                                     (│k + 1│)!       \n",
       "\n",
       " + 2, s + │k + 1│ + 2 │  2⎞      │k│                              ┌─  ⎛s + 2, \n",
       "                      │ α ⎟   2⋅α   ⋅RisingFactorial(s + 2, │k│)⋅ ├─  ⎜       \n",
       "    │k + 1│ + 1       │   ⎠                                      2╵ 1 ⎝     │k\n",
       "─────────────────────────── + ────────────────────────────────────────────────\n",
       "                                                            (│k│)!            \n",
       "\n",
       "s + │k│ + 2 │  2⎞      │k + 2│                                  ┌─  ⎛s + 2, s \n",
       "            │ α ⎟   2⋅α       ⋅RisingFactorial(s + 2, │k + 2│)⋅ ├─  ⎜         \n",
       "│ + 1       │   ⎠                                              2╵ 1 ⎝     │k +\n",
       "───────────────── + ──────────────────────────────────────────────────────────\n",
       "                                                      (│k + 2│)!              \n",
       "\n",
       "+ │k + 2│ + 2 │  2⎞⎞⎞\n",
       "              │ α ⎟⎟⎟\n",
       " 2│ + 1       │   ⎠⎟⎟\n",
       "───────────────────⎟⎟\n",
       "                   ⎠⎠"
      ]
     },
     "execution_count": 107,
     "metadata": {},
     "output_type": "execute_result"
    }
   ],
   "source": [
    "D2lc(s,k,alpha)"
   ]
  },
  {
   "cell_type": "markdown",
   "metadata": {},
   "source": [
    "a′ = 1, e′ = 0.048, π′ = 0, I′ = 0, and m′/mc = 1/1047.355 with starting conditions a0 = 0.192, e0 = 0.1, π0 = 130◦, 􏱐0 = 200◦, λ0 = 300◦, and λ′ = 0◦. Substitution of α = a/a′ = 0.192 in Eqs. (6.166)–(6.168) gives C1 = 0.0148335, C2 = −0.0593339, and C3 = −0.00708688; note that 2C1 = −C2/2."
   ]
  },
  {
   "cell_type": "code",
   "execution_count": 117,
   "metadata": {},
   "outputs": [
    {
     "data": {
      "image/png": "[encoded data removed]",
      "text/latex": [
       "$$1.00941213754557$$"
      ],
      "text/plain": [
       "1.00941213754557"
      ]
     },
     "execution_count": 117,
     "metadata": {},
     "output_type": "execute_result"
    }
   ],
   "source": [
    "C0 = lambda alpha: 0.5*lc(0.5,0,alpha).evalf()\n",
    "C0(0.192)"
   ]
  },
  {
   "cell_type": "code",
   "execution_count": 118,
   "metadata": {},
   "outputs": [
    {
     "data": {
      "image/png": "[encoded data removed]",
      "text/latex": [
       "$$0.0148334873583162$$"
      ],
      "text/plain": [
       "0.0148334873583162"
      ]
     },
     "execution_count": 118,
     "metadata": {},
     "output_type": "execute_result"
    }
   ],
   "source": [
    "C1 = lambda alpha: (2*alpha*Dlc(0.5,0,alpha).evalf() + alpha**2*D2lc(0.5,0,alpha).evalf())/8.0\n",
    "C1(0.192)"
   ]
  },
  {
   "cell_type": "code",
   "execution_count": 119,
   "metadata": {},
   "outputs": [
    {
     "data": {
      "image/png": "[encoded data removed]",
      "text/latex": [
       "$$-0.0593339494332647$$"
      ],
      "text/plain": [
       "-0.0593339494332647"
      ]
     },
     "execution_count": 119,
     "metadata": {},
     "output_type": "execute_result"
    }
   ],
   "source": [
    "C2 = lambda alpha: lc(1.5,1,alpha).evalf()*-0.5*alpha\n",
    "C2(0.192)"
   ]
  },
  {
   "cell_type": "code",
   "execution_count": 120,
   "metadata": {},
   "outputs": [
    {
     "data": {
      "image/png": "[encoded data removed]",
      "text/latex": [
       "$$-0.00708688099496398$$"
      ],
      "text/plain": [
       "-0.00708688099496398"
      ]
     },
     "execution_count": 120,
     "metadata": {},
     "output_type": "execute_result"
    }
   ],
   "source": [
    "C3 = lambda alpha: (2*lc(0.5,1,alpha).evalf() - 2*alpha*Dlc(0.5,1,alpha).evalf() - \\\n",
    "      alpha**2*D2lc(0.5,1,alpha).evalf())/4.\n",
    "C3(0.192)"
   ]
  },
  {
   "cell_type": "code",
   "execution_count": 121,
   "metadata": {},
   "outputs": [
    {
     "data": {
      "image/png": "[encoded data removed]",
      "text/latex": [
       "$$3.46944695195361 \\cdot 10^{-18}$$"
      ],
      "text/plain": [
       "3.46944695195361e-18"
      ]
     },
     "execution_count": 121,
     "metadata": {},
     "output_type": "execute_result"
    }
   ],
   "source": [
    "2*C1(0.192) + C2(0.192)/2"
   ]
  },
  {
   "cell_type": "code",
   "execution_count": null,
   "metadata": {},
   "outputs": [],
   "source": []
  }
 ],
 "metadata": {
  "kernelspec": {
   "display_name": "Python 3",
   "language": "python",
   "name": "python3"
  },
  "language_info": {
   "codemirror_mode": {
    "name": "ipython",
    "version": 3
   },
   "file_extension": ".py",
   "mimetype": "text/x-python",
   "name": "python",
   "nbconvert_exporter": "python",
   "pygments_lexer": "ipython3",
   "version": "3.7.6"
  }
 },
 "nbformat": 4,
 "nbformat_minor": 2
}
