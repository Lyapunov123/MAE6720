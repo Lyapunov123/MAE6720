{
 "cells": [
  {
   "cell_type": "code",
   "execution_count": 1,
   "id": "5ab87cef-b90d-4ce8-8a04-688a31402417",
   "metadata": {},
   "outputs": [],
   "source": [
    "from miscpy.utils.sympyhelpers import *\n",
    "init_printing()"
   ]
  },
  {
   "cell_type": "code",
   "execution_count": 40,
   "id": "23ffd880-d195-47b1-b42c-098dff099e4b",
   "metadata": {},
   "outputs": [],
   "source": [
    "l,m,Rb,r,th,ph,mu,Clm,Slm,r1,r2,r3,rho = \\\n",
    "symbols(\"ell,m,R_\\mathscr{B},r,theta,phi,mu,C_\\ell^m,S_\\ell^m,r1,r2,r3,rho\")"
   ]
  },
  {
   "cell_type": "markdown",
   "id": "5f525894-8c98-48f1-b0a8-e6326024646d",
   "metadata": {},
   "source": [
    "Define $U$ as the argument of the double summation of the perturbing potential term.  That is: $$\\mathbf{f} = \\boldsymbol\\nabla \\sum_{\\ell=2}^\\infty \\sum_{m = 0}^\\ell U$$"
   ]
  },
  {
   "cell_type": "code",
   "execution_count": 16,
   "id": "1ef3fceb-4530-4158-b41f-602905728c1e",
   "metadata": {},
   "outputs": [
    {
     "data": {
      "image/png": "[encoded data removed]",
      "text/latex": [
       "$\\displaystyle \\frac{\\mu \\left(\\frac{R_\\mathscr{B}}{r}\\right)^{\\ell} \\left(C^{m}_{\\ell} \\cos{\\left(m \\theta \\right)} + S^{m}_{\\ell} \\sin{\\left(m \\theta \\right)}\\right) P_{\\ell}^{\\left(m\\right)}\\left(\\cos{\\left(\\phi \\right)}\\right)}{r}$"
      ],
      "text/plain": [
       "                 ell                                                                         \n",
       "  ⎛R_\\mathscr{B}⎞                                                                            \n",
       "μ⋅⎜─────────────⎟   ⋅(C_\\ell__m⋅cos(m⋅θ) + S_\\ell__m⋅sin(m⋅θ))⋅assoc_legendre(ell, m, cos(φ))\n",
       "  ⎝      r      ⎠                                                                            \n",
       "─────────────────────────────────────────────────────────────────────────────────────────────\n",
       "                                              r                                              "
      ]
     },
     "execution_count": 16,
     "metadata": {},
     "output_type": "execute_result"
    }
   ],
   "source": [
    "U = mu/r*(Rb/r)**l*assoc_legendre(l,m,cos(ph))*(Clm*cos(m*th)+ Slm*sin(m*th))\n",
    "U"
   ]
  },
  {
   "cell_type": "markdown",
   "id": "cde96e38-f0f5-485e-af12-981eb3298439",
   "metadata": {},
   "source": [
    "The spherical frame ($\\mathcal{S}$) in which we'll carry out the gradient is a $C_2(\\phi)C_3(\\theta)$ rotation from the rotating, planet-fixed frame (e.g., Earth-Centered,Earth-Fixed frame) $\\mathcal{G_B}$"
   ]
  },
  {
   "cell_type": "code",
   "execution_count": 12,
   "id": "0aafc686-2240-455f-a1d1-350c835a2253",
   "metadata": {},
   "outputs": [
    {
     "data": {
      "text/latex": [
       "$\\displaystyle \\left[\\begin{matrix}\\cos{\\left(\\phi \\right)} \\cos{\\left(\\theta \\right)} & \\sin{\\left(\\theta \\right)} \\cos{\\left(\\phi \\right)} & - \\sin{\\left(\\phi \\right)}\\\\- \\sin{\\left(\\theta \\right)} & \\cos{\\left(\\theta \\right)} & 0\\\\\\sin{\\left(\\phi \\right)} \\cos{\\left(\\theta \\right)} & \\sin{\\left(\\phi \\right)} \\sin{\\left(\\theta \\right)} & \\cos{\\left(\\phi \\right)}\\end{matrix}\\right]$"
      ],
      "text/plain": [
       "⎡cos(φ)⋅cos(θ)  sin(θ)⋅cos(φ)  -sin(φ)⎤\n",
       "⎢                                     ⎥\n",
       "⎢   -sin(θ)        cos(θ)         0   ⎥\n",
       "⎢                                     ⎥\n",
       "⎣sin(φ)⋅cos(θ)  sin(φ)⋅sin(θ)  cos(φ) ⎦"
      ]
     },
     "execution_count": 12,
     "metadata": {},
     "output_type": "execute_result"
    }
   ],
   "source": [
    "SCGb = rotMat(2,ph)*rotMat(3,th)\n",
    "SCGb"
   ]
  },
  {
   "cell_type": "code",
   "execution_count": 14,
   "id": "151bf53e-3f45-4ee4-bc8c-7b97be999c05",
   "metadata": {},
   "outputs": [
    {
     "data": {
      "text/latex": [
       "$\\displaystyle \\left[\\begin{matrix}r \\sin{\\left(\\phi \\right)} \\cos{\\left(\\theta \\right)}\\\\r \\sin{\\left(\\phi \\right)} \\sin{\\left(\\theta \\right)}\\\\r \\cos{\\left(\\phi \\right)}\\end{matrix}\\right]$"
      ],
      "text/plain": [
       "⎡r⋅sin(φ)⋅cos(θ)⎤\n",
       "⎢               ⎥\n",
       "⎢r⋅sin(φ)⋅sin(θ)⎥\n",
       "⎢               ⎥\n",
       "⎣   r⋅cos(φ)    ⎦"
      ]
     },
     "execution_count": 14,
     "metadata": {},
     "output_type": "execute_result"
    }
   ],
   "source": [
    "r_Gb = SCGb.transpose()*Matrix([0,0,r])\n",
    "r_Gb"
   ]
  },
  {
   "cell_type": "markdown",
   "id": "26be8883-135c-4388-b956-aeee2f1b522b",
   "metadata": {},
   "source": [
    "We will evaluate the specific perturbing force due to the geopotential using a proxy function $$R \\triangleq \\sum_{\\ell=2}^\\infty \\sum_{m = 0}^\\ell U$$"
   ]
  },
  {
   "cell_type": "code",
   "execution_count": 30,
   "id": "d367dddf-70b3-4ae9-9216-192beea22b5f",
   "metadata": {},
   "outputs": [
    {
     "data": {
      "text/latex": [
       "$\\displaystyle \\left[\\begin{matrix}\\frac{r \\sin{\\left(\\phi \\right)} \\cos{\\left(\\theta \\right)} \\frac{\\partial}{\\partial r} R{\\left(r,\\theta,\\phi \\right)} + \\cos{\\left(\\phi \\right)} \\cos{\\left(\\theta \\right)} \\frac{\\partial}{\\partial \\phi} R{\\left(r,\\theta,\\phi \\right)} - \\frac{\\sin{\\left(\\theta \\right)} \\frac{\\partial}{\\partial \\theta} R{\\left(r,\\theta,\\phi \\right)}}{\\sin{\\left(\\phi \\right)}}}{r}\\\\\\frac{r \\sin{\\left(\\phi \\right)} \\sin{\\left(\\theta \\right)} \\frac{\\partial}{\\partial r} R{\\left(r,\\theta,\\phi \\right)} + \\sin{\\left(\\theta \\right)} \\cos{\\left(\\phi \\right)} \\frac{\\partial}{\\partial \\phi} R{\\left(r,\\theta,\\phi \\right)} + \\frac{\\cos{\\left(\\theta \\right)} \\frac{\\partial}{\\partial \\theta} R{\\left(r,\\theta,\\phi \\right)}}{\\sin{\\left(\\phi \\right)}}}{r}\\\\\\cos{\\left(\\phi \\right)} \\frac{\\partial}{\\partial r} R{\\left(r,\\theta,\\phi \\right)} - \\frac{\\sin{\\left(\\phi \\right)} \\frac{\\partial}{\\partial \\phi} R{\\left(r,\\theta,\\phi \\right)}}{r}\\end{matrix}\\right]$"
      ],
      "text/plain": [
       "⎡                                                                       ∂             ⎤\n",
       "⎢                                                                sin(θ)⋅──(R(r, θ, φ))⎥\n",
       "⎢                ∂                              ∂                       ∂θ            ⎥\n",
       "⎢r⋅sin(φ)⋅cos(θ)⋅──(R(r, θ, φ)) + cos(φ)⋅cos(θ)⋅──(R(r, θ, φ)) - ─────────────────────⎥\n",
       "⎢                ∂r                             ∂φ                       sin(φ)       ⎥\n",
       "⎢─────────────────────────────────────────────────────────────────────────────────────⎥\n",
       "⎢                                          r                                          ⎥\n",
       "⎢                                                                                     ⎥\n",
       "⎢                                                                       ∂             ⎥\n",
       "⎢                                                                cos(θ)⋅──(R(r, θ, φ))⎥\n",
       "⎢                ∂                              ∂                       ∂θ            ⎥\n",
       "⎢r⋅sin(φ)⋅sin(θ)⋅──(R(r, θ, φ)) + sin(θ)⋅cos(φ)⋅──(R(r, θ, φ)) + ─────────────────────⎥\n",
       "⎢                ∂r                             ∂φ                       sin(φ)       ⎥\n",
       "⎢─────────────────────────────────────────────────────────────────────────────────────⎥\n",
       "⎢                                          r                                          ⎥\n",
       "⎢                                                                                     ⎥\n",
       "⎢                                                   ∂                                 ⎥\n",
       "⎢                                            sin(φ)⋅──(R(r, θ, φ))                    ⎥\n",
       "⎢                           ∂                       ∂φ                                ⎥\n",
       "⎢                    cos(φ)⋅──(R(r, θ, φ)) - ─────────────────────                    ⎥\n",
       "⎣                           ∂r                         r                              ⎦"
      ]
     },
     "execution_count": 30,
     "metadata": {},
     "output_type": "execute_result"
    }
   ],
   "source": [
    "R = Function('R')(r,th,ph)\n",
    "gradR = simplify(SCGb.transpose()*Matrix([diff(R,ph)/r, diff(R,th)/r/sin(ph), diff(R,r)]))\n",
    "gradR"
   ]
  },
  {
   "cell_type": "code",
   "execution_count": 48,
   "id": "cb562ef2-a547-469e-97f4-80bd85c03c5f",
   "metadata": {},
   "outputs": [],
   "source": [
    "fB_Gb = gradR.subs(sin(ph),rho/r).subs(cos(ph),r3/r).subs(sin(th),r2/rho).subs(cos(th),r1/rho)"
   ]
  },
  {
   "cell_type": "markdown",
   "id": "1b7e104f-bfd7-45f0-996c-18874b278a93",
   "metadata": {},
   "source": [
    "Here are the three components of the specific perturbing force in the $\\mathcal{G_B}$ frame:"
   ]
  },
  {
   "cell_type": "code",
   "execution_count": 50,
   "id": "607f3e33-652b-4329-a2cb-de5715912350",
   "metadata": {},
   "outputs": [
    {
     "data": {
      "image/png": "[encoded data removed]",
      "text/latex": [
       "$\\displaystyle - \\frac{r_{2} \\frac{\\partial}{\\partial \\theta} R{\\left(r,\\theta,\\phi \\right)}}{\\rho^{2}} + \\frac{r_{1} \\frac{\\partial}{\\partial r} R{\\left(r,\\theta,\\phi \\right)}}{r} + \\frac{r_{1} r_{3} \\frac{\\partial}{\\partial \\phi} R{\\left(r,\\theta,\\phi \\right)}}{r^{2} \\rho}$"
      ],
      "text/plain": [
       "     ∂                   ∂                      ∂             \n",
       "  r₂⋅──(R(r, θ, φ))   r₁⋅──(R(r, θ, φ))   r₁⋅r₃⋅──(R(r, θ, φ))\n",
       "     ∂θ                  ∂r                     ∂φ            \n",
       "- ───────────────── + ───────────────── + ────────────────────\n",
       "           2                  r                    2          \n",
       "          ρ                                       r ⋅ρ        "
      ]
     },
     "execution_count": 50,
     "metadata": {},
     "output_type": "execute_result"
    }
   ],
   "source": [
    "simplify(fB_Gb[0])"
   ]
  },
  {
   "cell_type": "code",
   "execution_count": 51,
   "id": "3b955988-9b1b-4ae0-9ac3-1d0ece485cab",
   "metadata": {},
   "outputs": [
    {
     "data": {
      "image/png": "[encoded data removed]",
      "text/latex": [
       "$\\displaystyle \\frac{r_{1} \\frac{\\partial}{\\partial \\theta} R{\\left(r,\\theta,\\phi \\right)}}{\\rho^{2}} + \\frac{r_{2} \\frac{\\partial}{\\partial r} R{\\left(r,\\theta,\\phi \\right)}}{r} + \\frac{r_{2} r_{3} \\frac{\\partial}{\\partial \\phi} R{\\left(r,\\theta,\\phi \\right)}}{r^{2} \\rho}$"
      ],
      "text/plain": [
       "   ∂                   ∂                      ∂             \n",
       "r₁⋅──(R(r, θ, φ))   r₂⋅──(R(r, θ, φ))   r₂⋅r₃⋅──(R(r, θ, φ))\n",
       "   ∂θ                  ∂r                     ∂φ            \n",
       "───────────────── + ───────────────── + ────────────────────\n",
       "         2                  r                    2          \n",
       "        ρ                                       r ⋅ρ        "
      ]
     },
     "execution_count": 51,
     "metadata": {},
     "output_type": "execute_result"
    }
   ],
   "source": [
    "simplify(fB_Gb[1])"
   ]
  },
  {
   "cell_type": "code",
   "execution_count": 52,
   "id": "c2d37436-0b62-4c2f-8d85-20e39fe0d4aa",
   "metadata": {},
   "outputs": [
    {
     "data": {
      "image/png": "[encoded data removed]",
      "text/latex": [
       "$\\displaystyle \\frac{r r_{3} \\frac{\\partial}{\\partial r} R{\\left(r,\\theta,\\phi \\right)} - \\rho \\frac{\\partial}{\\partial \\phi} R{\\left(r,\\theta,\\phi \\right)}}{r^{2}}$"
      ],
      "text/plain": [
       "     ∂                  ∂             \n",
       "r⋅r₃⋅──(R(r, θ, φ)) - ρ⋅──(R(r, θ, φ))\n",
       "     ∂r                 ∂φ            \n",
       "──────────────────────────────────────\n",
       "                   2                  \n",
       "                  r                   "
      ]
     },
     "execution_count": 52,
     "metadata": {},
     "output_type": "execute_result"
    }
   ],
   "source": [
    "simplify(fB_Gb[2])"
   ]
  },
  {
   "cell_type": "markdown",
   "id": "1b9fd9ea-2463-49e8-a808-ac667fa8e197",
   "metadata": {},
   "source": [
    "Finally, we need to evaluate the partials of $U$.  Each of these three terms should be interpreted as the argument to the original double summation.  That is, for the $R$ in the force expression above, $$\\frac{\\partial R}{\\partial r} \\equiv \\sum_{\\ell=2}^\\infty \\sum_{m = 0}^\\ell \\frac{\\partial R}{\\partial r}"
   ]
  },
  {
   "cell_type": "code",
   "execution_count": 54,
   "id": "1e079302-b0d7-48e6-965f-0f3f5418db24",
   "metadata": {},
   "outputs": [
    {
     "data": {
      "image/png": "[encoded data removed]",
      "text/latex": [
       "$\\displaystyle - \\frac{\\mu \\left(\\frac{R_\\mathscr{B}}{r}\\right)^{\\ell} \\left(\\ell + 1\\right) \\left(C^{m}_{\\ell} \\cos{\\left(m \\theta \\right)} + S^{m}_{\\ell} \\sin{\\left(m \\theta \\right)}\\right) P_{\\ell}^{\\left(m\\right)}\\left(\\cos{\\left(\\phi \\right)}\\right)}{r^{2}}$"
      ],
      "text/plain": [
       "                  ell                                                                                    \n",
       "   ⎛R_\\mathscr{B}⎞                                                                                       \n",
       "-μ⋅⎜─────────────⎟   ⋅(ell + 1)⋅(C_\\ell__m⋅cos(m⋅θ) + S_\\ell__m⋅sin(m⋅θ))⋅assoc_legendre(ell, m, cos(φ)) \n",
       "   ⎝      r      ⎠                                                                                       \n",
       "─────────────────────────────────────────────────────────────────────────────────────────────────────────\n",
       "                                                     2                                                   \n",
       "                                                    r                                                    "
      ]
     },
     "execution_count": 54,
     "metadata": {},
     "output_type": "execute_result"
    }
   ],
   "source": [
    "simplify(diff(U,r))"
   ]
  },
  {
   "cell_type": "code",
   "execution_count": 55,
   "id": "402f67d3-4ea6-4e46-b8a3-cfebe3e62a68",
   "metadata": {},
   "outputs": [
    {
     "data": {
      "image/png": "[encoded data removed]",
      "text/latex": [
       "$\\displaystyle \\frac{m \\mu \\left(\\frac{R_\\mathscr{B}}{r}\\right)^{\\ell} \\left(- C^{m}_{\\ell} \\sin{\\left(m \\theta \\right)} + S^{m}_{\\ell} \\cos{\\left(m \\theta \\right)}\\right) P_{\\ell}^{\\left(m\\right)}\\left(\\cos{\\left(\\phi \\right)}\\right)}{r}$"
      ],
      "text/plain": [
       "                   ell                                                                          \n",
       "    ⎛R_\\mathscr{B}⎞                                                                             \n",
       "m⋅μ⋅⎜─────────────⎟   ⋅(-C_\\ell__m⋅sin(m⋅θ) + S_\\ell__m⋅cos(m⋅θ))⋅assoc_legendre(ell, m, cos(φ))\n",
       "    ⎝      r      ⎠                                                                             \n",
       "────────────────────────────────────────────────────────────────────────────────────────────────\n",
       "                                               r                                                "
      ]
     },
     "execution_count": 55,
     "metadata": {},
     "output_type": "execute_result"
    }
   ],
   "source": [
    "simplify(diff(U,th))"
   ]
  },
  {
   "cell_type": "code",
   "execution_count": 58,
   "id": "53080264-22af-401e-be80-be532a783388",
   "metadata": {},
   "outputs": [
    {
     "data": {
      "image/png": "[encoded data removed]",
      "text/latex": [
       "$\\displaystyle \\frac{\\mu \\left(\\frac{R_\\mathscr{B}}{r}\\right)^{\\ell} \\left(C^{m}_{\\ell} \\cos{\\left(m \\theta \\right)} + S^{m}_{\\ell} \\sin{\\left(m \\theta \\right)}\\right) \\left(\\ell \\cos{\\left(\\phi \\right)} P_{\\ell}^{\\left(m\\right)}\\left(\\cos{\\left(\\phi \\right)}\\right) - \\left(\\ell + m\\right) P_{\\ell - 1}^{\\left(m\\right)}\\left(\\cos{\\left(\\phi \\right)}\\right)\\right)}{r \\sin{\\left(\\phi \\right)}}$"
      ],
      "text/plain": [
       "                 ell                                                                                                            \n",
       "  ⎛R_\\mathscr{B}⎞                                                                                                               \n",
       "μ⋅⎜─────────────⎟   ⋅(C_\\ell__m⋅cos(m⋅θ) + S_\\ell__m⋅sin(m⋅θ))⋅(ell⋅cos(φ)⋅assoc_legendre(ell, m, cos(φ)) - (ell + m)⋅assoc_lege\n",
       "  ⎝      r      ⎠                                                                                                               \n",
       "────────────────────────────────────────────────────────────────────────────────────────────────────────────────────────────────\n",
       "                                                                         r⋅sin(φ)                                               \n",
       "\n",
       "                         \n",
       "                         \n",
       "ndre(ell - 1, m, cos(φ)))\n",
       "                         \n",
       "─────────────────────────\n",
       "                         "
      ]
     },
     "execution_count": 58,
     "metadata": {},
     "output_type": "execute_result"
    }
   ],
   "source": [
    "simplify(diff(U,ph))"
   ]
  },
  {
   "cell_type": "code",
   "execution_count": null,
   "id": "bc94e655-4257-46c3-a207-a105d640d1b3",
   "metadata": {},
   "outputs": [],
   "source": []
  }
 ],
 "metadata": {
  "kernelspec": {
   "display_name": "Python 3 (ipykernel)",
   "language": "python",
   "name": "python3"
  },
  "language_info": {
   "codemirror_mode": {
    "name": "ipython",
    "version": 3
   },
   "file_extension": ".py",
   "mimetype": "text/x-python",
   "name": "python",
   "nbconvert_exporter": "python",
   "pygments_lexer": "ipython3",
   "version": "3.9.10"
  }
 },
 "nbformat": 4,
 "nbformat_minor": 5
}
